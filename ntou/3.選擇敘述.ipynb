{
 "cells": [
  {
   "attachments": {
    "relation_operator.png": {
     "image/png": "[encoded data removed]"
    }
   },
   "cell_type": "markdown",
   "metadata": {},
   "source": [
    "# <span style=color:blue> Selection Control Statements </span>\n",
    "### Syntax\n",
    "\n",
    "<span style=color:blue> if-statement </span>\n",
    "\n",
    "        if condition:\n",
    "            if_part\n",
    "\n",
    "<span style=color:blue> if-else statement </span>\n",
    "\n",
    "        if condition:\n",
    "            if_part\n",
    "        else:\n",
    "            else_part\n",
    "\n",
    "<span style=color:blue> nested if statement </span>\n",
    "\n",
    "        if condition1:\n",
    "            if_part1\n",
    "        elif condition2:\n",
    "            if_part2\n",
    "        elif condition3:\n",
    "            ...\n",
    "        else:\n",
    "            else_part\n",
    "            \n",
    "+ We can use the relational operators to compare integer numbers, floating-point numbers, strings, and many other types.\n",
    "\n",
    "        if name == \"Jane\":\n",
    "            print(\"Hello boss\")\n",
    "\n",
    "\n",
    "+ <span style=color:red>The relational operator == is used to check if two variables have the same value.</span>\n",
    " ![relation_operator.png](attachment:relation_operator.png)\n",
    "+ <span style=color:red>The \"is\" operator is used to check if two variables are the same object.</span>\n",
    "  + In C, $*x==*y$ is used to check if two pointers x and y point to variables having the same value, and x == y is used to check if pointers x and y point to the same object.\n"
   ]
  },
  {
   "cell_type": "code",
   "execution_count": 1,
   "metadata": {},
   "outputs": [
    {
     "name": "stdout",
     "output_type": "stream",
     "text": [
      "age?20\n",
      "An old people\n",
      "outside the if block\n"
     ]
    }
   ],
   "source": [
    "young= 0\n",
    "old  = 0\n",
    "age  = int(input('age?'))\n",
    "if age<=18:\n",
    "    young += 1\n",
    "    print(\"A young people\")\n",
    "else:\n",
    "    old+=1\n",
    "    print(\"An old people\")\n",
    "print(\"outside the if block\")"
   ]
  },
  {
   "cell_type": "code",
   "execution_count": 2,
   "metadata": {},
   "outputs": [
    {
     "name": "stdout",
     "output_type": "stream",
     "text": [
      "a and b have the same value\n",
      "a and b are not the same object\n",
      "a and c are the same object\n",
      "a and c have the same value\n"
     ]
    }
   ],
   "source": [
    "a = [1,2,3,4]; b = [1,2,3,4]; c = a\n",
    "\n",
    "if a == b:\n",
    "    print(\"a and b have the same value\")\n",
    "    \n",
    "if a is not b:\n",
    "    print(\"a and b are not the same object\")\n",
    "    \n",
    "if a is c:\n",
    "    print(\"a and c are the same object\")\n",
    "    \n",
    "if a == c:\n",
    "    print(\"a and c have the same value\")\n"
   ]
  },
  {
   "cell_type": "markdown",
   "metadata": {},
   "source": [
    "-----\n",
    "# <span style=color:blue> The bool Type </span>\n",
    "+ The Boolean type in Python is denoted as bool, the true and false values are denoted by True and False, respectively.\n",
    "+ In Python, Boolean operators include\n",
    "  * and\n",
    "  * or\n",
    "  * not\n",
    "+ Like C, Python also uses short-circuit evaluation to evaluate Boolean expressions.\n",
    "\n",
    "        if x!=0 and 1000//x>10:\n",
    "            do_some_thing\n",
    "        \n",
    "        is equivalent to\n",
    "        \n",
    "        if x!=0:\n",
    "            if 1000//x>10:\n",
    "                do_some_thing\n",
    "                \n",
    "        the former is more readable!!"
   ]
  },
  {
   "cell_type": "code",
   "execution_count": 9,
   "metadata": {},
   "outputs": [
    {
     "name": "stdout",
     "output_type": "stream",
     "text": [
      "1. Hello, Jane!\n",
      "2. Hello, Jane!\n"
     ]
    }
   ],
   "source": [
    "name = \"Jane\"\n",
    "\n",
    "# This is shorthand for checking if name evaluates to True:\n",
    "if name:\n",
    "    print(\"1. Hello, {}!\".format(name))\n",
    "    \n",
    "# It means the same thing as this:\n",
    "if bool(name) == True:\n",
    "    print(\"2. Hello, {}!\".format(name))\n",
    "    \n",
    "# name == True gets a False:\n",
    "if name == True:\n",
    "    print(\"3. Hello, {}!\".format(name))\n"
   ]
  },
  {
   "attachments": {
    "precedence_rules_for_boolean.png": {
     "image/png": "[encoded data removed]"
    }
   },
   "cell_type": "markdown",
   "metadata": {},
   "source": [
    "## <span style=color:blue> The Precedence Rules for Boolean Expressions </span>\n",
    "+ Precedence rules for operators:\n",
    " ![precedence_rules_for_boolean.png](attachment:precedence_rules_for_boolean.png)\n",
    "+ Use brackets properly to clarify expressions!!\n",
    "+ Use DeMorgan’s law to write more efficient and readable Boolean expressions!!\n",
    "  1. NOT (a AND b) = (NOT a) OR (NOT b)\n",
    "  2. NOT (a OR b) = (NOT a) AND (NOT b)\n",
    "\n",
    "+ For example, the statement\n",
    "            if age<=0 or age > 120:\n",
    "                print(\"invalid age\")\n",
    "  is more readable than the statement\n",
    "            if not (age>0 and age <= 120):\n",
    "                print(\"invalid age\")      "
   ]
  },
  {
   "cell_type": "markdown",
   "metadata": {},
   "source": [
    "-----\n",
    "# <span style=color:blue> The None Value </span>\n",
    "+ In Python, None is a special value which means “nothing”. Its type is NoneType and only one None value exists at a time.\n",
    "+ None is evaluated to False in Boolean expressions."
   ]
  },
  {
   "cell_type": "code",
   "execution_count": 3,
   "metadata": {},
   "outputs": [
    {
     "name": "stdout",
     "output_type": "stream",
     "text": [
      "My string is None\n"
     ]
    }
   ],
   "source": [
    "my_string = None\n",
    "if my_string:\n",
    "    print(\"My string is {}\".format(my_string))\n",
    "else:\n",
    "    print(\"My string is None\")"
   ]
  },
  {
   "cell_type": "markdown",
   "metadata": {},
   "source": [
    "+ Check if a variable is None."
   ]
  },
  {
   "cell_type": "code",
   "execution_count": 4,
   "metadata": {},
   "outputs": [
    {
     "name": "stdout",
     "output_type": "stream",
     "text": [
      "True\n",
      "False\n",
      "True\n"
     ]
    }
   ],
   "source": [
    "x = None\n",
    "print(x is None) \n",
    "print(x is not None)\n",
    "print(x == None)"
   ]
  },
  {
   "cell_type": "code",
   "execution_count": 5,
   "metadata": {},
   "outputs": [
    {
     "name": "stdout",
     "output_type": "stream",
     "text": [
      "True\n",
      "True\n",
      "False\n",
      "True\n",
      "False\n"
     ]
    }
   ],
   "source": [
    "x = []\n",
    "y = []\n",
    "print(x is not None)\n",
    "print(x == [])\n",
    "print(x is [])\n",
    "print(x == y)\n",
    "print(x is y)"
   ]
  },
  {
   "cell_type": "markdown",
   "metadata": {},
   "source": [
    "-----\n",
    "# <span style=color:blue>Switch statements and dictionary-based dispatch</span>\n",
    "+ Python does not have the switch statement. In Python, we can use a technique called the dictionary-based dispatch to achieve similar results. \n",
    "  + A dictionary is a collection of key-value pairs, which provides fast retrieval of values by keys.\n",
    "\n",
    "#### Example 1:\n",
    "\n",
    "          DEPARTMENT_NAMES = {\n",
    "          \"CSC\": \"Computer Science\",\n",
    "          \"MAM\": \"Mathematics and Applied Mathematics\",\n",
    "          \"STA\": \"Statistical Sciences\", # Trailing commas like this are allowed in Python!\n",
    "          }\n",
    "          if course_code in DEPARTMENT_NAMES: # this tests whether the variable is one of the dictionary's keys\n",
    "              print(\"Department: {}\".format(DEPARTMENT_NAMES[course_code]))\n",
    "          else:\n",
    "              print(\"Unknown course code: {}\".format(course_code))\n",
    "              \n",
    "#### Example 2:\n",
    "\n",
    "          def reverse(string):\n",
    "              print(\"'{}' reversed is '{}'.\".format(string, string[::-1]))\n",
    "          def capitalise(string):\n",
    "              print(\"'{}' capitalised is '{}'.\".format(string, string.upper()))\n",
    "              \n",
    "          ACTIONS = {\n",
    "          \"r\": reverse, # use the function name without brackets to refer to the function without calling it\n",
    "          \"c\": capitalise,\n",
    "          }\n",
    "          \n",
    "          my_function = ACTIONS[my_action] # now we retrieve the function\n",
    "          my_function(my_string) # and now we call it\n"
   ]
  },
  {
   "cell_type": "markdown",
   "metadata": {},
   "source": [
    "-----\n",
    "# <span style=color:blue> The Conditional Operator</span>\n",
    "Python has a way to write a selection statement in a program like the ternary conditional operator ? :  in C.\n",
    "\n",
    "### Syntax\n",
    "\n",
    "<span style=color:red>true expression</span> if condition else <span style=color:red>false expression</span>\n",
    "\n",
    "### Example\n",
    "Mathematical formula:\n",
    "$\n",
    "y = \\begin{cases} x & \\text{if $x\\ge0$} \\\\\n",
    "                 0 & \\text{otherwise}\n",
    "    \\end{cases}\n",
    "$\n",
    "\n",
    "#### Python code 1:\n",
    "    y = x if x >= 0 else 0\n",
    "#### Python code 2:\n",
    "    if x>=0:\n",
    "        y=x\n",
    "    else:\n",
    "        y=0"
   ]
  },
  {
   "cell_type": "code",
   "execution_count": null,
   "metadata": {
    "collapsed": true
   },
   "outputs": [],
   "source": []
  }
 ],
 "metadata": {
  "kernelspec": {
   "display_name": "Python 3",
   "language": "python",
   "name": "python3"
  },
  "language_info": {
   "codemirror_mode": {
    "name": "ipython",
    "version": 3
   },
   "file_extension": ".py",
   "mimetype": "text/x-python",
   "name": "python",
   "nbconvert_exporter": "python",
   "pygments_lexer": "ipython3",
   "version": "3.5.4"
  }
 },
 "nbformat": 4,
 "nbformat_minor": 2
}
