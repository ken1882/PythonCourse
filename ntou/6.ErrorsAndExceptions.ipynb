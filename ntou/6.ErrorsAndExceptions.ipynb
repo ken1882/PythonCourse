{
 "cells": [
  {
   "cell_type": "markdown",
   "metadata": {},
   "source": [
    "# <span style=color:blue> Errors and Exceptions </span>\n",
    "### There may be three types of error in a Python program.\n",
    "+ Syntax errors: A good editor and Python can help you to figure out syntax errors;\n",
    "+ Runtime errors:  The Python interpreter can detect runtime errors and show you where the runtime error occurs;\n",
    "  + Some examples of Python runtime errors:\n",
    "     + division by zero\n",
    "     + performing an operation on incompatible types\n",
    "     + using an identifier which has not been defined\n",
    "     + accessing a list element, dictionary value or object attribute which doesn’t exist\n",
    "     + trying to access a file which doesn’t exist\n",
    "+ Logical errors: You must make use of debugging techniques and tools to find logical errors by yourselves."
   ]
  },
  {
   "cell_type": "markdown",
   "metadata": {},
   "source": [
    "-----\n",
    "# <span style=color:blue> Handling Exceptions </span>\n",
    "### Advantages of exception handling:\n",
    "+ Normal codes and codes for handling errors are separate.\n",
    "+ Exceptions can be passed along functions in the stack until they reach a function which handles them. The intermediate functions don’t need to have any error-handling code.\n",
    "+ Exceptions come with lots of useful error information:  traceback\n",
    "\n",
    "### Exception handling using Python\n",
    "+ The try-except block can be used to handle exceptions. If no except-blocks match the exception, the program will crash.\n",
    "        try:\n",
    "            age = int(input(\"Please enter your age: \"))\n",
    "            print(\"I see that you are {} years old.\".format(age))\n",
    "        except ValueError:\n",
    "            print(\"Hey, that wasn't a number!\")\n",
    " + The try-except block can handle multiple exceptions simultaneously.\n",
    "        try:\n",
    "            dividend = int(input(\"Please enter the dividend: \"))\n",
    "            divisor = int(input(\"Please enter the divisor: \"))\n",
    "            print(\"{} / {} = {}\".format(dividend, divisor, dividend/divisor))\n",
    "        except (ValueError, ZeroDivisionError): # a tuple of exceptions\n",
    "            print(\"Oops, something went wrong!\")\n",
    "+ Python tries to process every statement in the try-block and passes the flow of control to the except-block immediately when a ValueError arises.\n",
    "  + A ValueError can arise when the input string is not an integer number.\n",
    "        try:\n",
    "            dividend = int(input(\"Please enter the dividend: \"))\n",
    "            divisor = int(input(\"Please enter the divisor: \"))\n",
    "            print(\"{} / {} = {}\".format(dividend, divisor, dividend/divisor))\n",
    "        except ValueError:\n",
    "            print(\"The divisor and dividend have to be numbers!\")\n",
    "        except ZeroDivisionError:\n",
    "            print(\"The divisor may not be zero!\")\n",
    "        except:\n",
    "            print(\"default except must be at the last\")\n",
    "\n",
    "+ Each exception clause is checked one by one to see if the exception type matches. Once an exception type is matched, the remaining exception clause is ignored. Otherwise, this exception is unhandled and this program will crash.\n",
    "        try:\n",
    "            dividend = int(input(\"Please enter the dividend: \"))\n",
    "            divisor = int(input(\"Please enter the divisor: \"))\n",
    "            print(\"{} / {} = {}\".format(dividend, divisor, dividend/divisor))\n",
    "        except ValueError:\n",
    "            print(\"The divisor and dividend have to be numbers!\")\n",
    "        except ArithmeticError:\n",
    "            print(\"An arithmetic error occurs!\")\n",
    "        except ZeroDivisionError:\n",
    "            print(\"The divisor may not be zero!\")\n",
    "        except:\n",
    "            print(\"default except must be at the last\")\n",
    "\n",
    "+ For built-in exceptions, refer to https://docs.python.org/3/library/exceptions.html\n",
    "          \n",
    "            \n",
    "        BaseException\n",
    "            SystemExit\n",
    "            KeyboardInterrupt\n",
    "            GeneratorExit\n",
    "            Exception\n",
    "                StopIteration\n",
    "                StopAsyncIteration\n",
    "                ArithmeticError\n",
    "                    FloatingPointError\n",
    "                    OverflowError\n",
    "                    ZeroDivisionError\n",
    "            \n",
    " "
   ]
  },
  {
   "cell_type": "code",
   "execution_count": 1,
   "metadata": {},
   "outputs": [
    {
     "name": "stdout",
     "output_type": "stream",
     "text": [
      "Please enter the dividend: 4\n",
      "Please enter the divisor: 0\n",
      "An arithmetic error occurs!\n"
     ]
    }
   ],
   "source": [
    "try:\n",
    "    dividend = int(input(\"Please enter the dividend: \"))\n",
    "    divisor = int(input(\"Please enter the divisor: \"))\n",
    "    print(\"{} / {} = {}\".format(dividend, divisor, dividend/divisor))\n",
    "except ValueError:\n",
    "    print(\"The divisor and dividend have to be numbers!\")\n",
    "except ArithmeticError:\n",
    "    print(\"An arithmetic error occurs!\")\n",
    "except ZeroDivisionError:\n",
    "    print(\"The divisor may not be zero!\")\n",
    "except:\n",
    "    print(\"default except must be at the last\")"
   ]
  },
  {
   "cell_type": "code",
   "execution_count": 2,
   "metadata": {},
   "outputs": [
    {
     "name": "stdout",
     "output_type": "stream",
     "text": [
      "Please enter the dividend: 4\n",
      "Please enter the divisor: 0\n",
      "The divisor may not be zero!\n"
     ]
    }
   ],
   "source": [
    "# change the order of handling ZeroDivisionError and ArithmeticError\n",
    "try:\n",
    "    dividend = int(input(\"Please enter the dividend: \"))\n",
    "    divisor = int(input(\"Please enter the divisor: \"))\n",
    "    print(\"{} / {} = {}\".format(dividend, divisor, dividend/divisor))\n",
    "except ValueError:\n",
    "    print(\"The divisor and dividend have to be numbers!\")\n",
    "except ZeroDivisionError:\n",
    "    print(\"The divisor may not be zero!\")\n",
    "except ArithmeticError:\n",
    "    print(\"An arithmetic error occurs!\")\n",
    "except:\n",
    "    print(\"default except must be at the last\")"
   ]
  },
  {
   "cell_type": "markdown",
   "metadata": {},
   "source": [
    "#### Wrap a small block which may raise exceptions by a try-except block to handle specific exceptions.\n"
   ]
  },
  {
   "cell_type": "code",
   "execution_count": 3,
   "metadata": {},
   "outputs": [
    {
     "name": "stdout",
     "output_type": "stream",
     "text": [
      "Please enter the dividend: 4\n",
      "Please enter the divisor: 0\n",
      "The dividend may not be zero!\n"
     ]
    }
   ],
   "source": [
    "try:\n",
    "    dividend = int(input(\"Please enter the dividend: \"))\n",
    "except ValueError:\n",
    "    print(\"The dividend has to be a number!\")\n",
    "    \n",
    "try:\n",
    "    divisor = int(input(\"Please enter the divisor: \"))\n",
    "except ValueError:\n",
    "    print(\"The divisor has to be a number!\")\n",
    "    \n",
    "try:\n",
    "    print(\"{} / {} = {}\".format(dividend, divisor, dividend/divisor))\n",
    "except ZeroDivisionError:\n",
    "    print(\"The dividend may not be zero!\")\n"
   ]
  },
  {
   "cell_type": "markdown",
   "metadata": {},
   "source": [
    "-----\n",
    "# <span style=color:blue> The else and finally Statements </span>\n",
    "### The else-block is executed if the try-block does not raise an exception.\n",
    "        try:\n",
    "            age = int(input(\"Please enter your age: \"))\n",
    "        except ValueError:\n",
    "            print(\"Hey, that wasn't a number!\")\n",
    "        else:\n",
    "            print(\"I see that you are {} years old.\".format(age))\n",
    " ### The finally clause always be executed at the end of the try-except block.\n",
    "        try:\n",
    "            age = int(input(\"Please enter your age: \"))\n",
    "        except ValueError:\n",
    "            print(\"Hey, that wasn't a number!\")\n",
    "        else:\n",
    "            print(\"I see that you are {} years old.\".format(age))\n",
    "        finally:\n",
    "            # cleanup code\t\n",
    "            print(\"It was really nice talking to you. Goodbye!\")\n"
   ]
  },
  {
   "cell_type": "code",
   "execution_count": 4,
   "metadata": {},
   "outputs": [
    {
     "name": "stdout",
     "output_type": "stream",
     "text": [
      "---------- the input is 20abc ----------\n",
      "Hey, that wasn't a number!\n",
      "It was really nice talking to you. Goodbye!\n",
      "---------- the input is 20 ----------\n",
      "I see that you are 20 years old.\n",
      "It was really nice talking to you. Goodbye!\n"
     ]
    }
   ],
   "source": [
    "for in_str in ['20abc','20']:\n",
    "    print('-'*10+' the input is {} '.format(in_str)+'-'*10)\n",
    "    try:\n",
    "        age = int(in_str)\n",
    "    except ValueError:\n",
    "        print(\"Hey, that wasn't a number!\")\n",
    "    else:\n",
    "        print(\"I see that you are {} years old.\".format(age))\n",
    "    finally:\n",
    "        # cleanup code    \n",
    "        print(\"It was really nice talking to you. Goodbye!\")"
   ]
  },
  {
   "cell_type": "markdown",
   "metadata": {},
   "source": [
    "-----\n",
    "# <span style=color:blue> Using the Exception Object and Raising Exceptions </span>\n",
    "#### Python’s exception objects contain the error type and messages."
   ]
  },
  {
   "cell_type": "code",
   "execution_count": 5,
   "metadata": {},
   "outputs": [
    {
     "name": "stdout",
     "output_type": "stream",
     "text": [
      "invalid literal for int() with base 10: '20abc'\n"
     ]
    }
   ],
   "source": [
    "err_input = '20abc'\n",
    "try:\n",
    "    age = int(err_input)\n",
    "except ValueError as err: # err is not a string but it has an instance method for converting itself to a string\n",
    "    print(err)\n"
   ]
  },
  {
   "cell_type": "markdown",
   "metadata": {},
   "source": [
    "#### The raise statement can be used to raise an exception. For built-in exceptions, refer to https://docs.python.org/3/library/exceptions.html\n",
    "\n",
    "    ValueError\n",
    "    TypeError\n",
    "    NotImplementedError\n",
    "    NameError\n",
    "    …\n",
    "\n"
   ]
  },
  {
   "cell_type": "code",
   "execution_count": 6,
   "metadata": {},
   "outputs": [
    {
     "name": "stdout",
     "output_type": "stream",
     "text": [
      "You entered incorrect age input: -1 is not a valid age. Age must be positive or zero.\n"
     ]
    }
   ],
   "source": [
    "err_input = -1\n",
    "try:\n",
    "    age = int(err_input)\n",
    "    if age < 0:\n",
    "        raise ValueError(\"{} is not a valid age. Age must be positive or zero.\".format(age))\n",
    "except ValueError as err:\n",
    "    print(\"You entered incorrect age input: {}\".format(err))\n",
    "    # raise err # we can pass this exception to the caller function\n",
    "else:\n",
    "    print(\"I see that you are {} years old.\".format(age))\n"
   ]
  },
  {
   "cell_type": "markdown",
   "metadata": {},
   "source": [
    "#### The try-except statement can be # used to import proper packages.\n",
    "    try:\n",
    "        import CPickle\n",
    "    except ImportError:\n",
    "        import pickle\n"
   ]
  },
  {
   "cell_type": "markdown",
   "metadata": {},
   "source": [
    "-----\n",
    "# <span style=color:blue> Handling All Exceptions </span>\n",
    "+ To handle and traceback all exceptions, your main program can be inside a try-except block as follows:\n",
    "\n",
    "        try:\n",
    "            main_prog()\n",
    "        except:\n",
    "            import traceback\n",
    "            traceback.print_exc()\n",
    "\n",
    "\n",
    "        Traceback (most recent call last):\n",
    "          File \"I:/7.2.1.1.py\", line 27, in <module>\n",
    "            func()\n",
    "          File \"I:/7.2.1.1.py\", line 12, in func\n",
    "            raise(StopIteration(\"on purpose\"))\n",
    "        StopIteration: on purpose\n",
    "        \n",
    "        Trackback in the reverse direction"
   ]
  },
  {
   "cell_type": "code",
   "execution_count": 7,
   "metadata": {},
   "outputs": [
    {
     "name": "stdout",
     "output_type": "stream",
     "text": [
      "ByeBye\n"
     ]
    },
    {
     "name": "stderr",
     "output_type": "stream",
     "text": [
      "Traceback (most recent call last):\n",
      "  File \"<ipython-input-7-7c12453b395b>\", line 35, in <module>\n",
      "    func()\n",
      "  File \"<ipython-input-7-7c12453b395b>\", line 6, in func\n",
      "    raise(StopIteration(\"on purpose\"))\n",
      "StopIteration: on purpose\n"
     ]
    }
   ],
   "source": [
    "def func():\n",
    "    try:\n",
    "        for _ in range(1):\n",
    "            dividend = 4 # int(input(\"Please enter the dividend: \"))\n",
    "            divisor = 0 # int(input(\"Please enter the divisor: \"))\n",
    "            raise(StopIteration(\"on purpose\"))\n",
    "            print(\"{} / {} = {}\".format(dividend, divisor, dividend/divisor))\n",
    "    except ZeroDivisionError:\n",
    "        print(\"The dividend may not be zero!\")\n",
    "    finally:\n",
    "        print(\"ByeBye\")\n",
    " \n",
    "    try:\n",
    "        print(\"Hi\")\n",
    "    finally:\n",
    "        print(\"ByeBye again\")\n",
    "      \n",
    "def my_except(t,v,tr):\n",
    "    print('*************')\n",
    "    print(t)        \n",
    "    print(v)\n",
    "    with tr:\n",
    "        print('---')\n",
    "        c = tr.tb_name.f_code\n",
    "        print(c.co_filename)\n",
    "        print(c.co_name)\n",
    "        tr = tr.tb_next\n",
    "            \n",
    "            \n",
    "import sys\n",
    "\n",
    "sys.excepthook = my_except        \n",
    "\n",
    "try:\n",
    "    func()\n",
    "except :\n",
    "    import traceback\n",
    "    traceback.print_exc()\n"
   ]
  },
  {
   "cell_type": "markdown",
   "metadata": {},
   "source": [
    "-----\n",
    "# <span style=color:blue> Logging </span>\n",
    "+ The logging module can be used to add logging to a Python. Every message has a level and only the message with a level higher or equal to the level of the program appears in the log.\n",
    "+ The logging level names from the highest level to the lowest level are\n",
    "  + CRITICAL\n",
    "  + ERROR\n",
    "  + WARNING\n",
    "  + INFO\n",
    "  + DEBUG\n"
   ]
  },
  {
   "cell_type": "code",
   "execution_count": null,
   "metadata": {
    "collapsed": true
   },
   "outputs": [],
   "source": [
    "import logging\n",
    "\n",
    "# log messages to a file, ignoring anything less severe than ERROR\n",
    "logging.basicConfig(filename='myprogram.log', level=logging.ERROR)\n",
    "\n",
    "# these messages should appear in our file\n",
    "logging.error(\"The washing machine is leaking!\")\n",
    "logging.critical(\"The house is on fire!\")\n",
    "\n",
    "# but these ones won't\n",
    "logging.warning(\"We're almost out of milk.\")\n",
    "logging.info(\"It's sunny today.\")\n",
    "logging.debug(\"I had eggs for breakfast.\")\n",
    "\n",
    "err_input = 'a'\n",
    "try:\n",
    "    age = int(err_input)\n",
    "except ValueError as err:\n",
    "    # Inside an exception handler, the exception method can be used for logging exceptions. The message level is ERROR.  \n",
    "    logging.exception(err)\n",
    "    \n",
    "logging.shutdown()"
   ]
  },
  {
   "cell_type": "code",
   "execution_count": 8,
   "metadata": {},
   "outputs": [
    {
     "name": "stdout",
     "output_type": "stream",
     "text": [
      "ERROR:root:The washing machine is leaking!\n",
      "CRITICAL:root:The house is on fire!\n",
      "ERROR:root:invalid literal for int() with base 10: 'a'\n",
      "Traceback (most recent call last):\n",
      "  File \"<ipython-input-8-60aa0c7736c1>\", line 17, in <module>\n",
      "    age = int(err_input)\n",
      "ValueError: invalid literal for int() with base 10: 'a'\n"
     ]
    }
   ],
   "source": [
    "# show the log file\n",
    "with open('myprogram.log','r') as fp:\n",
    "    for line in fp:\n",
    "        print(line,end='')"
   ]
  }
 ],
 "metadata": {
  "kernelspec": {
   "display_name": "Python 3",
   "language": "python",
   "name": "python3"
  },
  "language_info": {
   "codemirror_mode": {
    "name": "ipython",
    "version": 3
   },
   "file_extension": ".py",
   "mimetype": "text/x-python",
   "name": "python",
   "nbconvert_exporter": "python",
   "pygments_lexer": "ipython3",
   "version": "3.5.5"
  }
 },
 "nbformat": 4,
 "nbformat_minor": 2
}
