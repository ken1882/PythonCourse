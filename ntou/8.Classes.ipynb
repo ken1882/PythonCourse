{
 "cells": [
  {
   "cell_type": "markdown",
   "metadata": {},
   "source": [
    "# <span style=color:blue> Classes </span>\n",
    "### Classes are used to group related data and functions together.\n",
    "<img src=\"./picture/classes.png\" alt=\"classes\"/>"
   ]
  },
  {
   "cell_type": "code",
   "execution_count": 2,
   "metadata": {
    "collapsed": true
   },
   "outputs": [],
   "source": [
    "import datetime\n",
    "class Person:\n",
    "    def __init__(self, name, surname, birthdate, address, telephone, email):\n",
    "        self.name = name\n",
    "        self.surname = surname\n",
    "        self.birthdate = birthdate\n",
    "        self.address = address\n",
    "        self.telephone = telephone\n",
    "        self.email = email\n",
    "    def age(self):\n",
    "        today = datetime.date.today()\n",
    "        age = today.year - self.birthdate.year\n",
    "        if today < datetime.date(today.year, self.birthdate.month, self.birthdate.day):\n",
    "            age -= 1\n",
    "        return age\n",
    "    def __del__(self): pass\n"
   ]
  },
  {
   "cell_type": "code",
   "execution_count": 3,
   "metadata": {},
   "outputs": [
    {
     "name": "stdout",
     "output_type": "stream",
     "text": [
      "Jane\n",
      "jane.doe@example.com\n",
      "26\n"
     ]
    }
   ],
   "source": [
    "person = Person(\n",
    "\"Jane\",\n",
    "\"Doe\",\n",
    "datetime.date(1992, 3, 12), # year, month, day\n",
    "\"No. 12 Short Street, Greenville\",\n",
    "\"555 456 0987\",\n",
    "\"jane.doe@example.com\"\n",
    ")\n",
    "print(person.name)\n",
    "print(person.email)\n",
    "print(person.age())\n"
   ]
  },
  {
   "cell_type": "markdown",
   "metadata": {},
   "source": [
    "### Instance attributes can also be defined in other instance functions.\n",
    "<img src=\"./picture/classes2.png\" alt=\"classes\"/>"
   ]
  },
  {
   "cell_type": "markdown",
   "metadata": {},
   "source": [
    "### Instance attributes can also be defined outside the class definition"
   ]
  },
  {
   "cell_type": "code",
   "execution_count": null,
   "metadata": {
    "collapsed": true
   },
   "outputs": [],
   "source": [
    "person.pets = ['cat', 'cat', 'dog']"
   ]
  },
  {
   "cell_type": "markdown",
   "metadata": {},
   "source": [
    "-----\n",
    "# <span style=color:blue> getattr, setattr, delattr, AND hasattr </span>"
   ]
  },
  {
   "cell_type": "markdown",
   "metadata": {},
   "source": [
    "+ getattr(object, attribute_name, default_value) can be used to retrieve the attribute value of an object.\n",
    "+ setattr(object, attribute_name, new_value) can be used to set the value of an attribute.\n",
    "+ <span style=color:red>hasattr(object, attribute_name) can be used to check if this object has an attribute.</span>\n",
    "+ delattr(object, attribute_name) can be used to remove an attribute from an object.\n",
    "\n",
    "+ If getattr and delattr inquire non-existing attributes,  an AttributeError exception arises."
   ]
  },
  {
   "cell_type": "code",
   "execution_count": 4,
   "metadata": {
    "collapsed": true
   },
   "outputs": [],
   "source": [
    "class person:\n",
    "    def __init__(self, first_name, last_name):\n",
    "        self.first_name = first_name\n",
    "        self.last_name = last_name\n",
    "a = person(\"harry\", \"potter\")"
   ]
  },
  {
   "cell_type": "code",
   "execution_count": 5,
   "metadata": {},
   "outputs": [
    {
     "name": "stdout",
     "output_type": "stream",
     "text": [
      "harry\n"
     ]
    }
   ],
   "source": [
    "print(getattr(a,\"first_name\", None))"
   ]
  },
  {
   "cell_type": "code",
   "execution_count": 7,
   "metadata": {},
   "outputs": [
    {
     "name": "stdout",
     "output_type": "stream",
     "text": [
      "20\n"
     ]
    }
   ],
   "source": [
    "setattr(a, \"age\", 20)\n",
    "print(a.age) # 20"
   ]
  },
  {
   "cell_type": "code",
   "execution_count": 8,
   "metadata": {},
   "outputs": [
    {
     "name": "stdout",
     "output_type": "stream",
     "text": [
      "True\n"
     ]
    }
   ],
   "source": [
    "print(hasattr(a,\"first_name\")) # True"
   ]
  },
  {
   "cell_type": "markdown",
   "metadata": {},
   "source": [
    "-----\n",
    "# <span style=color:blue> @property, @property_name.setter, AND @property_name.deleter </span>\n",
    "+ Some properties are derived from existing attributes, and getter methods can be implemented for accessing these properties like accessing them directly.\n",
    "+ The setter methods are used to update the values of those properties.\n",
    "+ The delete methods are used to delete those properties.\n",
    "+ The getter, setter and deleter methods must all have the same name!"
   ]
  },
  {
   "cell_type": "markdown",
   "metadata": {},
   "source": [
    "#### without setter\n",
    "    class Square:\n",
    "        def __init__(self,width):\n",
    "            self.width = width\n",
    "        def area(self):\n",
    "            return self.width**2\n",
    "\n",
    "    a = Square(10)\n",
    "    print(a.area())\n"
   ]
  },
  {
   "cell_type": "code",
   "execution_count": 9,
   "metadata": {
    "collapsed": true
   },
   "outputs": [],
   "source": [
    "# with setter\n",
    "class Square:\n",
    "    def __init__(self,width):\n",
    "        self.width = width\n",
    "    @property\n",
    "    def area(self):\n",
    "        return self.width**2\n",
    "    @area.setter\n",
    "    def area(self, value):\n",
    "        self.width = value**0.5\n",
    "    @area.deleter\n",
    "    def area(self):\n",
    "        del self.width"
   ]
  },
  {
   "cell_type": "code",
   "execution_count": 13,
   "metadata": {},
   "outputs": [
    {
     "name": "stdout",
     "output_type": "stream",
     "text": [
      "100\n",
      "4.0\n"
     ]
    }
   ],
   "source": [
    "a = Square(10)\n",
    "print(a.area)\n",
    "a.area = 16\n",
    "print(a.width)\n",
    "\n"
   ]
  },
  {
   "cell_type": "markdown",
   "metadata": {},
   "source": [
    " # <span style=color:blue>Inspecting an object</span>\n",
    " #### The dir built-in function can be used to list the properties of an object or a class.\n"
   ]
  },
  {
   "cell_type": "code",
   "execution_count": 14,
   "metadata": {},
   "outputs": [
    {
     "data": {
      "text/plain": [
       "['__class__',\n",
       " '__delattr__',\n",
       " '__dict__',\n",
       " '__dir__',\n",
       " '__doc__',\n",
       " '__eq__',\n",
       " '__format__',\n",
       " '__ge__',\n",
       " '__getattribute__',\n",
       " '__gt__',\n",
       " '__hash__',\n",
       " '__init__',\n",
       " '__le__',\n",
       " '__lt__',\n",
       " '__module__',\n",
       " '__ne__',\n",
       " '__new__',\n",
       " '__reduce__',\n",
       " '__reduce_ex__',\n",
       " '__repr__',\n",
       " '__setattr__',\n",
       " '__sizeof__',\n",
       " '__str__',\n",
       " '__subclasshook__',\n",
       " '__weakref__',\n",
       " 'area',\n",
       " 'width']"
      ]
     },
     "execution_count": 14,
     "metadata": {},
     "output_type": "execute_result"
    }
   ],
   "source": [
    "dir(a)"
   ]
  },
  {
   "cell_type": "code",
   "execution_count": 15,
   "metadata": {},
   "outputs": [
    {
     "data": {
      "text/plain": [
       "['__class__',\n",
       " '__delattr__',\n",
       " '__dict__',\n",
       " '__dir__',\n",
       " '__doc__',\n",
       " '__eq__',\n",
       " '__format__',\n",
       " '__ge__',\n",
       " '__getattribute__',\n",
       " '__gt__',\n",
       " '__hash__',\n",
       " '__init__',\n",
       " '__le__',\n",
       " '__lt__',\n",
       " '__module__',\n",
       " '__ne__',\n",
       " '__new__',\n",
       " '__reduce__',\n",
       " '__reduce_ex__',\n",
       " '__repr__',\n",
       " '__setattr__',\n",
       " '__sizeof__',\n",
       " '__str__',\n",
       " '__subclasshook__',\n",
       " '__weakref__',\n",
       " 'area']"
      ]
     },
     "execution_count": 15,
     "metadata": {},
     "output_type": "execute_result"
    }
   ],
   "source": [
    "del a.area\n",
    "dir(a)"
   ]
  },
  {
   "cell_type": "code",
   "execution_count": 12,
   "metadata": {},
   "outputs": [
    {
     "data": {
      "text/plain": [
       "['__class__',\n",
       " '__delattr__',\n",
       " '__dict__',\n",
       " '__dir__',\n",
       " '__doc__',\n",
       " '__eq__',\n",
       " '__format__',\n",
       " '__ge__',\n",
       " '__getattribute__',\n",
       " '__gt__',\n",
       " '__hash__',\n",
       " '__init__',\n",
       " '__le__',\n",
       " '__lt__',\n",
       " '__module__',\n",
       " '__ne__',\n",
       " '__new__',\n",
       " '__reduce__',\n",
       " '__reduce_ex__',\n",
       " '__repr__',\n",
       " '__setattr__',\n",
       " '__sizeof__',\n",
       " '__str__',\n",
       " '__subclasshook__',\n",
       " '__weakref__',\n",
       " 'area']"
      ]
     },
     "execution_count": 12,
     "metadata": {},
     "output_type": "execute_result"
    }
   ],
   "source": [
    "dir(Square)"
   ]
  },
  {
   "cell_type": "markdown",
   "metadata": {},
   "source": [
    "+ $\\text{__init__}$: the initialization method of an object, which is called when the object is created.\n",
    "+ $\\text{__str__}$: the string representation method of an object, which is called when you use the str function to convert that object to a string. (str(x) is equivalent to $\\text{x.__str}$)\n",
    "+ $\\text{__repr__}$: the internal representation of an object, which is called when you use the repr function to show the object. For the internal object x, eval(repr(x)) often creates an object equal to x.  (repr(x) is equivalent to $\\text{x.__repr__()}$)\n",
    "+ $\\text{__class__}$: an attribute which stores the class (or type) of an object – this is what is returned when you use the type function on the object.\n",
    "+ $\\text{__eq__}$: a method which determines whether this object is equal to another. There are also other methods for determining if it’s not equal, less than, etc.. These methods are used in object comparisons, for example when we use the equality operator == to check if two objects are equal.\n",
    "+ $\\text{__add__}$ is a method which allows this object to be added to another object. There are equivalent methods for all the other arithmetic operators. Not all objects support all arithmetic operations – numbers have all of these methods defined, but other objects may only have a subset.\n",
    "+ $\\text{__iter__}$: a method which returns an iterator over the object – we will find it on strings, lists and other iterables. It is executed when we use the iter function on the object.\n",
    "+ $\\text{__len__}$: a method which calculates the length of an object – we will find it on sequences. It is executed when we use the len function of an object.\n",
    "+ $\\text{__dict__}$: a dictionary which contains all the instance attributes of an object, with their names as keys. It can be useful if we want to iterate over all the attributes of an object. $\\text{__dict__}$ does not include any methods, class attributes or special default attributes like $\\text{__class__}$.  (vars(x) is equivalent to $\\text{x.__dict__}$)\n"
   ]
  },
  {
   "cell_type": "markdown",
   "metadata": {},
   "source": [
    " -----\n",
    " # <span style=color:blue>Magic Methods</span>\n",
    " \n",
    "#### Magic Methods\n",
    "\n",
    "Operator | Method | Operator | Method | Operator | Method | Operator | Method\n",
    "----- | ------ | ----- | ------ | ----- | ------ | ----- | ------\n",
    "< |  $\\text{object.__lt__(self,other)}$ | - | $\\text{object.__neg__(self)}$ | += | $\\text{object.__iadd__(self,other)}$ | + | $\\text{object.__add__(self,other)}$ \n",
    "<= | $\\text{object.__le__(self,other)}$ | + | $\\text{object.__pos__(self)}$ | -= | $\\text{object.__isub__(self,other)}$ | - | $\\text{object.__sub__(self,other)}$ \n",
    "== | $\\text{object.__eq__(self,other)}$ | abs() | $\\text{object.__abs__(self)}$ | *= | $\\text{object.__imul__(self,other)}$ | * | $\\text{object.__mul__(self,other)}$ \n",
    "!= | $\\text{object.__ne__(self,other)}$ | ~ | $\\text{object.__invert__(self)}$ | /= | $\\text{object.__idiv__(self,other)}$ | // | $\\text{object.__floordiv__(self,other)}$ \n",
    ">= | $\\text{object.__ge__(self,other)}$ | complex | $\\text{object.__complex__(self)}$ | //= | $\\text{object.__ifloordiv__(self,other)}$ | / | $\\text{object.__div__(self,other)}$ \n",
    "> | $\\text{object.__gt__(self,other)}$ | int() | $\\text{object.__int__(self)}$| %= | $\\text{object.__imod__(self,other)}$ | %| $\\text{object.__mod__(self,other)}$ \n",
    " | | long() | $\\text{object.__long__(self)}$ | **= | $\\text{object.__ipow__(self,other)}$| ** | $\\text{object.__pow__(self,other)}$ \n",
    " | | float() | $\\text{object.__float__(self)}$ | <<= | $\\text{object.__ilshift__(self,other)}$ | << | $\\text{object.__lshift__(self,other)}$ \n",
    " | | oct() | $\\text{object.__oct__(self)}$ | >>= | $\\text{object.__irshift__(self,other)}$ | >> | $\\text{object.__rshift__(self,other)}$ \n",
    " | | hex() | $\\text{object.__hex__(self)}$| &= | $\\text{object.__iand__(self,other)}$ | & | $\\text{object.__and__(self,other)}$ \n",
    "| |  | | ^= | $\\text{object.__ixor__(self,other)}$ | ^ | $\\text{object.__xor__(self,other)}$ \n",
    "| |  | | $\\text{|=}$ | $\\text{object.__ior__(self,other)}$ | $\\text{|}$ | $\\text{object.__or__(self,other)}$ \n",
    "\n",
    "#### Magic methods used with the with operator[ ]\n",
    "\n",
    "Operator | Method\n",
    "----- | ------\n",
    "obj[key] | $\\text{object.__getitem__(self,key)}$\n",
    "obj[key]=value| $\\text{object.__setitem__(self,key,value)}$\n",
    "del obj[key]| $\\text{object.__delitem__(self,key)}$\n",
    "\n",
    "####  Magic methods used with the with statement:\n",
    "Operator | Method\n",
    "----- | ------\n",
    "Enter | $\\text{object.__enter__(self)}$\n",
    "Exit |  $\\text{object.__exit__(self, type, value, trace)}$"
   ]
  },
  {
   "cell_type": "markdown",
   "metadata": {},
   "source": [
    "-----\n",
    "# <span style=color:blue> Overriding Magic Methods </span>"
   ]
  },
  {
   "cell_type": "code",
   "execution_count": 17,
   "metadata": {
    "collapsed": true
   },
   "outputs": [],
   "source": [
    "class FractionalNumber:\n",
    "    def __init__(self, numer, denom):\n",
    "        self.n = numer\n",
    "        self.d = denom\n",
    "    def __add__(self, other):\n",
    "        return FractionalNumber(self.d*other.n+self.n*other.d,self.d*other.d)\n",
    "    def __sub__(self, other):\n",
    "        return FractionalNumber(self.d*other.n-self.n*other.d,self.d*other.d)\n",
    "    def __mul__(self,other):\n",
    "        return FractionalNumber(self.n*other.n,self.d*other.d)\n",
    "    def __truediv__(self,other):\n",
    "        return FractionalNumber(self.d*other.d,self.n*other.n)\n",
    "    def __str__(self):\n",
    "        return str(self.n)+\"/\"+str(self.d)\n",
    "    def __repr__(self): \n",
    "# Tell Python how to represent FractionalNumber. \n",
    "# The output string must be able to be evaluated by eval.\n",
    "        return \"FractionalNumber({},{})\".format(self.n,self.d)\n"
   ]
  },
  {
   "cell_type": "code",
   "execution_count": 23,
   "metadata": {},
   "outputs": [
    {
     "name": "stdout",
     "output_type": "stream",
     "text": [
      "5/6 5/6\n"
     ]
    }
   ],
   "source": [
    "a=FractionalNumber(1,2)\n",
    "b=FractionalNumber(1,3)\n",
    "c=a+b\n",
    "print(c,eval('c'))"
   ]
  },
  {
   "cell_type": "markdown",
   "metadata": {},
   "source": [
    "### The __enter__ and __exit__ magic methods are used to implement objects which can be used with the with statement.\n",
    "  + __enter__ is called when entering the with statement\n",
    "  + __exit__ is called  when leaving the with statement\n",
    "<img src=\"./picture/enter_exit_example.png\" alt=\"enter_exit\" width=600/>"
   ]
  },
  {
   "cell_type": "code",
   "execution_count": 25,
   "metadata": {},
   "outputs": [
    {
     "name": "stdout",
     "output_type": "stream",
     "text": [
      "init\n",
      "enter\n",
      "hello\n",
      "exit\n",
      "del\n"
     ]
    }
   ],
   "source": [
    "class myFile:\n",
    "    def __init__(self):\n",
    "        print('init')\n",
    "\n",
    "    def __enter__(self):\n",
    "        print('enter')\n",
    "        return 1\n",
    "    def __exit__(self, dtype, value, trackback):\n",
    "        print('exit')\n",
    "        \n",
    "    def __del__(self):        \n",
    "        print('del')\n",
    "        \n",
    "        \n",
    "with myFile() as fp:\n",
    "    print('hello')\n"
   ]
  },
  {
   "cell_type": "markdown",
   "metadata": {},
   "source": [
    "### $\\text{__iter__()}$ of an object x is a method which returns an iterator over the object. iter(x) in fact calls $\\text{x.__iter__()}$.\n"
   ]
  },
  {
   "cell_type": "code",
   "execution_count": 27,
   "metadata": {
    "collapsed": true
   },
   "outputs": [],
   "source": [
    "class myLinkedList:\n",
    "    def __init__(self,num):\n",
    "        self.head = None\n",
    "        for i in range(num):\n",
    "            self.insert_head(i)\n",
    "            \n",
    "    def insert_head(self,data):\n",
    "        self.head = (data,self.head)\n",
    "        \n",
    "    def __del__(self):\n",
    "        p = self.head\n",
    "        while p is not None:\n",
    "            q = p\n",
    "            p = p[1]\n",
    "            del q            \n",
    "            \n",
    "    def __iter__(self):\n",
    "        self.iter_p = self.head\n",
    "        return self\n",
    "    \n",
    "    def __next__(self):\n",
    "        if self.iter_p is None:\n",
    "            raise StopIteration\n",
    "        p = self.iter_p\n",
    "        self.iter_p = p[1]\n",
    "        return p[0]"
   ]
  },
  {
   "cell_type": "code",
   "execution_count": 31,
   "metadata": {},
   "outputs": [
    {
     "name": "stdout",
     "output_type": "stream",
     "text": [
      "4\n",
      "3\n",
      "2\n",
      "1\n",
      "0\n"
     ]
    }
   ],
   "source": [
    "d = myLinkedList(5)\n",
    "for p in d:\n",
    "    print(p)"
   ]
  },
  {
   "cell_type": "code",
   "execution_count": 33,
   "metadata": {},
   "outputs": [
    {
     "name": "stdout",
     "output_type": "stream",
     "text": [
      "4\n",
      "3\n",
      "2\n",
      "1\n",
      "0\n"
     ]
    }
   ],
   "source": [
    "p = iter(d)\n",
    "try:\n",
    "    while True:\n",
    "        v = next(p)\n",
    "        print(v)\n",
    "except StopIteration:\n",
    "    pass"
   ]
  },
  {
   "cell_type": "markdown",
   "metadata": {},
   "source": [
    "-----\n",
    "# <span style=color:blue> Class Attributes</span>\n",
    "+ If all instances of a class type share some properties, these properties can be defined as class attributes or methods.\n",
    "\n",
    "        class Person:\n",
    "            TITLES = ('Dr', 'Mr', 'Mrs', 'Ms') # class attribute\n",
    "            def __init__(self, title, name, surname):\n",
    "                if title not in self.TITLES:\n",
    "                    raise ValueError(\"%s is not a valid title.\" % title)\n",
    "                self.title = title\n",
    "                self.name = name\n",
    "                self.surname = surname\n",
    "                \n",
    "+ Class attributes are shared by all instances.\n",
    "+ Class attributes can be accessed through self.class_attribute or class_name.class_attribute, e.g., self.TITLES or Person.TITLES.\n",
    "+ When an instance attribute with the same name as a class attribute is defined, this instance attribute overrides the class attribute.\n",
    "+ When a mutable class attribute is modified in-place, other instances of this class may be affected.\n",
    "+ Class attributions can be used as variables in method definitions."
   ]
  },
  {
   "cell_type": "code",
   "execution_count": 42,
   "metadata": {
    "collapsed": true
   },
   "outputs": [],
   "source": [
    "class Person:\n",
    "    TITLES = ['Dr', 'Mr', 'Mrs', 'Ms'] # class attribute\n",
    "    def __init__(self, title, name, surname, allowed_titles=TITLES):\n",
    "        if title not in allowed_titles:\n",
    "            raise ValueError(\"%s is not a valid title.\" % title)\n",
    "        self.title = title\n",
    "        self.name = name\n",
    "        self.surname = surname\n",
    "    def change_my_title(self):\n",
    "        self.TITLES = ['Mr'] # the instance attribute overrides the class attribute\n",
    "    def change_class_title(self):\n",
    "        Person.TITLES = ['Mrs'] # the class attribute is modified in-place"
   ]
  },
  {
   "cell_type": "code",
   "execution_count": 43,
   "metadata": {},
   "outputs": [
    {
     "name": "stdout",
     "output_type": "stream",
     "text": [
      "['Dr', 'Mr', 'Mrs', 'Ms'] ['Dr', 'Mr', 'Mrs', 'Ms'] ['Dr', 'Mr', 'Mrs', 'Ms'] True True\n",
      "['Mr'] ['Dr', 'Mr', 'Mrs', 'Ms'] ['Dr', 'Mr', 'Mrs', 'Ms'] False True\n",
      "['Mr'] ['Mrs'] ['Mrs'] False True\n"
     ]
    }
   ],
   "source": [
    "a = Person('Dr', 'Roy', 'Davies')\n",
    "b = Person('Dr', 'Linda', 'Shapiro')\n",
    "print(a.TITLES,b.TITLES,Person.TITLES, Person.TITLES is a.TITLES, Person.TITLES is b.TITLES)\n",
    "a.change_my_title() # a's instance attribute TITLES overrides the class attribute\n",
    "print(a.TITLES,b.TITLES,Person.TITLES, Person.TITLES is a.TITLES, Person.TITLES is b.TITLES)\n",
    "a.change_class_title() # the class attribute is modified in-place\n",
    "print(a.TITLES,b.TITLES,Person.TITLES, Person.TITLES is a.TITLES, Person.TITLES is b.TITLES)"
   ]
  },
  {
   "cell_type": "markdown",
   "metadata": {},
   "source": [
    "-----\n",
    "# <span style=color:blue> Class Decorators</span>\n",
    "#### The @classmethod decorator can be used to define class methods, which are shared between all instances.\n",
    "\n",
    "    class Person:\n",
    "        def __init__(self, name, surname, birthdate, address, telephone, email):\n",
    "            self.name = name\n",
    "        #…\n",
    "        @classmethod\n",
    "        def from_text_file(cls, filename):\n",
    "            #extract all the parameters from the text file\n",
    "            return cls( *params) # this is the same as calling Person( *params)\n",
    "##### The subclass of Person also inherits from_text_file and subclass. from_text_file returns the instance of subclass.\n"
   ]
  },
  {
   "cell_type": "code",
   "execution_count": 47,
   "metadata": {},
   "outputs": [
    {
     "name": "stdout",
     "output_type": "stream",
     "text": [
      "<class 'dict'>\n",
      "<class '__main__.my_dict'>\n"
     ]
    }
   ],
   "source": [
    "class my_dict(dict):\n",
    "    pass\n",
    "print(type(dict.fromkeys([1,2,3]))) # dict\n",
    "print(type(my_dict.fromkeys([1,2,3]))) # __main__.my_dict\n"
   ]
  },
  {
   "cell_type": "markdown",
   "metadata": {},
   "source": [
    "#### The @staticmethod decorator can be used to define a static method, which does not have the calling object or class name passed into it as the first parameter.\n"
   ]
  },
  {
   "cell_type": "code",
   "execution_count": 48,
   "metadata": {},
   "outputs": [
    {
     "name": "stdout",
     "output_type": "stream",
     "text": [
      "Jane Smith\n",
      "['Mr', 'Mrs', 'Ms']\n",
      "['Mr', 'Mrs', 'Ms']\n",
      "['Mrs', 'Ms']\n",
      "['Mrs', 'Ms']\n"
     ]
    }
   ],
   "source": [
    "class Person:\n",
    "    TITLES = ('Dr', 'Mr', 'Mrs', 'Ms')\n",
    "    def __init__(self, name, surname):\n",
    "        self.name = name\n",
    "        self.surname = surname\n",
    "    def fullname(self): # instance method\n",
    "        # instance object accessible through self\n",
    "        return \"%s %s\" % (self.name, self.surname)\n",
    "    @classmethod\n",
    "    def allowed_titles_starting_with(cls, startswith): # class method\n",
    "        # class or instance object accessible through cls\n",
    "        return [t for t in cls.TITLES if t.startswith(startswith)]\n",
    "    @staticmethod\n",
    "    def allowed_titles_ending_with(endswith): # static method\n",
    "        # no parameter for class or instance object\n",
    "        # we have to use Person directly\n",
    "        return [t for t in Person.TITLES if t.endswith(endswith)]\n",
    "jane = Person(\"Jane\", \"Smith\")\n",
    "print(jane.fullname())\n",
    "print(jane.allowed_titles_starting_with(\"M\"))\n",
    "print(Person.allowed_titles_starting_with(\"M\"))\n",
    "print(jane.allowed_titles_ending_with(\"s\"))\n",
    "print(Person.allowed_titles_ending_with(\"s\"))\n"
   ]
  },
  {
   "cell_type": "code",
   "execution_count": null,
   "metadata": {
    "collapsed": true
   },
   "outputs": [],
   "source": []
  }
 ],
 "metadata": {
  "kernelspec": {
   "display_name": "Python 3",
   "language": "python",
   "name": "python3"
  },
  "language_info": {
   "codemirror_mode": {
    "name": "ipython",
    "version": 3
   },
   "file_extension": ".py",
   "mimetype": "text/x-python",
   "name": "python",
   "nbconvert_exporter": "python",
   "pygments_lexer": "ipython3",
   "version": "3.5.5"
  }
 },
 "nbformat": 4,
 "nbformat_minor": 2
}
