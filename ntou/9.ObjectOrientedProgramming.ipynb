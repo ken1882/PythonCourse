{
 "cells": [
  {
   "cell_type": "markdown",
   "metadata": {},
   "source": [
    "# <span style=color:blue> Object-Oriented Programming</span>\n",
    "\n",
    "## Basic OOP Priciples\n",
    "+ Encapsulation: the data inside the object should only be accessed through the object’s method.\n",
    "  + In Python 3, the attribute whose name starts with $\\text{__}$ but does not end with $\\text{__}$ is private and not visible outside the class.\n",
    "  + In Python, setter and getter methods can be used to control the access of attributes.\n",
    "        @property, @property_name.setter, AND @property_name.deleter\n",
    "      \n",
    "+ In Python, there are two main types of relationships between classes:\n",
    "  + <span style=color:red>Inheritance is an is-a relation between classes and allows new classes to be defined as extensions or refinements of existing classes.</span>\n",
    "    + Multiple inheritance, mix-in\n",
    "  + <span style=color:red>Composition is a has-a relation between classes, and is a way of combining simple objects into more complicated objects.</span>\n"
   ]
  },
  {
   "cell_type": "code",
   "execution_count": 5,
   "metadata": {},
   "outputs": [
    {
     "name": "stdout",
     "output_type": "stream",
     "text": [
      "Exception:'A' object has no attribute '__a'\n"
     ]
    }
   ],
   "source": [
    "class A:\n",
    "    def __init__(self):\n",
    "        self.__a   = 0\n",
    "        self.__b__ = 1\n",
    "a = A()\n",
    "try:\n",
    "    print(a.__a)\n",
    "except BaseException as ae:\n",
    "    print('Exception:{}'.format(ae))"
   ]
  },
  {
   "cell_type": "markdown",
   "metadata": {},
   "source": [
    "# <span style=color:blue> Composition and Aggregation</span>\n",
    "+ Composition implies two objects linked strongly. The owner object has the responsibility for destroying the component object.\n",
    "+ Aggregation implies two objects linked weakly. The component object can be accessed through other objects and may outlive the owner object.\n",
    "\n",
    "<img src=\"./picture/uml.png\" alt=\"UML\" width=600/>"
   ]
  },
  {
   "cell_type": "markdown",
   "metadata": {},
   "source": [
    "-----\n",
    "# <span style=color:blue> Inheritance</span>\n",
    "#### Inheritance can be used to arrange objects from the most general to the most specific in a hierarchy.\n",
    "+ The base class is the most general class in a class hierarchy.\n",
    "+ The subclass inherits the properties of the superclass.\n",
    "+ The subclass can override the method of the superclass and add new properties.\n",
    "\n",
    "<img src=\"./picture/inheritance.png\" alt=\"inheritance\" width=400/>"
   ]
  },
  {
   "cell_type": "markdown",
   "metadata": {},
   "source": [
    "-----\n",
    "#### Example \n",
    "<img src=\"./picture/inheritance_example.png\" alt=\"inheritance example\" width=400/>"
   ]
  },
  {
   "cell_type": "code",
   "execution_count": 7,
   "metadata": {
    "collapsed": true
   },
   "outputs": [],
   "source": [
    "class Person:\n",
    "    def __init__(self, name, surname, number):\n",
    "        self.name = name\n",
    "        self.surname = surname\n",
    "        self.number = number\n",
    "        \n",
    "class Student(Person):\n",
    "    UNDERGRADUATE, POSTGRADUATE = range(2)\n",
    "    def __init__(self, student_type,*args, ** kwargs):\n",
    "        self.student_type = student_type\n",
    "        self.classes = []\n",
    "        super(Student, self).__init__( *args,** kwargs)\n",
    "    def enrol(self, course):\n",
    "        self.classes.append(course)\n",
    "        \n",
    "class StaffMember(Person):\n",
    "    PERMANENT, TEMPORARY = range(2)\n",
    "    def __init__(self, employment_type, *args, ** kwargs):\n",
    "        self.employment_type = employment_type\n",
    "        super(StaffMember, self).__init__( *args, ** kwargs)\n",
    "        \n",
    "class Lecturer(StaffMember):\n",
    "    def __init__(self, *args, ** kwargs):\n",
    "        self.courses_taught = []\n",
    "        super(Lecturer, self).__init__( *args,** kwargs)\n",
    "    def assign_teaching(self, course):\n",
    "        self.courses_taught.append(course)\n"
   ]
  },
  {
   "cell_type": "code",
   "execution_count": 9,
   "metadata": {},
   "outputs": [],
   "source": [
    "jane = Student(Student.POSTGRADUATE, \"Jane\", \"Smith\", \"SMTJNX045\")\n",
    "jane.enrol('Machine Learning')\n",
    "bob = Lecturer(StaffMember.PERMANENT, \"Bob\", \"Jones\", \"123456789\")\n",
    "bob.assign_teaching('Python')"
   ]
  },
  {
   "cell_type": "markdown",
   "metadata": {},
   "source": [
    "+ How many properties does jane have?\n",
    "+ How many properties does bob have?"
   ]
  },
  {
   "cell_type": "markdown",
   "metadata": {},
   "source": [
    "-----\n",
    "# <span style=color:blue> Multiple Inheritance</span>\n",
    "+ In Python, a class can inherit from multiple classes.  Due to multiple inheritance, an ambiguity known as the diamond problem can arise.\n",
    "<img src=\"./picture/diamond.png\" alt=\"the diamond problem\" width=400/>\n",
    "+ Python creates a list of classes by the C3 method. This algorithm enforces two constraints:\n",
    "  + local precedence order, and\n",
    "  + the monotonicity criterion.\n",
    "        If C1 precedes C2 in the linearization of C, then C1 precedes C2 in the linearization of any subclass of C.\n"
   ]
  },
  {
   "cell_type": "markdown",
   "metadata": {},
   "source": [
    "-----\n",
    "# <span style=color:blue> Method Resolution Order</span>\n",
    "+ The C3 superclass linearization of a class is the merge of parents' linearizations and parents list.\n",
    "+ The C3 method:\n",
    "  + The first head of the lists which does not appear in the tail (all elements of a list except the first) of any of the lists is selected. \n",
    "  + If no good head can be selected, then no linearization of the original class exists due to cyclic dependencies in the hierarchy and break.\n",
    "  + The selected element is removed from all the lists where it appears as a head and appended to the output list.\n",
    "  + The above two steps are repeated until all remaining lists are exhausted. \n"
   ]
  },
  {
   "cell_type": "markdown",
   "metadata": {},
   "source": [
    "#### Example 1.\n",
    "<img src=\"./picture/super_example3.png\" alt=\"MRO example\" width=150/>"
   ]
  },
  {
   "cell_type": "code",
   "execution_count": 14,
   "metadata": {},
   "outputs": [
    {
     "name": "stdout",
     "output_type": "stream",
     "text": [
      "[<class '__main__.A'>, <class '__main__.X'>, <class '__main__.Y'>, <class 'object'>]\n",
      "[<class '__main__.B'>, <class '__main__.Y'>, <class '__main__.X'>, <class 'object'>]\n"
     ]
    }
   ],
   "source": [
    "class X(object): pass\n",
    "class Y(object): pass\n",
    "class A(X,Y): pass\n",
    "class B(Y,X): pass\n",
    "print(A.mro())\n",
    "print(B.mro())"
   ]
  },
  {
   "attachments": {},
   "cell_type": "markdown",
   "metadata": {},
   "source": [
    "#### MRO\n",
    "\n",
    "    L(O)=[O]\n",
    "    L(X)=[X]+merge(L(O),[O])=[X,O]\n",
    "    L(Y)=[Y,O]\n",
    "    L(A)=[A]+merge(L(X),L(Y),[X,Y])\n",
    "          =[A]+merge([X,O],[Y,O],[X,Y]\n",
    "          =[A,X]+merge([O],[Y,O],[Y])\n",
    "          =[A,X,Y]+merge([O],[O])\n",
    "          =[A,X,Y,O]  \n",
    "    \n",
    "    A.mro(): [__main__.A, __main__.X, __main__.Y, object]\n",
    "    B.mro(): [__main__.B, __main__.Y, __main__.X, object]"
   ]
  },
  {
   "attachments": {},
   "cell_type": "markdown",
   "metadata": {},
   "source": [
    "-----\n",
    "#### Example 2.\n",
    "<img src=\"./picture/super_example2.png\" alt=\"MRO example\" width=150/>\n",
    "\n",
    "    L(C)=[C]+merge(L(A),L(B),[A,B])\n",
    "           =[C]+merge([A,D,F,O],[B,E,F,O],[A,B])\n",
    "           =[C,A]+merge([D,F,O],[B,E,F,O],[B])\n",
    "           =[C,A,D]+merge([F,O],[B,E,F,O],[B])\n",
    "           =[C,A,D,B]+merge([F,O],[E,F,O])\n",
    "           =[C,A,D,B,E]+merge([F,O],[F,O])\n",
    "           =[C,A,D,B,E,F]+merge([O],[O])\n",
    "           =[C,A,D,B,E,F,O]\n",
    "\n",
    "    C.mro(): [__main__.C,  __main__.A,  __main__.D,  __main__.B,  __main__.E,  __main__.F,  object]"
   ]
  },
  {
   "attachments": {},
   "cell_type": "markdown",
   "metadata": {},
   "source": [
    "-----\n",
    "# <span style=color:blue> super() </span>\n",
    "\n",
    "    help(super)\n",
    "     super() -> same as super(__class__, <first argument>)\n",
    "     super(type) -> unbound super object\n",
    "     super(type, obj) -> bound super object; requires isinstance(obj, type)\n",
    "     super(type, type2) -> bound super object; requires issubclass(type2, type)\n",
    "\n",
    "+ To resolute $\\text{super(X,self).__init__()}$, Python starts from the class next to X  in $\\text{self.__class__.__mro__}$.\n"
   ]
  },
  {
   "cell_type": "markdown",
   "metadata": {},
   "source": [
    "#### Example 1\n",
    "The class hierarchy of the following classes:\n",
    "<img src=\"./picture/super_example.png\" alt=\"super() example\" width=150/>\n",
    "The mro of class C is $\\text{[__main__.C, __main__.A, __main__.B, object]}$."
   ]
  },
  {
   "cell_type": "code",
   "execution_count": 3,
   "metadata": {},
   "outputs": [
    {
     "name": "stdout",
     "output_type": "stream",
     "text": [
      "C\n",
      "initA\n",
      "initB\n",
      "fA\n",
      "fB\n"
     ]
    }
   ],
   "source": [
    "class A:\n",
    "    def __init__(self):\n",
    "        print('initA')\n",
    "        self.x = 0\n",
    "    def f(self):\n",
    "        print('fA')\n",
    "    \n",
    "class B:\n",
    "    def __init__(self):\n",
    "        print('initB')\n",
    "        self.y = 1\n",
    "    def f(self):\n",
    "        print('fB')\n",
    "    \n",
    "class C(A,B):\n",
    "    def __init__(self):\n",
    "        print('C')\n",
    "        # C.mro() [__main__.C, __main__.A, __main__.B, object]\n",
    "        super(C,self).__init__() # __main__.A\n",
    "        super(A,self).__init__() # __main__.B\n",
    "c = C();\n",
    "c.f() # fA\n",
    "super(A,c).f() # fB"
   ]
  },
  {
   "attachments": {},
   "cell_type": "markdown",
   "metadata": {},
   "source": [
    "#### Example 2.\n",
    "<img src=\"./picture/super_example2.png\" alt=\"super() example\" width=150/>\n",
    "$\\text{C.mro(): [__main__.C,  __main__.A,  __main__.D,  __main__.B,  __main__.E,  __main__.F,  object]}$"
   ]
  },
  {
   "cell_type": "code",
   "execution_count": 7,
   "metadata": {},
   "outputs": [
    {
     "name": "stdout",
     "output_type": "stream",
     "text": [
      "initC\n",
      "----------\n",
      "initA\n",
      "initD\n",
      "initB\n",
      "initE\n",
      "initF\n",
      "----------\n",
      "initD\n",
      "initB\n",
      "initE\n",
      "initF\n",
      "----------\n",
      "initE\n",
      "initF\n"
     ]
    }
   ],
   "source": [
    "class F:\n",
    "    def __init__(self):\n",
    "        print('initF')\n",
    "        \n",
    "class D(F):\n",
    "    def __init__(self):\n",
    "        print('initD')\n",
    "        super().__init__()\n",
    "        self.d = 0;\n",
    "class E(F):\n",
    "    def __init__(self):\n",
    "        print('initE')\n",
    "        super().__init__()\n",
    "        self.e = 0;\n",
    "class A(D):\n",
    "    def __init__(self):\n",
    "        print('initA')\n",
    "        self.x = 0\n",
    "        super(A,self).__init__()\n",
    "        \n",
    "    def f(self):\n",
    "        print('fA') \n",
    "class B(E):\n",
    "    def __init__(self):\n",
    "        print('initB')\n",
    "        super(B,self).__init__()\n",
    "        self.y = 1\n",
    "    def f(self):\n",
    "        print('fB')\n",
    "    \n",
    "class C(A,B):\n",
    "    def __init__(self):\n",
    "        print('initC')\n",
    "        print('-'*10)\n",
    "        super(C,self).__init__() \n",
    "        print('-'*10)\n",
    "        super(A,self).__init__()\n",
    "        print('-'*10)\n",
    "        super(B,self).__init__()\n",
    "c = C()"
   ]
  },
  {
   "attachments": {},
   "cell_type": "markdown",
   "metadata": {},
   "source": [
    "-----\n",
    "# <span style=color:blue> Mix-Ins </span>\n",
    "+ Mix-ins can be used to avoid the inheritance ambiguity due to multiple inheritance. A mix-in can be regarded as an interface with implemented methods.\n",
    "+ A mix-in is responsible for providing a specific piece of optional functionality."
   ]
  },
  {
   "cell_type": "code",
   "execution_count": 1,
   "metadata": {},
   "outputs": [],
   "source": [
    "class Person:\n",
    "    def __init__(self, name, surname, number):\n",
    "        self.name = name\n",
    "        self.surname = surname\n",
    "        self.number = number\n",
    "        \n",
    "class TeacherMixin:\n",
    "    def __init__(self):\n",
    "        self.courses_taught = []\n",
    "    def assign_teaching(self, course):\n",
    "        self.courses_taught.append(course)\n",
    "        \n",
    "class LearnerMixin:\n",
    "    def __init__(self):\n",
    "        self.classes = []\n",
    "    def enrol(self, course):\n",
    "        self.classes.append(course)\n",
    "        \n",
    "class Tutor(Person, LearnerMixin, TeacherMixin): # LearnerMixin, TeacherMixin: More functions are added to a Person\n",
    "    def __init__(self,* args, ** kwargs):\n",
    "        super(Tutor, self).__init__( * args,** kwargs)\n",
    "        super(Person,self).__init__()\n",
    "        super(LearnerMixin,self).__init__()\n",
    "        \n",
    "jane = Tutor(\"Jane\", \"Smith\", \"SMTJNX045\")\n",
    "jane.enrol('Machine Learning')\n",
    "jane.assign_teaching('Python')\n"
   ]
  },
  {
   "cell_type": "markdown",
   "metadata": {},
   "source": [
    "-----\n",
    "# <span style=color:blue> Abstract Class and Interfaces</span>\n",
    "+ In C++, an abstract class, which cannot be instantiated, can be defined and be used for creating subclasses.\n",
    "  + The abstract class can have a set of methods that is required for some tasks, and is an interface definition. The subclass must implement these methods. \n",
    "+ In Python, any class can be instantiated. The abstract class can be defined in the following two manners.\n",
    "  + The abstract method raises the NotImplementedError exception.\n"
   ]
  },
  {
   "cell_type": "code",
   "execution_count": 13,
   "metadata": {
    "collapsed": true
   },
   "outputs": [],
   "source": [
    "class Shape2D:\n",
    "    def area(self):\n",
    "        raise NotImplementedError()\n",
    "class Shape3D:\n",
    "    def volume(self):\n",
    "        raise NotImplementedError()"
   ]
  },
  {
   "cell_type": "markdown",
   "metadata": {},
   "source": [
    "#### The abc module can also be used to define abstract classes.\n",
    "\n",
    "#### Example"
   ]
  },
  {
   "cell_type": "code",
   "execution_count": null,
   "metadata": {
    "collapsed": true
   },
   "outputs": [],
   "source": [
    "from abc import ABCMeta, abstractmethod\n",
    "\n",
    "class Ordering(metaclass=ABCMeta):\n",
    "     @abstractmethod\n",
    "    def __eq__(self,other):\n",
    "        pass\n",
    "     @abstractmethod\n",
    "    def __le__(self,other):\n",
    "        pass\n",
    "\n",
    "    def __ge__(self, other):\n",
    "                return other<=self\n",
    "    def __lt__(self, other):\n",
    "        return self<=other and not self == other\n",
    "    def __gt__(self, other):\n",
    "        return not self<=other\n",
    "    def __ne__(self,other):\n",
    "        return not self == other\n",
    "    \n",
    "class Integer(Ordering):\n",
    "    def __init__(self, i):\n",
    "        self.i = i\n",
    "    def __le__(self, other):\n",
    "        return hasattr(other,\"i\") and self.i <= other.i\n",
    "    def __eq__(self, other):\n",
    "        return hasattr(other,\"i\") and self.i == other.i"
   ]
  },
  {
   "cell_type": "markdown",
   "metadata": {},
   "source": [
    "##### We can also define relational operators through @functools.total_ordering"
   ]
  },
  {
   "cell_type": "code",
   "execution_count": null,
   "metadata": {
    "collapsed": true
   },
   "outputs": [],
   "source": [
    "import functools\n",
    "\n",
    "@functools.total_ordering\n",
    "class Integer(object):\n",
    "    def __init__(self, i):\n",
    "        self.i = i\n",
    "    def __le__(self, other):\n",
    "        return hasattr(other,\"i\") and self.i <= other.i\n",
    "    def __eq__(self, other):\n",
    "        return hasattr(other,\"i\") and self.i == other.i"
   ]
  },
  {
   "cell_type": "markdown",
   "metadata": {},
   "source": [
    "-----\n",
    "# <span style=color:blue> Avoid Inheritance</span>\n",
    "+ In Python, a function can work on objects if they both have the appropriate attributes and methods even if these objects don’t share a parent class, and are completely unrelated.  \n",
    "  + In Python, inheritance is not required for polymorphism.\n",
    "  + <span style=color:red>Check for the presence of the methods and attributes that the function requires to use. It is not necessary to check if the object is in the same class hierarchy.</span>\n",
    "+ Sometimes, similar results can be obtained by replacing inheritance with composition.\n"
   ]
  },
  {
   "cell_type": "code",
   "execution_count": 12,
   "metadata": {},
   "outputs": [],
   "source": [
    "class Person:\n",
    "    def __init__(self, name, surname, number, learner=None, teacher=None):\n",
    "        self.name = name\n",
    "        self.surname = surname\n",
    "        self.number = number\n",
    "        self.learner = learner\n",
    "        self.teacher = teacher\n",
    "        \n",
    "class Learner:\n",
    "    def __init__(self):\n",
    "        self.classes = []\n",
    "    def enrol(self, course):\n",
    "        self.classes.append(course)\n",
    "\n",
    "class Teacher:\n",
    "    def __init__(self):\n",
    "        self.courses_taught = []\n",
    "    def assign_teaching(self, course):\n",
    "        self.courses_taught.append(course)\n",
    "#----------------------------------------------------------------------        \n",
    "jane = Person(\"Jane\", \"Smith\", \"SMTJNX045\", Learner(), Teacher())\n",
    "jane.learner.enrol('Machine Learning')\n",
    "jane.teacher.assign_teaching('Python')"
   ]
  }
 ],
 "metadata": {
  "kernelspec": {
   "display_name": "Python 3",
   "language": "python",
   "name": "python3"
  },
  "language_info": {
   "codemirror_mode": {
    "name": "ipython",
    "version": 3
   },
   "file_extension": ".py",
   "mimetype": "text/x-python",
   "name": "python",
   "nbconvert_exporter": "python",
   "pygments_lexer": "ipython3",
   "version": "3.5.5"
  }
 },
 "nbformat": 4,
 "nbformat_minor": 2
}
