{
 "cells": [
  {
   "cell_type": "markdown",
   "metadata": {},
   "source": [
    "# <span style=color:blue> 變數</span>\n",
    "+ In statically typed languages, such as C, a variable must have a predefined type, and this variable can only hold the value of this predefined type. \n",
    "+ In Python, a variable can be reused to store values of other types.\n",
    "+ <span style=color:red>In Python, a new variable is defined by assigning a value to the variable.</span><br>"
   ]
  },
  {
   "cell_type": "code",
   "execution_count": 1,
   "metadata": {
    "collapsed": true
   },
   "outputs": [],
   "source": [
    "sum = 0 # define one variable\n",
    "x, sum, product = 0, 0, 1 # define three variables "
   ]
  },
  {
   "cell_type": "markdown",
   "metadata": {},
   "source": [
    "# <span style=color:blue> Scope and Lifetime</span>\n",
    "+ The part of a program where a variable is accessible is the scope of this variable.\n",
    "+ The duration for which a variable exists is the lifetime of this variable.\n",
    "+ A variable which is defined in the main body of a file is called a global variable. This variable is visible throughout the file and also inside any file which imports that file.\n",
    "+ A variable defined inside a function is local to this function. This variable is accessible from the point at which it is defined until the end of the function.\n"
   ]
  },
  {
   "cell_type": "code",
   "execution_count": 1,
   "metadata": {},
   "outputs": [
    {
     "name": "stdout",
     "output_type": "stream",
     "text": [
      "local a 7\n",
      "local d 3\n",
      "global a 0\n",
      "global b 1\n"
     ]
    },
    {
     "ename": "NameError",
     "evalue": "name 'c' is not defined",
     "output_type": "error",
     "traceback": [
      "\u001b[1;31m---------------------------------------------------------------------------\u001b[0m",
      "\u001b[1;31mNameError\u001b[0m                                 Traceback (most recent call last)",
      "\u001b[1;32m<ipython-input-1-d96de9e18af6>\u001b[0m in \u001b[0;36m<module>\u001b[1;34m()\u001b[0m\n\u001b[0;32m     19\u001b[0m \u001b[1;33m\u001b[0m\u001b[0m\n\u001b[0;32m     20\u001b[0m \u001b[1;31m# c and d don't exist anymore -- these statements will give us name errors!\u001b[0m\u001b[1;33m\u001b[0m\u001b[1;33m\u001b[0m\u001b[0m\n\u001b[1;32m---> 21\u001b[1;33m \u001b[0mprint\u001b[0m\u001b[1;33m(\u001b[0m\u001b[1;34m'undefined c'\u001b[0m\u001b[1;33m,\u001b[0m\u001b[0mc\u001b[0m\u001b[1;33m)\u001b[0m\u001b[1;33m\u001b[0m\u001b[0m\n\u001b[0m\u001b[0;32m     22\u001b[0m \u001b[0mprint\u001b[0m\u001b[1;33m(\u001b[0m\u001b[1;34m'local d'\u001b[0m\u001b[1;33m,\u001b[0m\u001b[0md\u001b[0m\u001b[1;33m)\u001b[0m\u001b[1;33m\u001b[0m\u001b[0m\n",
      "\u001b[1;31mNameError\u001b[0m: name 'c' is not defined"
     ]
    }
   ],
   "source": [
    "# This is a global variable\n",
    "a = 0\n",
    "\n",
    "if a == 0:\n",
    "    # This is still a global variable\n",
    "    b = 1\n",
    "\n",
    "def my_function(a):\n",
    "# they are local variables\n",
    "    d = 3\n",
    "    print('local a',a)\n",
    "    print('local d',d)\n",
    "\n",
    "# Now we call the function and pass the value 7 as the first and only parameter\n",
    "my_function(7)\n",
    "# a and b still exist\n",
    "print('global a',a)\n",
    "print('global b',b)\n",
    "\n",
    "# c and d don't exist anymore -- these statements will give us name errors!\n",
    "print('undefined c',c)\n",
    "print('local d',d)"
   ]
  },
  {
   "cell_type": "markdown",
   "metadata": {},
   "source": [
    "## <span style=color:blue> Scope </span>\n",
    "+ Global variables"
   ]
  },
  {
   "cell_type": "code",
   "execution_count": 3,
   "metadata": {},
   "outputs": [
    {
     "name": "stdout",
     "output_type": "stream",
     "text": [
      "0\n",
      "0\n"
     ]
    }
   ],
   "source": [
    "#global variable\n",
    "a = 0\n",
    "def my_function1():\n",
    "    print(a)\n",
    "\n",
    "my_function1()\n",
    "print(a)"
   ]
  },
  {
   "cell_type": "code",
   "execution_count": 4,
   "metadata": {},
   "outputs": [
    {
     "name": "stdout",
     "output_type": "stream",
     "text": [
      "3\n",
      "3\n"
     ]
    }
   ],
   "source": [
    "a = 0\n",
    "def my_function2():\n",
    "    global a\n",
    "    a=3\n",
    "    print(a)\n",
    "my_function2()\n",
    "print(a)"
   ]
  },
  {
   "cell_type": "code",
   "execution_count": 3,
   "metadata": {},
   "outputs": [
    {
     "name": "stdout",
     "output_type": "stream",
     "text": [
      "0\n",
      "3\n",
      "3\n"
     ]
    },
    {
     "name": "stderr",
     "output_type": "stream",
     "text": [
      "<ipython-input-3-cf4b58e6e910>:4: SyntaxWarning: name 'a' is used prior to global declaration\n",
      "  global a\n"
     ]
    }
   ],
   "source": [
    "a = 0\n",
    "def my_function3():\n",
    "    print(a)\n",
    "    global a\n",
    "    a=3\n",
    "    print(a)\n",
    "my_function3()\n",
    "print(a)"
   ]
  },
  {
   "cell_type": "code",
   "execution_count": 2,
   "metadata": {},
   "outputs": [
    {
     "ename": "NameError",
     "evalue": "name 'aa' is not defined",
     "output_type": "error",
     "traceback": [
      "\u001b[1;31m---------------------------------------------------------------------------\u001b[0m",
      "\u001b[1;31mNameError\u001b[0m                                 Traceback (most recent call last)",
      "\u001b[1;32m<ipython-input-2-a24197731575>\u001b[0m in \u001b[0;36m<module>\u001b[1;34m()\u001b[0m\n\u001b[0;32m      3\u001b[0m     \u001b[0mprint\u001b[0m\u001b[1;33m(\u001b[0m\u001b[0maa\u001b[0m\u001b[1;33m)\u001b[0m \u001b[1;31m# refer to an undefined global variable\u001b[0m\u001b[1;33m\u001b[0m\u001b[0m\n\u001b[0;32m      4\u001b[0m \u001b[1;33m\u001b[0m\u001b[0m\n\u001b[1;32m----> 5\u001b[1;33m \u001b[0mmy_function4\u001b[0m\u001b[1;33m(\u001b[0m\u001b[1;33m)\u001b[0m\u001b[1;33m\u001b[0m\u001b[0m\n\u001b[0m\u001b[0;32m      6\u001b[0m \u001b[0mprint\u001b[0m\u001b[1;33m(\u001b[0m\u001b[0maa\u001b[0m\u001b[1;33m)\u001b[0m\u001b[1;33m\u001b[0m\u001b[0m\n",
      "\u001b[1;32m<ipython-input-2-a24197731575>\u001b[0m in \u001b[0;36mmy_function4\u001b[1;34m()\u001b[0m\n\u001b[0;32m      1\u001b[0m \u001b[1;32mdef\u001b[0m \u001b[0mmy_function4\u001b[0m\u001b[1;33m(\u001b[0m\u001b[1;33m)\u001b[0m\u001b[1;33m:\u001b[0m\u001b[1;33m\u001b[0m\u001b[0m\n\u001b[0;32m      2\u001b[0m     \u001b[1;32mglobal\u001b[0m \u001b[0maa\u001b[0m\u001b[1;33m\u001b[0m\u001b[0m\n\u001b[1;32m----> 3\u001b[1;33m     \u001b[0mprint\u001b[0m\u001b[1;33m(\u001b[0m\u001b[0maa\u001b[0m\u001b[1;33m)\u001b[0m \u001b[1;31m# refer to an undefined global variable\u001b[0m\u001b[1;33m\u001b[0m\u001b[0m\n\u001b[0m\u001b[0;32m      4\u001b[0m \u001b[1;33m\u001b[0m\u001b[0m\n\u001b[0;32m      5\u001b[0m \u001b[0mmy_function4\u001b[0m\u001b[1;33m(\u001b[0m\u001b[1;33m)\u001b[0m\u001b[1;33m\u001b[0m\u001b[0m\n",
      "\u001b[1;31mNameError\u001b[0m: name 'aa' is not defined"
     ]
    }
   ],
   "source": [
    "def my_function4():\n",
    "    global aa\n",
    "    print(aa) # refer to an undefined global variable\n",
    "\n",
    "my_function4()\n",
    "print(aa)"
   ]
  },
  {
   "cell_type": "markdown",
   "metadata": {},
   "source": [
    "+ Local variables"
   ]
  },
  {
   "cell_type": "code",
   "execution_count": 7,
   "metadata": {},
   "outputs": [
    {
     "name": "stdout",
     "output_type": "stream",
     "text": [
      "3\n",
      "0\n"
     ]
    }
   ],
   "source": [
    "a = 0\n",
    "def my_function6():\n",
    "    a=3 # this is a local variable\n",
    "    print(a)\n",
    "\n",
    "my_function6()\n",
    "print(a)"
   ]
  },
  {
   "cell_type": "code",
   "execution_count": 8,
   "metadata": {},
   "outputs": [
    {
     "ename": "UnboundLocalError",
     "evalue": "local variable 'a' referenced before assignment",
     "output_type": "error",
     "traceback": [
      "\u001b[1;31m---------------------------------------------------------------------------\u001b[0m",
      "\u001b[1;31mUnboundLocalError\u001b[0m                         Traceback (most recent call last)",
      "\u001b[1;32m<ipython-input-8-bd1c817ee6df>\u001b[0m in \u001b[0;36m<module>\u001b[1;34m()\u001b[0m\n\u001b[0;32m      4\u001b[0m     \u001b[0ma\u001b[0m\u001b[1;33m=\u001b[0m\u001b[1;36m3\u001b[0m\u001b[1;33m\u001b[0m\u001b[0m\n\u001b[0;32m      5\u001b[0m     \u001b[0mprint\u001b[0m\u001b[1;33m(\u001b[0m\u001b[0ma\u001b[0m\u001b[1;33m)\u001b[0m\u001b[1;33m\u001b[0m\u001b[0m\n\u001b[1;32m----> 6\u001b[1;33m \u001b[0mmy_function7\u001b[0m\u001b[1;33m(\u001b[0m\u001b[1;33m)\u001b[0m\u001b[1;33m\u001b[0m\u001b[0m\n\u001b[0m\u001b[0;32m      7\u001b[0m \u001b[0mprint\u001b[0m\u001b[1;33m(\u001b[0m\u001b[0ma\u001b[0m\u001b[1;33m)\u001b[0m\u001b[1;33m\u001b[0m\u001b[0m\n",
      "\u001b[1;32m<ipython-input-8-bd1c817ee6df>\u001b[0m in \u001b[0;36mmy_function7\u001b[1;34m()\u001b[0m\n\u001b[0;32m      1\u001b[0m \u001b[0ma\u001b[0m \u001b[1;33m=\u001b[0m \u001b[1;36m0\u001b[0m\u001b[1;33m\u001b[0m\u001b[0m\n\u001b[0;32m      2\u001b[0m \u001b[1;32mdef\u001b[0m \u001b[0mmy_function7\u001b[0m\u001b[1;33m(\u001b[0m\u001b[1;33m)\u001b[0m\u001b[1;33m:\u001b[0m\u001b[1;33m\u001b[0m\u001b[0m\n\u001b[1;32m----> 3\u001b[1;33m     \u001b[0mprint\u001b[0m\u001b[1;33m(\u001b[0m\u001b[0ma\u001b[0m\u001b[1;33m)\u001b[0m \u001b[1;31m# a is a local variable but is referred before it is created.\u001b[0m\u001b[1;33m\u001b[0m\u001b[0m\n\u001b[0m\u001b[0;32m      4\u001b[0m     \u001b[0ma\u001b[0m\u001b[1;33m=\u001b[0m\u001b[1;36m3\u001b[0m\u001b[1;33m\u001b[0m\u001b[0m\n\u001b[0;32m      5\u001b[0m     \u001b[0mprint\u001b[0m\u001b[1;33m(\u001b[0m\u001b[0ma\u001b[0m\u001b[1;33m)\u001b[0m\u001b[1;33m\u001b[0m\u001b[0m\n",
      "\u001b[1;31mUnboundLocalError\u001b[0m: local variable 'a' referenced before assignment"
     ]
    }
   ],
   "source": [
    "a = 0\n",
    "def my_function7():\n",
    "    print(a) # a is a local variable but is referred before it is created.\n",
    "    a=3\n",
    "    print(a)\n",
    "my_function7()\n",
    "print(a)"
   ]
  },
  {
   "cell_type": "code",
   "execution_count": 9,
   "metadata": {},
   "outputs": [
    {
     "name": "stdout",
     "output_type": "stream",
     "text": [
      "my_function7-1: 3\n",
      "my_inner_function: 6\n",
      "my_function7-2: 6\n",
      "global: 0\n"
     ]
    }
   ],
   "source": [
    "a = 0\n",
    "def my_function7():\n",
    "    a=3\n",
    "    def my_inner_function():\n",
    "        nonlocal a\n",
    "        a = 6\n",
    "        print('my_inner_function:',a)\n",
    "    print('my_function7-1:',a)\n",
    "    my_inner_function()\n",
    "    print('my_function7-2:',a)\n",
    "\n",
    "my_function7()\n",
    "print('global:',a)\n"
   ]
  },
  {
   "cell_type": "markdown",
   "metadata": {},
   "source": [
    "# <span style=color:blue> Constants </span> \n",
    "+ Python does not have constant variables. In Python, the name of a variable whose value is not meant to change is usually in all caps with underscores separating words. \n",
    "        MAXIMUM_NUMBER = 20\n",
    "        #We define some options which are constants\n",
    "        LOWER, UPPER, CAPITAL = 1, 2, 3\n",
    "        name = \"jane\"\n",
    "        #We use our constants when assigning these values...\n",
    "        print_style = UPPER\n",
    "        #...and when checking them:\n",
    "        if print_style == LOWER:\n",
    "            print(name.lower())\n",
    "        elif print_style == UPPER:\n",
    "            print(name.upper())\n",
    "        elif print_style == CAPITAL:\n",
    "            print(name.capitalize())\n",
    "        else:\n",
    "            print(\"Unknown style option!\")\n",
    "\n",
    "+ Some Python modules define common constants.\n",
    "\n",
    "        import string, math, re\n",
    "\n",
    "        #all the lowercase ASCII letters\n",
    "        print(string.asci_lowercase) # 'abcdefghijklmnopqrstuvwxyz'\n",
    "\n",
    "        #some mathematical constants\n",
    "        print(math.e) # 2.718281828459045\n",
    "        print(math.pi) # 3.141592653589793\n"
   ]
  },
  {
   "cell_type": "markdown",
   "metadata": {},
   "source": [
    "# <span style=color:blue> Mutable Types and Immutable Types</span>\n",
    "+ Statically typed or Dynamically typed\n",
    "+ Variable scope and lifetime\n",
    "+ Type conversion\n",
    "+ We can only assign a variable of an immutable type a new value. Integers, floating-point numbers, and strings are all immutable types.\n",
    "+ We can alter the value of a variable of a mutable type. Lists, dictionaries, and most of objects are mutable.\n",
    "  * Examples\n",
    "        my_list = [1,2,3,4]\n",
    "        my_list[0] = 0 # we can change the first element of this list\n",
    "        class myClass(object): # declare a class\n",
    "            pass; \n",
    "        my_object = myClass();\n",
    "        my_object.a_property = 99; # We can change the value of the attribute of my_object"
   ]
  },
  {
   "cell_type": "markdown",
   "metadata": {},
   "source": [
    "# <span style=color:blue> Type Conversion </span>\n",
    "+ Convert data from one type to another type\n",
    "+ Implicit conversion\n",
    "  * Integer numbers can be converted to floating-point numbers implicitly.\n",
    "\t\tresult = 2 + 3//2 + 2.5  # the result is a floating-point number\n",
    "\t\tif result:\n",
    "\t\t\tprint(\"result is not equal to 0\")\n",
    "\t\tif 3 > 4: # convert to a Boolean value\n",
    "\t\t\tprint(\"This line cannot be reached\")\n",
    "\t\tprint(3) # implicitly convert to \"3\"\n",
    "+ Explicit conversion\n",
    "  * Examples\n",
    "        int(\"5\") # correct\n",
    "        int(5.5) # correct\n",
    "        int(\"5.5\") # incorrect\n",
    "        int(float(\"5.5\")) # correct\n",
    "\n",
    "        str(3)   # convert to \"3\"\n",
    "        str(3.3)  # convert to \"3.3“\n",
    "        int(\"3\")+20 # convert to 23\n",
    "        \"3\"+str(10) # convert to \"310\"\n",
    "        \"hello\" + 3  # incorrect\n",
    "        \"hello%d\"%3  # correct, and get \"hello3\"\n"
   ]
  },
  {
   "cell_type": "code",
   "execution_count": 10,
   "metadata": {
    "collapsed": true
   },
   "outputs": [],
   "source": [
    "from math import ceil, floor \n",
    "x = ceil(2.4) # x is equal to 3\n",
    "x = floor(2.9) # x is equal to 2\n",
    "x = round(2.6) # x is equal to 3"
   ]
  },
  {
   "cell_type": "code",
   "execution_count": 11,
   "metadata": {},
   "outputs": [
    {
     "name": "stdout",
     "output_type": "stream",
     "text": [
      "Enter your age:21a\n",
      "Error reading age: invalid literal for int() with base 10: '21a'\n"
     ]
    }
   ],
   "source": [
    "try:\n",
    "    age = int(input(\"Enter your age:\"))\n",
    "except ValueError as e:\n",
    "    print(\"Error reading age: {}\".format(e))\n"
   ]
  }
 ],
 "metadata": {
  "kernelspec": {
   "display_name": "Python 3",
   "language": "python",
   "name": "python3"
  },
  "language_info": {
   "codemirror_mode": {
    "name": "ipython",
    "version": 3
   },
   "file_extension": ".py",
   "mimetype": "text/x-python",
   "name": "python",
   "nbconvert_exporter": "python",
   "pygments_lexer": "ipython3",
   "version": "3.8.5"
  }
 },
 "nbformat": 4,
 "nbformat_minor": 2
}
