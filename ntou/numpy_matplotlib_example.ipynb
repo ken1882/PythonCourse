{
 "cells": [
  {
   "cell_type": "markdown",
   "metadata": {},
   "source": [
    "# 使用Markdown格式撰寫文件\n",
    "1. http://markdown.tw/\n",
    "2. https://github.com/adam-p/markdown-here/wiki/Markdown-Cheatsheet"
   ]
  },
  {
   "cell_type": "markdown",
   "metadata": {},
   "source": [
    "# 範例: 計算最小方差和多項式\n",
    "產生隨機資料及顯示資料   "
   ]
  },
  {
   "cell_type": "code",
   "execution_count": 15,
   "metadata": {
    "collapsed": false
   },
   "outputs": [
    {
     "data": {
      "text/plain": [
       "[<matplotlib.lines.Line2D at 0x8b89cc0>]"
      ]
     },
     "execution_count": 15,
     "metadata": {},
     "output_type": "execute_result"
    }
   ],
   "source": [
    "import numpy as np\n",
    "import matplotlib.pyplot as plt\n",
    "# generate data\n",
    "x = (np.random.random((1,100))-0.5)*10\n",
    "y = x**3-2*x**2+10*x+np.random.randn(1,100)*10\n",
    "plt.plot(x.ravel(),y.ravel(),'.',color='#8c8c8c',label='raw data')"
   ]
  },
  {
   "cell_type": "markdown",
   "metadata": {},
   "source": [
    "使用 np.linalg.lstsq解下面最小方差問題來找到一個線性回歸函數:\n",
    "\\begin{equation}\n",
    "\\text{arg}\\min_{a,b}\\sum_{i=1}^{n}(ax_{i}+b-y_{i})^{2}\n",
    "\\end{equation}"
   ]
  },
  {
   "cell_type": "code",
   "execution_count": 16,
   "metadata": {
    "collapsed": true
   },
   "outputs": [],
   "source": [
    "lsq_sol = np.linalg.lstsq(np.hstack([x.reshape(-1,1),np.ones((x.size,1))]),y.reshape(-1,1))"
   ]
  },
  {
   "cell_type": "markdown",
   "metadata": {},
   "source": [
    "描繪出此線性回歸函數"
   ]
  },
  {
   "cell_type": "code",
   "execution_count": 17,
   "metadata": {
    "collapsed": false
   },
   "outputs": [
    {
     "data": {
      "text/plain": [
       "[<matplotlib.lines.Line2D at 0x8653908>]"
      ]
     },
     "execution_count": 17,
     "metadata": {},
     "output_type": "execute_result"
    }
   ],
   "source": [
    "plt.plot(np.arange(-5,5.1,10),lsq_sol[0].ravel()[0]*np.arange(-5,5.1,10)+lsq_sol[0].ravel()[1],'b-',linewidth=3,label='$y=ax+b$')"
   ]
  },
  {
   "cell_type": "markdown",
   "metadata": {},
   "source": [
    "使用 np.polyfit解下面最小方差問題來找到一個3次多項式:\n",
    "\\begin{equation}\n",
    "\\text{arg}\\min_{a,b,c,d}\\sum_{i=1}^{n}(ax^{3}_{i}+bx^{2}_{i}+cx_{i}+b-y_{i})^{2}\n",
    "\\end{equation}"
   ]
  },
  {
   "cell_type": "code",
   "execution_count": 18,
   "metadata": {
    "collapsed": true
   },
   "outputs": [],
   "source": [
    "# use np.polyfit to find the third-degree polynomial minimizing the least-squares problem\n",
    "p3 = np.polyfit(x.ravel(),y.ravel(),3)"
   ]
  },
  {
   "cell_type": "markdown",
   "metadata": {},
   "source": [
    "描繪出此回歸多項式"
   ]
  },
  {
   "cell_type": "code",
   "execution_count": 19,
   "metadata": {
    "collapsed": false
   },
   "outputs": [
    {
     "data": {
      "image/png": "[encoded data removed]",
      "text/plain": [
       "<matplotlib.figure.Figure at 0x8653c50>"
      ]
     },
     "metadata": {},
     "output_type": "display_data"
    }
   ],
   "source": [
    "plt.plot(np.arange(-5,5,0.1),np.polyval(p3,np.arange(-5,5,0.1)),'r-',linewidth=3,label='$y=ax^{3}+bx^{2}+cx+d$')\n",
    "\n",
    "plt.xlabel('x'); plt.ylabel('y'); plt.legend(); plt.show()"
   ]
  },
  {
   "cell_type": "code",
   "execution_count": null,
   "metadata": {
    "collapsed": true
   },
   "outputs": [],
   "source": []
  }
 ],
 "metadata": {
  "kernelspec": {
   "display_name": "Python 3",
   "language": "python",
   "name": "python3"
  },
  "language_info": {
   "codemirror_mode": {
    "name": "ipython",
    "version": 3
   },
   "file_extension": ".py",
   "mimetype": "text/x-python",
   "name": "python",
   "nbconvert_exporter": "python",
   "pygments_lexer": "ipython3",
   "version": "3.6.0"
  }
 },
 "nbformat": 4,
 "nbformat_minor": 2
}
