{
 "cells": [
  {
   "cell_type": "markdown",
   "metadata": {},
   "source": [
    "# <span style=color:blue> Functions </span>\n",
    "+ In Python, the definition of a function consists of four parts:\n",
    "  + The function name;\n",
    "  + The input argument: positional and keyword arguments;\n",
    "  + The function body;\n",
    "  + The return value;\n",
    "\n",
    "\n",
    "        def add(a, b):\n",
    "            return a + b\n",
    "\n",
    "\n",
    "        def divide(dividend, divisor):\n",
    "            if not divisor:\n",
    "                raise ValueError(\"The divisor cannot be zero!\")\n",
    "            quotient = dividend // divisor\n",
    "            remainder = dividend % divisor\n",
    "            return quotient, remainder # these two numbers will be packed into a tuple\n",
    " \n",
    "\n",
    "+ In Python, only one function with a particular name can be defined in a scope.  Defining another function with the same name overwrites the first function.\n"
   ]
  },
  {
   "cell_type": "markdown",
   "metadata": {},
   "source": [
    "-----\n",
    "# <span style=color:blue> Default Arguments </span>\n",
    "+ In Python, optional arguments must have default values and come after all the required arguments in the function definition. It is not necessary to pass optional arguments to a function.\n",
    "\n",
    "\n",
    "        def make_greeting(title, name, surname, formal=True): # formal is an optional argument\n",
    "            if formal:\n",
    "                return \"Hello, {} {}!\".format(title, surname)\n",
    "            return \"Hello, {}!\".format(name)\n",
    "\n",
    "\n",
    "        print(make_greeting(\"Mr\", \"John\", \"Smith\"))\n",
    "        print(make_greeting(\"Mr\", \"John\", \"Smith\", False))\n",
    "        \n",
    "        # the first two arguments are positional arguments and the last two are the keyword arguments\n",
    "        print(make_greeting(\"Mr\", \"John\", formal=False, surname=\"Smith\")) \n",
    "        \n",
    "\n",
    "+ When calling a function with positional and keyword arguments, the keyword argument always comes after the positional argument.\n",
    "  + Positional arguments can also be passed by keyword.\n",
    "  + Keyword arguments can be passed in any order as long as all of the required positional arguments are specified.\n",
    "  + Keyword arguments are often used to define optional behaviors of a function."
   ]
  },
  {
   "cell_type": "markdown",
   "metadata": {},
   "source": [
    "-----\n",
    "# <span style=color:blue> Mutable Types and Default Arguments </span>\n",
    "\n",
    "#### <span style=color:red>Be careful when the default value is mutable because this default object is created at the function definition.</span>\n"
   ]
  },
  {
   "cell_type": "code",
   "execution_count": 1,
   "metadata": {},
   "outputs": [
    {
     "name": "stdout",
     "output_type": "stream",
     "text": [
      "['cat', 'dog']\n",
      "['cat', 'dog']\n"
     ]
    }
   ],
   "source": [
    "# notice that the default value for pets is mutable\n",
    "def add_pet_to_list(pet, pets=[]):\n",
    "    pets.append(pet)\n",
    "    return pets\n",
    "\n",
    "list_with_cat = add_pet_to_list(\"cat\")\n",
    "list_with_dog = add_pet_to_list(\"dog\")\n",
    "print(list_with_cat)\n",
    "print(list_with_dog)\n"
   ]
  },
  {
   "cell_type": "code",
   "execution_count": 3,
   "metadata": {},
   "outputs": [
    {
     "name": "stdout",
     "output_type": "stream",
     "text": [
      "['cat']\n",
      "['dog']\n"
     ]
    }
   ],
   "source": [
    "def add_pet_to_list(pet, pets=None):\n",
    "    if pets is None:\n",
    "        return [pet]\n",
    "    else:\n",
    "        pets.append(pet)\n",
    "        return pets\n",
    "\n",
    "list_with_cat = add_pet_to_list(\"cat\")\n",
    "list_with_dog = add_pet_to_list(\"dog\")\n",
    "print(list_with_cat)\n",
    "print(list_with_dog)"
   ]
  },
  {
   "cell_type": "markdown",
   "metadata": {},
   "source": [
    "-----\n",
    "# <span style=color:blue> $*$args and $**$kwargs </span>\n",
    "### A function can accept a variable number of positional or keyword arguments.\n",
    "A variable number of positional arguments can be passed in the following manner, where positional arguments are in a tuple and keyword arguments are in a dict.\n",
    "\n",
    "##### A variable number of positional arguments\n",
    "        def print_args(*args):\n",
    "            for arg in args:\n",
    "                print(arg)\n",
    "\n",
    "##### A variable number of keyword arguments\n",
    "        def print_kwargs(**kwargs):\n",
    "            for kw, v in kwargs.items():\n",
    "                print(kw, v)\n",
    "\n",
    "##### A variable number of positional and keyword arguments \n",
    "        def print_args_kwargs(*args,**kwargs):\n",
    "            for arg in args:\n",
    "                print(arg)\n",
    "            for kw, v in kwargs.items():\n",
    "                print(kw, v)\n",
    "+ Use $*$ to unpack a sequence args to individual arguments for calling function f as f($*$args)\n",
    "+ Use $**$ to unpack a dict kwargs to individual keyword arguments for calling function f as f($**$kwargs)\n",
    "\n",
    "        a=[1,2,3]\n",
    "        f(*a)   # f(1,2,3)\n",
    "\n",
    "        d={'x': 10, 'y':20}\n",
    "        f(**d)  # f(x=10,y=20)\n"
   ]
  },
  {
   "cell_type": "code",
   "execution_count": 6,
   "metadata": {},
   "outputs": [
    {
     "name": "stdout",
     "output_type": "stream",
     "text": [
      "3\n",
      "30\n"
     ]
    }
   ],
   "source": [
    "def f(x,y):\n",
    "    return x + y\n",
    "\n",
    "print(f(*[1,2]))\n",
    "print(f(**{'x':10,'y':20}))"
   ]
  },
  {
   "cell_type": "markdown",
   "metadata": {},
   "source": [
    "-----\n",
    "# <span style=color:blue> Scope </span>\n",
    "https://docs.python.org/3/tutorial/classes.html#python-scopes-and-namespaces"
   ]
  },
  {
   "cell_type": "code",
   "execution_count": 7,
   "metadata": {},
   "outputs": [
    {
     "name": "stdout",
     "output_type": "stream",
     "text": [
      "After local assignment: test spam\n",
      "After nonlocal assignment: nonlocal spam\n",
      "After global assignment: nonlocal spam\n",
      "In global scope: global spam\n"
     ]
    }
   ],
   "source": [
    "def scope_test():\n",
    "    def do_local():\n",
    "        spam = \"local spam\"\n",
    "\n",
    "    def do_nonlocal():\n",
    "        nonlocal spam\n",
    "        spam = \"nonlocal spam\"\n",
    "\n",
    "    def do_global():\n",
    "        global spam\n",
    "        spam = \"global spam\"\n",
    "\n",
    "    spam = \"test spam\"\n",
    "    do_local()\n",
    "    print(\"After local assignment:\", spam)\n",
    "    do_nonlocal()\n",
    "    print(\"After nonlocal assignment:\", spam)\n",
    "    do_global()\n",
    "    print(\"After global assignment:\", spam)\n",
    "\n",
    "scope_test()\n",
    "print(\"In global scope:\", spam)\n"
   ]
  },
  {
   "cell_type": "markdown",
   "metadata": {},
   "source": [
    "-----\n",
    "# <span style=color:blue> lambda functions </span>\n",
    "+ The lambda keyword can be used to define anonymous, one-line functions inline in our code.\n",
    "+ A lambda function may only contain a single expression, and the result of evaluating this expression is implicitly returned from the function without using the return keyword.\n",
    "\n",
    "\n",
    "        a = lambda : -999 \n",
    "        is the same as \n",
    "        def a(): \n",
    "            return -999 \n",
    "            \n",
    "\n",
    "        a = lambda x: x+1 \n",
    "        is the same as \n",
    "        def a(x): \n",
    "            return x + 1 \n",
    "            \n",
    "        a = lambda x,y : x<=y \n",
    "        is the same as \n",
    "        def a(x,y): \n",
    "            return x<=y \n",
    "            \n"
   ]
  },
  {
   "cell_type": "markdown",
   "metadata": {},
   "source": [
    "-----\n",
    "# <span style=color:blue> The filter, map, and reduce Functions </span>\n",
    "#### filter(function, iterable) is used to select some elements in the iterable and its formula is equivalent to (item for item in iterable if function(item))."
   ]
  },
  {
   "cell_type": "code",
   "execution_count": 10,
   "metadata": {},
   "outputs": [
    {
     "name": "stdout",
     "output_type": "stream",
     "text": [
      "2\n",
      "4\n",
      "6\n",
      "8\n"
     ]
    }
   ],
   "source": [
    "a=[1,2,3,4,5,6,7,8]\n",
    "p=filter(lambda x : x % 2 == 0,a)\n",
    "for u in p:\n",
    "    print(u)\n"
   ]
  },
  {
   "cell_type": "markdown",
   "metadata": {},
   "source": [
    "#### map(function, iterable) is used to map every element in the iterable to another object or value, and its formula is equivalent to (function(item) for item in iterable)."
   ]
  },
  {
   "cell_type": "code",
   "execution_count": 9,
   "metadata": {},
   "outputs": [
    {
     "name": "stdout",
     "output_type": "stream",
     "text": [
      "3\n",
      "4\n",
      "5\n",
      "6\n"
     ]
    }
   ],
   "source": [
    "a=[1,2,3,4]\n",
    "p=map(lambda x : x + 2,a)\n",
    "for u in p:\n",
    "    print(u)\n"
   ]
  },
  {
   "cell_type": "markdown",
   "metadata": {},
   "source": [
    "#### reduce($f$, $x$), where $f$ is a function and $x$ is an iterable object, is used to perform some computation on $x$. The formula of reduce($f$,$x$) is equivalent to \n",
    "$\n",
    "reduce(f,x)=\\begin{cases} f(x[0],x[1]) & \\text{if } len(x)==2 \\\\\n",
    "f(...f(f(f(x[0],x[1]),x[2]),x[3]),...),x[-1])               &\\text{otherwise}\n",
    "\\end{cases}\n",
    "$"
   ]
  },
  {
   "cell_type": "code",
   "execution_count": 12,
   "metadata": {},
   "outputs": [
    {
     "name": "stdout",
     "output_type": "stream",
     "text": [
      "10\n"
     ]
    }
   ],
   "source": [
    "from functools import reduce\n",
    "a=[1,2,3,4]\n",
    "print(reduce(lambda x,y: x+y,a))"
   ]
  },
  {
   "cell_type": "markdown",
   "metadata": {},
   "source": [
    "-----\n",
    "# <span style=color:blue> Decorators </span>\n",
    "+ We may need to modify several functions in the same way for some reasons,  for example, logging.\n",
    "+ In Python, we can write a function which modifies functions and call this function decorator.  A decorator has a parameter which is the function to be modified and returns the modified function."
   ]
  },
  {
   "cell_type": "code",
   "execution_count": 30,
   "metadata": {
    "collapsed": true
   },
   "outputs": [],
   "source": [
    "def logging(o_func):\n",
    "    def n_function(*args, ** kwargs):\n",
    "        print(\"{} called with positional arguments {} and keyword arguments {}.\".format(o_func.__name__, args, kwargs))\n",
    "        return o_func (*args,** kwargs)\n",
    "    return n_function"
   ]
  },
  {
   "cell_type": "code",
   "execution_count": 31,
   "metadata": {},
   "outputs": [
    {
     "name": "stdout",
     "output_type": "stream",
     "text": [
      "my_function1 called with positional arguments ('hello',) and keyword arguments {'message2': 'hi'}.\n",
      "hello hi\n"
     ]
    }
   ],
   "source": [
    "# here is a function to decorate\n",
    "def my_function1(message1,message2):\n",
    "    print(message1,message2)\n",
    "# decorate my_function\n",
    "my_function1 = logging(my_function1)\n",
    "\n",
    "my_function1('hello',message2='hi')"
   ]
  },
  {
   "cell_type": "markdown",
   "metadata": {},
   "source": [
    "#### @logging defines my_function = logging(my_function)"
   ]
  },
  {
   "cell_type": "code",
   "execution_count": 32,
   "metadata": {},
   "outputs": [
    {
     "name": "stdout",
     "output_type": "stream",
     "text": [
      "my_function2 called with positional arguments ('hello',) and keyword arguments {'message2': 'hi'}.\n",
      "hello hi\n"
     ]
    }
   ],
   "source": [
    "# A shorthand syntax for applying decorators to functions\n",
    "@logging\n",
    "def my_function2(message1,message2):\n",
    "    print(message1,message2)\n",
    "    \n",
    "my_function2('hello',message2='hi')"
   ]
  },
  {
   "cell_type": "markdown",
   "metadata": {},
   "source": [
    "#### We can pass other parameters to decorators."
   ]
  },
  {
   "cell_type": "code",
   "execution_count": 33,
   "metadata": {
    "collapsed": true
   },
   "outputs": [],
   "source": [
    "def another_logging(pre_msg):\n",
    "    def n_func(o_func,*args, ** kwargs):\n",
    "        print(pre_msg+\"{} called with positional arguments {} and keyword arguments {}.\".format(o_func.__name__, args, kwargs))\n",
    "        return o_func(*args,** kwargs)\n",
    "    return lambda f: lambda *args, **kwargs : n_func(f, *args, **kwargs)"
   ]
  },
  {
   "cell_type": "code",
   "execution_count": 37,
   "metadata": {},
   "outputs": [
    {
     "name": "stdout",
     "output_type": "stream",
     "text": [
      "hi===>my_function3 called with positional arguments ('hello',) and keyword arguments {'message2': 'hi'}.\n",
      "hello hi\n"
     ]
    }
   ],
   "source": [
    "@another_logging(\"hi===>\") # my_function = another_logging(\"hi\")(my_function3)\n",
    "def my_function3(message1,message2):\n",
    "    print(message1,message2)\n",
    "\n",
    "my_function3('hello',message2='hi')"
   ]
  },
  {
   "cell_type": "code",
   "execution_count": 36,
   "metadata": {},
   "outputs": [
    {
     "name": "stdout",
     "output_type": "stream",
     "text": [
      "decorator_A.decorator_B.helloPython\n"
     ]
    }
   ],
   "source": [
    "def tag(name):\n",
    "    return lambda f : lambda *args, **kwargs: name + \".\" + f(*args,**kwargs)\n",
    "\n",
    "@tag(\"decorator_A\")#\n",
    "@tag(\"decorator_B\")#\n",
    "def my_function4(x,y):\n",
    "    return x+y\n",
    "\n",
    "#my_function4 = tag(\"decorator_B\")(my_function4)\n",
    "#my_function4 = tag(\"decorator_A\")(my_function4)\n",
    "\n",
    "print(my_function4(\"hello\",\"Python\"))\n"
   ]
  },
  {
   "cell_type": "markdown",
   "metadata": {},
   "source": [
    "-----\n",
    "# <span style=color:red> Generator Functions and the yield Statement </span>\n",
    "+ The yield statement is used to create a generator. Whenever a new value is requested, the generator function will be resumed from the statement right after the yield statement previously executed. \n",
    "+ Once the generator function reaches the end of this function, a StopIteration exception arises.\n",
    "+ <span style=color:red>Consider a generator instead of a function returning a list.</span>\n",
    "  + Advantage: The working memory of a generator does not include all outputs!!!\n",
    "  + Disadvantage: The iterator gotten from a generator cannot be reused.\n"
   ]
  },
  {
   "cell_type": "code",
   "execution_count": 5,
   "metadata": {},
   "outputs": [
    {
     "name": "stdout",
     "output_type": "stream",
     "text": [
      "main_loop: 3\n",
      "m: 3\n",
      "main_loop: 9\n",
      "m: 9\n",
      "main_loop: 13\n",
      "m: 13\n"
     ]
    }
   ],
   "source": [
    "def my_gen(n1, n2, divisor):\n",
    "    for p in range(n1,n2):\n",
    "        for x in divisor:\n",
    "            if p % x == 0:\n",
    "                break\n",
    "        else:\n",
    "            yield p\n",
    "            print('m:',p) # my_gen will resume from here\n",
    "    # Raise a StopIteration exception\n",
    "    \n",
    "for p in my_gen(3,16,[2,5,7,11]): # The for statement can handle StopIteration exception\n",
    "    print('main_loop:',p)\n"
   ]
  },
  {
   "cell_type": "code",
   "execution_count": 9,
   "metadata": {},
   "outputs": [
    {
     "name": "stdout",
     "output_type": "stream",
     "text": [
      "produce 60 units\n",
      "consume 60 units\n",
      "produce 70 units\n",
      "consume 70 units\n",
      "produce 47 units\n",
      "consume 47 units\n",
      "produce 54 units\n",
      "consume 54 units\n",
      "produce 47 units\n",
      "consume 47 units\n",
      "produce 64 units\n",
      "consume 64 units\n",
      "produce 91 units\n",
      "consume 91 units\n",
      "produce 28 units\n",
      "consume 28 units\n",
      "produce 27 units\n",
      "consume 27 units\n",
      "produce 96 units\n",
      "consume 96 units\n"
     ]
    }
   ],
   "source": [
    "import random\n",
    "def producer():\n",
    "    while True:\n",
    "        data = random.randint(0,100)\n",
    "        print(\"produce {} units\".format(data))\n",
    "        yield data\n",
    "\n",
    "def consumer():\n",
    "    while True:\n",
    "        data = yield\n",
    "        print(\"consume {} units\".format(data))\n",
    "        \n",
    "p = producer()\n",
    "c = consumer()\n",
    "\n",
    "# make consumer continue execution to a yield statement\n",
    "next(c)\n",
    "\n",
    "for i in range(10):\n",
    "    c.send(next(p))\n"
   ]
  },
  {
   "cell_type": "markdown",
   "metadata": {},
   "source": [
    "-----\n",
    "# <span style=color:blue> Built-in Functions </span>\n",
    "https://docs.python.org/3/library/functions.html\n",
    "<img src=\"./picture/builtin.png\" alt=\"builtin\" width=450/>"
   ]
  },
  {
   "cell_type": "code",
   "execution_count": null,
   "metadata": {
    "collapsed": true
   },
   "outputs": [],
   "source": []
  }
 ],
 "metadata": {
  "kernelspec": {
   "display_name": "Python 3",
   "language": "python",
   "name": "python3"
  },
  "language_info": {
   "codemirror_mode": {
    "name": "ipython",
    "version": 3
   },
   "file_extension": ".py",
   "mimetype": "text/x-python",
   "name": "python",
   "nbconvert_exporter": "python",
   "pygments_lexer": "ipython3",
   "version": "3.8.5"
  }
 },
 "nbformat": 4,
 "nbformat_minor": 2
}
