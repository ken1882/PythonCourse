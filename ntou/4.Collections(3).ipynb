{
 "cells": [
  {
   "cell_type": "markdown",
   "metadata": {},
   "source": [
    "# <span style=color:blue> Collections </span> \n",
    "https://docs.python.org/3/library/stdtypes.html#types-set\n",
    "In Python, there are several built-in collections, which can be used to group multiple objects together in different manners.\n",
    "+ Lists are used to store multiple objects in a sequence;\n",
    "+ Tuples are similar to lists but tuples are immutable;\n",
    "+ Sets are used to store unique elements and useful to frequently check the existence of an element;\n",
    "+ Dictionaries are used to store key-value pairs;\n",
    "+ Ranges are another types of immutable sequence and used to create ranges of integers. Ranges are generators. "
   ]
  },
  {
   "cell_type": "markdown",
   "metadata": {},
   "source": [
    "-----\n",
    "# <span style=color:blue> Lists </span>\n",
    "+ A list can be used to store multiple values, which can be accessed by their indices in the list.\n",
    "+ If a list x contains n elements, these n elements can be accessed by their indices as x[0], …, x[n-1]."
   ]
  },
  {
   "cell_type": "code",
   "execution_count": 1,
   "metadata": {
    "collapsed": true
   },
   "outputs": [],
   "source": [
    "# a list of strings\n",
    "animals = ['cat', 'dog', 'fish', 'bison']\n",
    "\n",
    "# a list of integers\n",
    "numbers = [1, 7, 34, 20, 12]\n",
    "\n",
    "# an empty list\n",
    "an_empty_list = [] \n",
    "another_empty_list = list()\n",
    "\n",
    "# a list of variables we defined somewhere else\n",
    "things = [\n",
    "animals,\n",
    "numbers,\n",
    "an_empty_list, # this trailing comma is legal in Python\n",
    "]"
   ]
  },
  {
   "cell_type": "code",
   "execution_count": 2,
   "metadata": {},
   "outputs": [
    {
     "name": "stdout",
     "output_type": "stream",
     "text": [
      "cat\n",
      "7\n",
      "list index out of range\n",
      "bison\n",
      "20\n",
      "['dog', 'fish']\n",
      "['dog', 'fish']\n",
      "['fish', 'bison']\n",
      "['cat', 'dog']\n",
      "['cat', 'dog', 'fish', 'bison']\n",
      "['cat', 'fish']\n"
     ]
    }
   ],
   "source": [
    "print(animals[0]) # cat\n",
    "print(numbers[1]) # 7\n",
    "\n",
    "# This will give us an error, because the list only has four elements\n",
    "try:\n",
    "    print(animals[6])\n",
    "except IndexError as e:\n",
    "    print(e)\n",
    "\n",
    "# access a list element by the index from the end of a list\n",
    "print(animals[-1]) # the last element -- bison\n",
    "print(numbers[-2]) # the second-last element – 20\n",
    "\n",
    "# access a range of list elements animals[start:end:step]\n",
    "print(animals[1:3]) # ['dog', 'fish']\n",
    "print(animals[1:-1]) # ['dog', 'fish']\n",
    "print(animals[2:]) # ['fish', 'bison']\n",
    "print(animals[:2]) # ['cat', 'dog']\n",
    "print(animals[:]) # a copy of the whole list\n",
    "print(animals[::2]) # ['cat', 'fish']"
   ]
  },
  {
   "cell_type": "code",
   "execution_count": 3,
   "metadata": {},
   "outputs": [
    {
     "name": "stdout",
     "output_type": "stream",
     "text": [
      "['cat', 'dog', 'fish', 'bison']\n",
      "['cat', 'dog']\n"
     ]
    }
   ],
   "source": [
    "print(things[0])\n",
    "print(things[0][:2])"
   ]
  },
  {
   "cell_type": "code",
   "execution_count": 4,
   "metadata": {
    "collapsed": true
   },
   "outputs": [],
   "source": [
    "# Assign a new value to an existing element        \n",
    "animals[3] = \"hamster\""
   ]
  },
  {
   "cell_type": "code",
   "execution_count": 5,
   "metadata": {},
   "outputs": [
    {
     "name": "stdout",
     "output_type": "stream",
     "text": [
      "['cat', 'dog', 'hamster', 'squirrel']\n"
     ]
    }
   ],
   "source": [
    "# Add a new element to the end of the list        \n",
    "animals.append(\"squirrel\")\n",
    "\n",
    "# Remove an element by its index\n",
    "del animals[2]\n",
    "print(animals)"
   ]
  },
  {
   "cell_type": "markdown",
   "metadata": {},
   "source": [
    "#### <span style=color:red> Lists are mutable. </span>"
   ]
  },
  {
   "cell_type": "code",
   "execution_count": 6,
   "metadata": {},
   "outputs": [
    {
     "name": "stdout",
     "output_type": "stream",
     "text": [
      "True\n",
      "False\n",
      "['human', 'dog', 'hamster', 'squirrel']\n",
      "['cat', 'dog', 'hamster', 'squirrel']\n"
     ]
    }
   ],
   "source": [
    "# Copy a list\n",
    "animals_clone = animals.copy() # animals_clone = animals[:]; animals_clone = list(animals)\n",
    "print(animals_clone == animals) # True\n",
    "print(animals_clone is animals) # False\n",
    "animals_clone[0] = 'human' \n",
    "print(animals_clone)\n",
    "print(animals)"
   ]
  },
  {
   "cell_type": "code",
   "execution_count": 7,
   "metadata": {},
   "outputs": [
    {
     "name": "stdout",
     "output_type": "stream",
     "text": [
      "True\n",
      "True\n",
      "['human', 'dog', 'hamster', 'squirrel']\n",
      "['human', 'dog', 'hamster', 'squirrel']\n"
     ]
    }
   ],
   "source": [
    "# In Python, an assignment only creates bindings between a target and an object.\n",
    "animals2 = animals;\n",
    "print(animals2 == animals) # True\n",
    "print(animals2 is animals) # True\n",
    "animals2[0] = 'human'\n",
    "print(animals)\n",
    "print(animals2)"
   ]
  },
  {
   "cell_type": "code",
   "execution_count": 16,
   "metadata": {},
   "outputs": [
    {
     "name": "stdout",
     "output_type": "stream",
     "text": [
      "10 is not in the list\n"
     ]
    }
   ],
   "source": [
    "# A list can contain objects of different types\n",
    "my_list = ['cat', 12, 35.8]\n",
    "\n",
    "# Use the membership operators in and not in to check whether or not a list contains an element\n",
    "data = [1,2,3,4]\n",
    "x = 10\n",
    "if x in data:\n",
    "    print(\"{} is in the list\".format(x))\n",
    "if x not in data:\n",
    "    print(\"{} is not in the list\".format(x))"
   ]
  },
  {
   "cell_type": "markdown",
   "metadata": {},
   "source": [
    "-----\n",
    "## <span style=color:blue> List Methods and Functions </span>\n",
    "### Built-in functions\n",
    "+ the length of a list\n",
    "        len(animals)\n",
    "+ the sum of a list of numbers\n",
    "        sum(numbers)\n",
    "+ max/min of a list of numbers\n",
    "        max(numbers) # min(numbers)\n",
    "+ are any of these values true?\n",
    "        any([1,0,1,0,1])\n",
    "        if any(numbers):\n",
    "            ...\n",
    "            \n",
    "+ are all of these values true?\n",
    "        all([1,0,1,0,1])\n",
    "        if all(numbers):\n",
    "            ...\n",
    "+ output a sorted list: \n",
    "        sorted(numbers)\n",
    "        sorted(numbers, reverse=True)\n",
    "+ output a reversed list: reversed returns a generator, which is not a copy of the reversed list, so we have to covert it to a list before modifying it\n",
    "       list(reversed(numbers))\n",
    "\n",
    "### Useful arithmetic operators on lists\n",
    "+ Concatenate two lists \n",
    "        [1,2,3,4]+['a','b','c'] # [1, 2, 3, 4, 'a', 'b', 'c']\n",
    "+ Concatenate a list with itself multiple times\n",
    "        [1,2,3]*3 # [1, 2, 3, 1, 2, 3, 1, 2, 3]\n",
    "\n",
    "### Instance functions (numbers = [1, 2, 3, 4, 5])\n",
    "+ add an element to the end: \n",
    "        numbers.append(5)\n",
    "+ count how many times a value appears in the list:  \n",
    "        numbers.count(5)\n",
    "+ append several values at once to the end: \t\n",
    "        numbers.extend([56, 2, 12])\n",
    "+ find the index of a value: \n",
    "        numbers.index(3)\n",
    "    + if the value appears more than once, we will get the index of the first one\n",
    "    + if the value is not in the list, we will get a ValueError\n",
    "+ insert a value at a particular index:  \n",
    "        numbers.insert(0, 45) # insert 45 at the beginning of the list\n",
    "+ remove an element by its index and assign it to a variable:  \n",
    "        my_number = numbers.pop(0)\n",
    "+ remove an element by its value: \n",
    "        numbers.remove(12)\n",
    "    + the first occurrence of this element will be removed.\n",
    "+ sort the elements in a list (in-place and stable sort): \n",
    "        numbers.sort()\n",
    "        numbers.sort(reverse=True)\n",
    "+ reverse the elements in a list (in-place): \n",
    "        numbers.reverse()\n"
   ]
  },
  {
   "cell_type": "markdown",
   "metadata": {},
   "source": [
    "-----\n",
    "# <span style=color:blue> Shallow Copy and Deep Copy </span>\n",
    "+ Deep copy and shallow copy are different when copying a compound object (objects contain other objects)\n",
    "    + A shallow copy constructs a new compound object and inserts references into it to the objects found in the original.\n",
    "    + A deep copy constructs a new compound object and then, recursively, inserts copies into it of the objects found in the original. Deep copy can handle recursive objects.\n",
    "    + To use deepcopy, import the module copy first."
   ]
  },
  {
   "cell_type": "markdown",
   "metadata": {},
   "source": [
    "### Example\n",
    "<img src=\"./picture/deep_shallow_copy.png\" alt=\"deep_shallow_copy\" width=500/>"
   ]
  },
  {
   "cell_type": "code",
   "execution_count": 22,
   "metadata": {},
   "outputs": [
    {
     "name": "stdout",
     "output_type": "stream",
     "text": [
      "True\n",
      "True\n",
      "True\n",
      "False\n",
      "True\n"
     ]
    }
   ],
   "source": [
    "list1=['a','b']\n",
    "list2=['c','d','e']\n",
    "list1.append(list2)\n",
    "list2.append(list1)\n",
    "#list1 ['a', 'b', ['c', 'd', 'e', [...]]]\n",
    "#list2 ['c', 'd', 'e', ['a', 'b', [...]]]\n",
    "\n",
    "import copy\n",
    "list3= list1.copy() # copy.copy(list1)\n",
    "list4= copy.deepcopy(list1)\n",
    "\n",
    "print(list1[2] is list2)\n",
    "print(list2[3] is list1)\n",
    "print(list3[2] is list2)\n",
    "print(list4[2][3] is list1)\n",
    "print(list4[2][3] is list4)"
   ]
  },
  {
   "cell_type": "markdown",
   "metadata": {},
   "source": [
    "-----\n",
    "# <span style=color:blue> Tuples </span>\n",
    "+ Tuples are similar to lists but tuples are immutable. Tuples are suitable for creating a sequence of values, which will not be modified.\n",
    "        animals = ('cat', 'dog', 'fish')\n",
    "        #empty tuple\n",
    "        empty_tuple = tuple()\n",
    "+ The elements in a tuple can be accessed by the same way of accessing the elements in a list.\n",
    "        animals[0]\n",
    "        animals[-1]\n",
    "        animals[0:]\n",
    "+ Use tuples to insert multiple values into a formatted string: \"%d,%d,%d\"%(1,2,3)\n",
    "+ <span style=color:red> Use (x,) to create a tuple of a single element x. Note that there is a trailing comma. </span>\n"
   ]
  },
  {
   "cell_type": "code",
   "execution_count": 25,
   "metadata": {},
   "outputs": [
    {
     "name": "stdout",
     "output_type": "stream",
     "text": [
      "1 (1,)\n"
     ]
    }
   ],
   "source": [
    "tuple_a = (1)\n",
    "tuple_b = (1,)\n",
    "print(tuple_a,tuple_b)"
   ]
  },
  {
   "cell_type": "markdown",
   "metadata": {},
   "source": [
    "-----\n",
    "# <span style=color:blue> Sets </span>\n",
    "+ A set is a collection of unique hashable elements.  \n",
    "  + An object is hashable if it has a hash value not changed during its lifetime (it needs a $\\text{__hash__()}$ method), and can be compared to other objects (it needs an $\\text{__eq__()}$ or $\\text{__cmp__()}$ method). Hashable objects which compare equal must have the same hash value.\n",
    "  + Hashability makes an object usable as a dictionary key and a set member, because these data structures use the hash value internally.\n",
    "  + All of Python’s immutable built-in objects are hashable, while no mutable containers are. Objects which are instances of user-defined classes are hashable by default; they all compare unequal, and their hash value is their id().\n",
    "\n",
    "+ The set type is mutable. \n",
    "+ <span style=color:red>The __frozenset__ type is immutable. The __frozenset__ type is also hashable.</span>\n",
    "+ Unlike lists and tuples, the elements in sets are not ordered.\n",
    "+ To process the element in a set in increasing/decreasing order, convert this set to a list or a tuple and sort it.  \n",
    "\n",
    "### Set creation"
   ]
  },
  {
   "cell_type": "code",
   "execution_count": 27,
   "metadata": {},
   "outputs": [
    {
     "name": "stdout",
     "output_type": "stream",
     "text": [
      "[1, 1, 2, 2, 3, 3, 3]\n",
      "{1, 2, 3}\n"
     ]
    }
   ],
   "source": [
    "# Create a set from a list/tuple. Duplicate elements in this list/tuple will be eliminated.\n",
    "x=[1,1,2,2,3,3,3]\n",
    "s=set(x)  \n",
    "print(x)\n",
    "print(s)\n",
    "\n",
    "# Explicitly create a set\n",
    "animals = {'cat', 'dog', 'goldfish', 'canary', 'cat'}\n",
    "\n",
    "# Create an empty set\n",
    "empty_set = {} # empty_set = set()"
   ]
  },
  {
   "cell_type": "markdown",
   "metadata": {},
   "source": [
    "### Set operations \n",
    "+ Set difference: s1 – s2\n",
    "+ Set union: s1 | s2\n",
    "+ Set intersection: s1 & s2\n",
    "+ s1^s2=(s1 | s2) – (s1&s2):"
   ]
  },
  {
   "cell_type": "code",
   "execution_count": 28,
   "metadata": {},
   "outputs": [
    {
     "name": "stdout",
     "output_type": "stream",
     "text": [
      "{9, 7}\n",
      "{2, 4, 6, 7, 8, 9, 10}\n",
      "{8, 10, 6}\n",
      "{2, 4, 7, 9}\n"
     ]
    }
   ],
   "source": [
    "even_numbers = {2, 4, 6, 8, 10}\n",
    "big_numbers = {6, 7, 8, 9, 10}\n",
    "#set difference: s1 – s2\n",
    "print(big_numbers - even_numbers) # big numbers which are not even\n",
    "\n",
    "#set union: s1 | s2\n",
    "print(big_numbers | even_numbers) # numbers which are big or even\n",
    "\n",
    "#set intersection: s1 & s2\n",
    "print(big_numbers & even_numbers) # numbers which are big and even\n",
    "\n",
    "# s1^s2=(s1 | s2) – (s1&s2):\n",
    "# numbers which are big or even but not both\n",
    "print(big_numbers ^ even_numbers) \n"
   ]
  },
  {
   "cell_type": "markdown",
   "metadata": {},
   "source": [
    "## <span style=color:blue> frozenset </span>\n",
    "#### Sets cannot be used as keys in dictionaries but frozensets can. "
   ]
  },
  {
   "cell_type": "code",
   "execution_count": 30,
   "metadata": {},
   "outputs": [
    {
     "name": "stdout",
     "output_type": "stream",
     "text": [
      "10\n"
     ]
    }
   ],
   "source": [
    "d = {frozenset({1,2,3,4}): 10, frozenset([4,5]):30}\n",
    "print(d[frozenset([1,2,3,4])])"
   ]
  },
  {
   "cell_type": "markdown",
   "metadata": {},
   "source": [
    "-----\n",
    "# <span style=color:blue> Ranges </span>\n",
    "+ Ranges are immutable. Ranges are generators and often used for creating a sequence of integers.\n",
    "+ range(f, t, s), where f is the lower, bound t is the upper bound, and s is the step size, will create a sequence of integer numbers: f, f + s, …, f + s*(math.ceil((t-f)/s)-1). That is, range(f, t, s) includes f and excludes t.\n",
    "  + range(t) is equivalent to range(0,t,1)\n",
    "  + range(f,t) is equivalent to range(f,t,1)"
   ]
  },
  {
   "cell_type": "code",
   "execution_count": 31,
   "metadata": {},
   "outputs": [
    {
     "name": "stdout",
     "output_type": "stream",
     "text": [
      "[0, 1, 2, 3, 4, 5, 6, 7, 8, 9]\n",
      "[1, 2, 3, 4, 5, 6, 7, 8, 9, 10]\n",
      "[1, 3, 5, 7, 9]\n"
     ]
    }
   ],
   "source": [
    "# print the integers from 0 to 9\n",
    "print(list(range(10)))\n",
    "\n",
    "# print the integers from 1 to 10\n",
    "print(list(range(1, 11)))\n",
    "\n",
    "# print the odd integers from 1 to 10\n",
    "print(list(range(1, 11, 2)))\n"
   ]
  },
  {
   "cell_type": "markdown",
   "metadata": {},
   "source": [
    "-----\n",
    "# <span style=color:blue> Dictionaries </span>\n",
    "### A dictionary is used to store key-value pairs.\n",
    "+ create an empty dictionary\n",
    "        empty_dict = dict()  \n",
    "        empty_dict = {}\n",
    "\n",
    "+ create a dictionary\n",
    "        my_dict = {key1:value1, key2:value2, key3:value3}\n",
    "        \n",
    "+ use my_dict[key1] to get value1."
   ]
  },
  {
   "cell_type": "markdown",
   "metadata": {},
   "source": [
    "### If there are multiple copies of a key, this key is associated with the value of the last key-value pair of this key. "
   ]
  },
  {
   "cell_type": "code",
   "execution_count": 34,
   "metadata": {},
   "outputs": [
    {
     "name": "stdout",
     "output_type": "stream",
     "text": [
      "50\n"
     ]
    }
   ],
   "source": [
    "my_dict = {1:10, 2:30, 4:40, 9:-10, 1:20}\n",
    "my_dict[1]+=30\n",
    "print(my_dict[1])"
   ]
  },
  {
   "cell_type": "markdown",
   "metadata": {},
   "source": [
    "### Examples of dictionary manipulation"
   ]
  },
  {
   "cell_type": "code",
   "execution_count": 38,
   "metadata": {},
   "outputs": [
    {
     "name": "stdout",
     "output_type": "stream",
     "text": [
      "30\n",
      "KeyError: 'blue'\n",
      "True\n",
      "False\n"
     ]
    }
   ],
   "source": [
    "marbles = {\"red\": 34, \"green\": 30, \"brown\": 31, \"yellow\": 29 }\n",
    "print(marbles[\"green\"])\n",
    "\n",
    "# This will raise a KeyError exception because there is no such a key in the dictionary\n",
    "try:\n",
    "    print(marbles[\"blue\"])\n",
    "except KeyError as erroneous_key:\n",
    "    print('KeyError:',erroneous_key)\n",
    "\n",
    "# Modify a value\n",
    "marbles[\"green\"] =70 # overwrite the old value\n",
    "marbles[\"red\"] += 3\n",
    "marbles[\"purple\"] = 40 # add a new key-value pair\n",
    "\n",
    "#Check if a key is in the dictionary: key in marbles\n",
    "print(\"yellow\" in marbles)  # key not in marbles\n",
    "        \n",
    "#Check if a value is in the dictionary\n",
    "print(30 in marbles.values())"
   ]
  },
  {
   "cell_type": "markdown",
   "metadata": {},
   "source": [
    "### The types of keys can be different, and the types of values can also be different."
   ]
  },
  {
   "cell_type": "code",
   "execution_count": 40,
   "metadata": {},
   "outputs": [
    {
     "name": "stdout",
     "output_type": "stream",
     "text": [
      "[1, 2, 3, 4]\n",
      "(5, 6, 7)\n",
      "6\n"
     ]
    }
   ],
   "source": [
    "my_dict = {'a':[1,2,3,4], 1:(5,6,7), -10:lambda x: x+1}\n",
    "print(my_dict['a'])   \n",
    "print(my_dict[1])   \n",
    "print(my_dict[-10](5)) "
   ]
  },
  {
   "cell_type": "markdown",
   "metadata": {},
   "source": [
    "### Commonly used instance methods\n",
    "marbles = {\"red\": 34, \"green\": 30, \"brown\": 31, \"yellow\": 29 }\n",
    "\n",
    "+ Get a value by its key, or None if it doesn't exist\n",
    "        marbles.get(\"orange\")\n",
    "+ We can specify a different default\n",
    "        marbles.get(\"orange\", 0)\n",
    "+ Add several items to the dictionary at once\n",
    "        marbles.update({\"orange\": 34, \"blue\": 23, \"purple\": 36}) \n",
    "+ All the keys in the dictionary\n",
    "        marbles.keys()\n",
    "+ All the values in the dictionary\n",
    "        marbles.values()\n",
    "+ All the items in the dictionary (key,value)\n",
    "        marbles.items()\n",
    "+ Delete an item from the dictionary\n",
    "        del marbles[\"red\"]\n",
    "+ Delete an item from the dictionary and get the value of the item\n",
    "        value = marbles.pop(\"red\", default)\n",
    "+ Delete all items in the dictionary\n",
    "        marbles.clear()\n",
    "+ Shallow copy of a dictionary\n",
    "        marbles.copy()"
   ]
  },
  {
   "cell_type": "markdown",
   "metadata": {},
   "source": [
    "-----\n",
    "# <span style=color:blue> Conversion Between Collection Types </span>\n",
    "### Iterate over a collection in a for loop to extract every item in this collection\n",
    "        for key, value in marbles.items():\n",
    "            print(key, value)\n",
    "### Use the type function to cast a collection of some type to a collection of another type\n",
    "  #### Lists, tuples, and sets can convert to each other.\n"
   ]
  },
  {
   "cell_type": "code",
   "execution_count": 64,
   "metadata": {},
   "outputs": [
    {
     "name": "stdout",
     "output_type": "stream",
     "text": [
      "['cat', 'dog', 'goldfish', 'canary', 'cat']\n",
      "{'dog', 'goldfish', 'canary', 'cat'}\n",
      "['dog', 'goldfish', 'canary', 'cat']\n",
      "('dog', 'goldfish', 'canary', 'cat')\n"
     ]
    }
   ],
   "source": [
    "animals = ['cat', 'dog', 'goldfish', 'canary', 'cat']\n",
    "print(animals)\n",
    "\n",
    "animals_set = set(animals) \n",
    "print(animals_set)\n",
    "\n",
    "animals_unique_list = list(animals_set)\n",
    "print(animals_unique_list)\n",
    "\n",
    "animals_unique_tuple = tuple(animals_unique_list)\n",
    "print(animals_unique_tuple)"
   ]
  },
  {
   "cell_type": "markdown",
   "metadata": {},
   "source": [
    "#### The keys, values, and key-value pairs in a dictionary can convert to a set, a tuple, and a list.\n"
   ]
  },
  {
   "cell_type": "code",
   "execution_count": 63,
   "metadata": {},
   "outputs": [
    {
     "name": "stdout",
     "output_type": "stream",
     "text": [
      "['brown', 'green', 'red', 'yellow']\n",
      "(31, 30, 34, 29)\n",
      "{('yellow', 29), ('red', 34), ('green', 30), ('brown', 31)}\n"
     ]
    }
   ],
   "source": [
    "marbles = {\"red\": 34, \"green\": 30, \"brown\": 31, \"yellow\": 29 }\n",
    "colours = list(marbles) # the keys will be used by default\n",
    "print(colours)\n",
    "\n",
    "counts = tuple(marbles.values()) # use a view to get the values\n",
    "print(counts)\n",
    "\n",
    "marbles_set = set(marbles.items()) # or the key-value pairs\n",
    "print(marbles_set)"
   ]
  },
  {
   "cell_type": "markdown",
   "metadata": {},
   "source": [
    "-----\n",
    "# <span style=color:blue> Another Look at Strings </span>\n",
    "#### A string is a sequence of characters."
   ]
  },
  {
   "cell_type": "code",
   "execution_count": 54,
   "metadata": {
    "collapsed": true
   },
   "outputs": [],
   "source": [
    "s = \"abracadabra\""
   ]
  },
  {
   "cell_type": "markdown",
   "metadata": {},
   "source": [
    "#### The length of a string"
   ]
  },
  {
   "cell_type": "code",
   "execution_count": 55,
   "metadata": {},
   "outputs": [
    {
     "name": "stdout",
     "output_type": "stream",
     "text": [
      "11\n"
     ]
    }
   ],
   "source": [
    "print(len(s))"
   ]
  },
  {
   "cell_type": "markdown",
   "metadata": {},
   "source": [
    "#### The index of the first occurrence of a substring in a string"
   ]
  },
  {
   "cell_type": "code",
   "execution_count": 56,
   "metadata": {},
   "outputs": [
    {
     "name": "stdout",
     "output_type": "stream",
     "text": [
      "0\n"
     ]
    }
   ],
   "source": [
    "print(s.index(\"a\"))"
   ]
  },
  {
   "cell_type": "markdown",
   "metadata": {},
   "source": [
    "#### Accessing a range of characters in a string is like accessing a range of elements in a list "
   ]
  },
  {
   "cell_type": "code",
   "execution_count": 57,
   "metadata": {},
   "outputs": [
    {
     "name": "stdout",
     "output_type": "stream",
     "text": [
      "a\n",
      "ac\n"
     ]
    }
   ],
   "source": [
    "print(s[0]) \n",
    "print(s[3:5])"
   ]
  },
  {
   "cell_type": "markdown",
   "metadata": {},
   "source": [
    "#### Strings are immutable. "
   ]
  },
  {
   "cell_type": "code",
   "execution_count": 59,
   "metadata": {},
   "outputs": [
    {
     "name": "stdout",
     "output_type": "stream",
     "text": [
      "'str' object does not support item assignment\n"
     ]
    }
   ],
   "source": [
    "try:\n",
    "    s[0]='a' # raise TypeError\n",
    "except TypeError as type_error:\n",
    "    print(type_error)"
   ]
  },
  {
   "cell_type": "markdown",
   "metadata": {},
   "source": [
    "#### Membership operators can be applied to strings"
   ]
  },
  {
   "cell_type": "code",
   "execution_count": 60,
   "metadata": {},
   "outputs": [
    {
     "name": "stdout",
     "output_type": "stream",
     "text": [
      "True\n",
      "True\n"
     ]
    }
   ],
   "source": [
    "print(\"rac\" in s)\n",
    "print(\"abc\" not in s)"
   ]
  },
  {
   "cell_type": "markdown",
   "metadata": {},
   "source": [
    "#### A string can be converted to a list, a tuple, or a set."
   ]
  },
  {
   "cell_type": "code",
   "execution_count": 61,
   "metadata": {},
   "outputs": [
    {
     "name": "stdout",
     "output_type": "stream",
     "text": [
      "['a', 'b', 'r', 'a', 'c', 'a', 'd', 'a', 'b', 'r', 'a']\n",
      "{'d', 'a', 'r', 'b', 'c'}\n",
      "('a', 'b', 'r', 'a', 'c', 'a', 'd', 'a', 'b', 'r', 'a')\n"
     ]
    }
   ],
   "source": [
    "print(list(s))\n",
    "print(set(s))\n",
    "print(tuple(s))        "
   ]
  },
  {
   "cell_type": "markdown",
   "metadata": {},
   "source": [
    "#### A sequence of string can be joined by the join instance method."
   ]
  },
  {
   "cell_type": "code",
   "execution_count": 53,
   "metadata": {},
   "outputs": [
    {
     "name": "stdout",
     "output_type": "stream",
     "text": [
      "hello,Python\n"
     ]
    }
   ],
   "source": [
    "s=['hello','Python']\n",
    "print(\",\".join(s)) "
   ]
  },
  {
   "cell_type": "markdown",
   "metadata": {},
   "source": [
    "#### A string can be split into a list of strings by using the split method"
   ]
  },
  {
   "cell_type": "code",
   "execution_count": 52,
   "metadata": {},
   "outputs": [
    {
     "name": "stdout",
     "output_type": "stream",
     "text": [
      "['cat', 'dog', 'fish']\n",
      "['cat', 'dog', 'fish']\n",
      "['cat', 'dog', 'fish']\n",
      "['cat', 'dog, fish']\n"
     ]
    }
   ],
   "source": [
    "print(\"cat dog fish\\n\".split())\n",
    "print(\"cat|dog|fish\".split(\"|\"))\n",
    "print(\"cat, dog, fish\".split(\", \"))\n",
    "print(\"cat, dog, fish\".split(\", \", 1))"
   ]
  },
  {
   "cell_type": "markdown",
   "metadata": {},
   "source": [
    "-----\n",
    "# <span style=color:blue> Two-Dimensional Sequences </span>\n",
    "+ A list of lists can be created and accessed in the following manner.\n",
    "        my_table = [[1,2,3,4],[5,6,7,8],[9,10,11,12]]\n",
    "  + my_table[0] refers to the list [1,2,3,4] and print(my_table[0][0]) outputs 1.\n",
    "+ The inner sequences can be different in length.\n",
    "        my_2d_list=[[1,2,3,4],[5,6],[7,8,9]]\n",
    "+ A three-dimensional sequence can also be created by making a list of lists of lists.\n",
    "        my_3d_list[ [[1,2],[3,4]],\n",
    "                    [[5,6,7],[8,9,10]]]\n",
    "+ Create a two-dimensional table of m rows and n columns\n",
    "        my_table = [ [0]*n for _ in range(m)]"
   ]
  },
  {
   "cell_type": "code",
   "execution_count": 50,
   "metadata": {},
   "outputs": [
    {
     "name": "stdout",
     "output_type": "stream",
     "text": [
      "[[0, 0, 0, 0], [0, 0, 0, 0], [0, 0, 0, 0]]\n",
      "[[0, 1, 0, 0], [0, 1, 0, 0], [0, 1, 0, 0]]\n"
     ]
    }
   ],
   "source": [
    "n, m = 4, 3\n",
    "my_table = [[0]*n]*m\n",
    "print(my_table)\n",
    "my_table[0][1] = 1\n",
    "print(my_table)"
   ]
  },
  {
   "cell_type": "code",
   "execution_count": 51,
   "metadata": {},
   "outputs": [
    {
     "name": "stdout",
     "output_type": "stream",
     "text": [
      "[[0, 0, 0, 0], [0, 0, 0, 0], [0, 0, 0, 0]]\n",
      "[[0, 1, 0, 0], [0, 0, 0, 0], [0, 0, 0, 0]]\n"
     ]
    }
   ],
   "source": [
    "my_table = [ [0]*n for _ in range(m)]\n",
    "print(my_table)\n",
    "my_table[0][1] = 1\n",
    "print(my_table)"
   ]
  },
  {
   "cell_type": "markdown",
   "metadata": {},
   "source": [
    "-----\n",
    "# <span style=color:blue> The collections Module </span>\n",
    "https://docs.python.org/3/library/collections.html\n",
    "### This module provides alternatives to Python’s built-in containers, dict, list, set, and tuple.\n",
    "<img src=\"./picture/collections.png\" alt=\"collections\" width=500/>"
   ]
  },
  {
   "cell_type": "markdown",
   "metadata": {},
   "source": [
    "-----\n",
    "# <span style=color:blue> collections.deque </span>"
   ]
  },
  {
   "cell_type": "markdown",
   "metadata": {},
   "source": [
    "### A stack can be implemented by a list:\n",
    "+ Create an empty stack\n",
    "\t\tstack = list()\n",
    "+ Push an element x into a stack\n",
    "\t\tstack.append(x)\t\n",
    "+ Pop the top from a stack\n",
    "\t\tx = stack.pop()\n",
    "+ Get the top of a stack\n",
    "\t\tstack[-1]\n"
   ]
  },
  {
   "cell_type": "code",
   "execution_count": 44,
   "metadata": {},
   "outputs": [
    {
     "name": "stdout",
     "output_type": "stream",
     "text": [
      "[1, 2, 3, 4, 5]\n",
      "[1, 2, 3, 4]\n"
     ]
    }
   ],
   "source": [
    "stack=list([1,2,3,4])\n",
    "stack.append(5) # push [1,2,3,4,5]\n",
    "print(stack)\n",
    "stack.pop() # pop [1,2,3,4]\n",
    "print(stack)"
   ]
  },
  {
   "cell_type": "markdown",
   "metadata": {},
   "source": [
    "### Queues and dequeues can be implemented by collections.deque:\n",
    "+ Create an empty queue/dequeue\n",
    "\t\tdq = collections.deque()\n",
    "+ Push an element x into a deque\n",
    "\t\tdq.append(x) \n",
    "\t\tdq.appendleft(x)\t\n",
    "+ Pop the top from a deque\n",
    "\t\tx = dq.popleft()\n",
    "\t\tx = dp.pop()\n",
    "+ Rotate a queue\n",
    "\t\tdq.rotate(elm) # elm > 0 => rotate right, elm < 0 rotate left"
   ]
  },
  {
   "cell_type": "code",
   "execution_count": 46,
   "metadata": {},
   "outputs": [
    {
     "name": "stdout",
     "output_type": "stream",
     "text": [
      "deque([1, 2, 3, 4, 5])\n",
      "deque([1, 2, 3, 4, 5, 6])\n",
      "deque([7, 1, 2, 3, 4, 5, 6])\n",
      "deque([7, 1, 2, 3, 4, 5])\n",
      "deque([1, 2, 3, 4, 5])\n",
      "deque([4, 5, 1, 2, 3])\n",
      "deque([1, 2, 3, 4, 5])\n"
     ]
    }
   ],
   "source": [
    "from collections import deque\n",
    "\n",
    "dq = deque([1,2,3,4,5])\n",
    "print(dq)\n",
    "\n",
    "dq.append(6) #[1,2,3,4,5,6]\n",
    "print(dq)\n",
    "\n",
    "dq.appendleft(7) #[7,1,2,3,4,5,6]\n",
    "print(dq)\n",
    "\n",
    "dq.pop() #[7,1,2,3,4,5]\n",
    "print(dq)\n",
    "\n",
    "dq.popleft() #[1,2,3,4,5]\n",
    "print(dq)\n",
    "\n",
    "dq.rotate(2) #[4,5,1,2,3]\n",
    "print(dq)\n",
    "\n",
    "dq.rotate(-2) #[1,2,3,4,5]\n",
    "print(dq)\n"
   ]
  },
  {
   "cell_type": "markdown",
   "metadata": {},
   "source": [
    "-----\n",
    "# <span style=color:blue> collections.namedtuple </span>"
   ]
  },
  {
   "cell_type": "code",
   "execution_count": 42,
   "metadata": {},
   "outputs": [
    {
     "name": "stdout",
     "output_type": "stream",
     "text": [
      "0 0 255\n",
      "0 0 255\n",
      "('r', 'g', 'b')\n",
      "('r', 'g', 'b')\n"
     ]
    }
   ],
   "source": [
    "from collections import namedtuple\n",
    "# create a namedtuple\n",
    "\n",
    "Color = namedtuple('Color', ['r', 'g', 'b'])\n",
    "blue = Color(0,0,255) # Color(r=0,g=0,b=255)\n",
    "print(blue.r,blue.g,blue.b)\n",
    "print(blue[0],blue[1],blue[2])\n",
    "\n",
    "\n",
    "# create an instance of named tuple from an iterable\n",
    "it=[255,0,0]\n",
    "red = Color(*it) # red = Color._make(it)\n",
    "\n",
    "# convert to an OrderedDict\n",
    "red._asdict() # OrderedDict([('r', 255), ('g', 0), ('b', 0)])\n",
    "\n",
    "#\n",
    "print(Color._fields) #('r', 'g', 'b')\n",
    "print(red._fields) #('r', 'g', 'b')\n"
   ]
  },
  {
   "cell_type": "markdown",
   "metadata": {},
   "source": [
    "-----\n",
    "# <span style=color:blue> collections.defaultdict </span>\n",
    "### There are three possible methods for handling missing values when using dict."
   ]
  },
  {
   "cell_type": "code",
   "execution_count": 9,
   "metadata": {
    "collapsed": true
   },
   "outputs": [],
   "source": [
    "data = ['red', 'blue', 'red', 'green', 'blue', 'blue']\n",
    "# Method 1\n",
    "d = dict()\n",
    "for s in data:\n",
    "    if s not in d: # check if s is in d\n",
    "        d[s] = 0\n",
    "    d[s] += 1\n",
    " "
   ]
  },
  {
   "cell_type": "code",
   "execution_count": 10,
   "metadata": {
    "collapsed": true
   },
   "outputs": [],
   "source": [
    "d = dict()\n",
    "# Method 2\n",
    "for s in data:\n",
    "    try: \n",
    "        d[s] += 1 # if s is not in d, this statement can raise an exception\n",
    "    except:\n",
    "        d[s] = 1   "
   ]
  },
  {
   "cell_type": "code",
   "execution_count": 11,
   "metadata": {
    "collapsed": true
   },
   "outputs": [],
   "source": [
    "d = dict()\n",
    "# Method 3\n",
    "for s in data:\n",
    "    c = d.get(s,0) # get the value associated with s\n",
    "    d[s] = c+1"
   ]
  },
  {
   "cell_type": "markdown",
   "metadata": {},
   "source": [
    "### defaultdict is a dict subclass that calls a factory function to supply missing values."
   ]
  },
  {
   "cell_type": "code",
   "execution_count": 12,
   "metadata": {
    "collapsed": true
   },
   "outputs": [],
   "source": [
    "# Using defaultdict\n",
    "\n",
    "from collections import defaultdict\n",
    "\n",
    "#d = defaultdict(int) \n",
    "d = defaultdict(lambda : 0) # this argument must be callable or None\n",
    "\n",
    "for s in data:\n",
    "    d[s] += 1"
   ]
  },
  {
   "cell_type": "markdown",
   "metadata": {},
   "source": [
    "-----\n",
    "# <span style=color:blue> collections.Counter </span>\n",
    "### collections.Counter is a dict subclass for counting hashable objects."
   ]
  },
  {
   "cell_type": "code",
   "execution_count": 13,
   "metadata": {},
   "outputs": [
    {
     "name": "stdout",
     "output_type": "stream",
     "text": [
      "Counter({'blue': 3, 'red': 2, 'green': 1}) Counter({'blue': 3, 'red': 2, 'green': 1})\n",
      "[('blue', 3)] key:blue, value:3\n",
      "[('blue', 3), ('red', 2), ('green', 1)]\n"
     ]
    }
   ],
   "source": [
    "from collections import Counter\n",
    "# Tally occurrences of words in a list\n",
    "data = ['red', 'blue', 'red', 'green', 'blue', 'blue']\n",
    "\n",
    "#Method 1:\n",
    "cnt1 = Counter()\n",
    "for word in data:\n",
    "    cnt1[word] += 1\n",
    "    \n",
    "#Method 2:    \n",
    "cnt2 = Counter(data)\n",
    "\n",
    "print(cnt1,cnt2)\n",
    "\n",
    "top1 = cnt1.most_common(1) \n",
    "top3 = cnt1.most_common(3)\n",
    "print(top1,'key:{}, value:{}'.format(top1[0][0],top1[0][1]))\n",
    "print(top3)"
   ]
  },
  {
   "cell_type": "markdown",
   "metadata": {},
   "source": [
    "-----\n",
    "# <span style=color:blue> collections.ChainMap </span>\n",
    "### collections.ChainMap is a dict-like class for creating a single view of multiple mappings."
   ]
  },
  {
   "cell_type": "code",
   "execution_count": 14,
   "metadata": {
    "collapsed": true
   },
   "outputs": [],
   "source": [
    "# use the update instance method to combine multiple dicts into one dict\n",
    "d1={'a':1,'b':2,'c':3}\n",
    "d2={'e':2,'a':4,'d':5}\n",
    "d={}\n",
    "d.update(d1)\n",
    "d.update(d2)"
   ]
  },
  {
   "cell_type": "code",
   "execution_count": 15,
   "metadata": {},
   "outputs": [
    {
     "name": "stdout",
     "output_type": "stream",
     "text": [
      "1\n",
      "99 99\n"
     ]
    }
   ],
   "source": [
    "# use the ChainMap to combine multiple dicts into one dict\n",
    "\n",
    "from collections import ChainMap\n",
    "\n",
    "f = ChainMap(d1,d2,d)\n",
    "\n",
    "# gets 1 # search d1 for 'a' if not found, then search d2 for 'a', …\n",
    "print(f['a'])\n",
    "\n",
    "# because 'g' is not in d1, d2, and d, 'g' will be inserted into d1, and d1['g'] is equal to 99 \n",
    "f['g'] = 99 \n",
    "print(f['g'],d1['g'])"
   ]
  },
  {
   "cell_type": "code",
   "execution_count": null,
   "metadata": {
    "collapsed": true
   },
   "outputs": [],
   "source": []
  }
 ],
 "metadata": {
  "kernelspec": {
   "display_name": "Python 3",
   "language": "python",
   "name": "python3"
  },
  "language_info": {
   "codemirror_mode": {
    "name": "ipython",
    "version": 3
   },
   "file_extension": ".py",
   "mimetype": "text/x-python",
   "name": "python",
   "nbconvert_exporter": "python",
   "pygments_lexer": "ipython3",
   "version": "3.5.4"
  }
 },
 "nbformat": 4,
 "nbformat_minor": 2
}
