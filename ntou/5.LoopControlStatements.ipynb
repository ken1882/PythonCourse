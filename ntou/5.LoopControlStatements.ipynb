{
 "cells": [
  {
   "cell_type": "markdown",
   "metadata": {},
   "source": [
    "# <span style=color:blue> Loop Control Statements </span>\n",
    "#### There are two major kinds of programming loops:\n",
    "+ Counting loops: In Python, counting loops are often defined with the for statement.\n",
    "  + The for statement\n",
    "            for x in range(10):\n",
    "                for_body\n",
    "                \n",
    "  + The for-else statement \n",
    "            for x in range(10):\n",
    "                for_body\n",
    "            else:\n",
    "                #reach this block if this for-loop is at the last iteration\n",
    "                \n",
    "\n",
    "+ Event-controlled loops: In Python, event-controlled loops are defined with the while statement.\n",
    "  + The while statement \n",
    "            while condition:\n",
    "                while_body\n",
    "\n",
    "  + The while-else statement\n",
    "            while condition:\n",
    "                while_body\n",
    "            else:\n",
    "                #reach this block if this while-loop is not terminated by the break statement\n"
   ]
  },
  {
   "cell_type": "code",
   "execution_count": 1,
   "metadata": {},
   "outputs": [
    {
     "name": "stdout",
     "output_type": "stream",
     "text": [
      "0\n",
      "1\n",
      "2\n",
      "finished\n"
     ]
    }
   ],
   "source": [
    "for i in range(3):\n",
    "    print(i)\n",
    "else:\n",
    "    print('finished')"
   ]
  },
  {
   "cell_type": "code",
   "execution_count": 2,
   "metadata": {},
   "outputs": [
    {
     "name": "stdout",
     "output_type": "stream",
     "text": [
      "0\n",
      "1\n"
     ]
    }
   ],
   "source": [
    "for i in range(3):\n",
    "    if i == 2:\n",
    "        break\n",
    "    else:\n",
    "        print(i)\n",
    "else:\n",
    "    print('finished')"
   ]
  },
  {
   "cell_type": "code",
   "execution_count": 3,
   "metadata": {},
   "outputs": [
    {
     "name": "stdout",
     "output_type": "stream",
     "text": [
      "0 0\n",
      "1 1\n",
      "2 3\n",
      "3 6\n"
     ]
    }
   ],
   "source": [
    "total = 0\n",
    "i = 0\n",
    "while i <= 3:\n",
    "    total += i\n",
    "    print(i,total)\n",
    "    i += 1    "
   ]
  },
  {
   "cell_type": "code",
   "execution_count": 4,
   "metadata": {},
   "outputs": [
    {
     "name": "stdout",
     "output_type": "stream",
     "text": [
      "0 0\n",
      "1 1\n",
      "2 3\n",
      "3 6\n",
      "final: 4 6\n"
     ]
    }
   ],
   "source": [
    "total = 0\n",
    "i = 0\n",
    "while i <= 3:\n",
    "    total += i\n",
    "    print(i,total)\n",
    "    i += 1\n",
    "else:\n",
    "    print('final:',i,total)\n"
   ]
  },
  {
   "cell_type": "markdown",
   "metadata": {},
   "source": [
    "-----\n",
    "# <span style=color:blue> The For Statement </span>\n",
    "#### We can use for loops to iterate over sequences including ranges, lists, tuples, dictionaries, etc.\n"
   ]
  },
  {
   "cell_type": "code",
   "execution_count": 5,
   "metadata": {},
   "outputs": [
    {
     "name": "stdout",
     "output_type": "stream",
     "text": [
      "9\n",
      "10\n",
      "20\n",
      "15\n",
      "5\n",
      "14\n"
     ]
    }
   ],
   "source": [
    "my_list=[9,10,20,15,5,14]\n",
    "for i in my_list:\n",
    "    print(i)"
   ]
  },
  {
   "cell_type": "code",
   "execution_count": 6,
   "metadata": {},
   "outputs": [
    {
     "name": "stdout",
     "output_type": "stream",
     "text": [
      "5\n",
      "9\n",
      "10\n",
      "14\n",
      "15\n",
      "20\n"
     ]
    }
   ],
   "source": [
    "my_set = {9,10,20,15,5,14}\n",
    "for i in my_set:\n",
    "    print(i)"
   ]
  },
  {
   "cell_type": "code",
   "execution_count": 7,
   "metadata": {},
   "outputs": [
    {
     "name": "stdout",
     "output_type": "stream",
     "text": [
      "9\n",
      "10\n",
      "20\n",
      "15\n",
      "5\n",
      "14\n"
     ]
    }
   ],
   "source": [
    "my_tuple=(9,10,20,15,5,14)\n",
    "for i in my_tuple:\n",
    "    print(i)"
   ]
  },
  {
   "cell_type": "code",
   "execution_count": 8,
   "metadata": {},
   "outputs": [
    {
     "name": "stdout",
     "output_type": "stream",
     "text": [
      "20\n",
      "5\n",
      "9\n",
      "10\n",
      "14\n",
      "15\n"
     ]
    }
   ],
   "source": [
    "my_dict = {9:'a',10:'b',20:'c',15:'d',5:'e',14:'f'}\n",
    "# iterate over keys\n",
    "for i in my_dict:\n",
    "    print(i)"
   ]
  },
  {
   "cell_type": "code",
   "execution_count": 9,
   "metadata": {},
   "outputs": [
    {
     "name": "stdout",
     "output_type": "stream",
     "text": [
      "c\n",
      "e\n",
      "a\n",
      "b\n",
      "f\n",
      "d\n"
     ]
    }
   ],
   "source": [
    "# iterate over values\n",
    "for i in my_dict.values():\n",
    "    print(i)"
   ]
  },
  {
   "cell_type": "code",
   "execution_count": 10,
   "metadata": {},
   "outputs": [
    {
     "name": "stdout",
     "output_type": "stream",
     "text": [
      "20 c\n",
      "5 e\n",
      "9 a\n",
      "10 b\n",
      "14 f\n",
      "15 d\n"
     ]
    }
   ],
   "source": [
    "# iterate over items\n",
    "for k,v in my_dict.items():\n",
    "    print(k,v)"
   ]
  },
  {
   "cell_type": "markdown",
   "metadata": {},
   "source": [
    "#### In for-loops, if the index and value of the element in a list are required to know, you can use the enumerate function to number the elements:"
   ]
  },
  {
   "cell_type": "code",
   "execution_count": 11,
   "metadata": {},
   "outputs": [
    {
     "name": "stdout",
     "output_type": "stream",
     "text": [
      "cat\n",
      "dog\n",
      "budgie\n",
      "0 CAT\n",
      "1 DOG\n",
      "2 BUDGIE\n",
      "0 CAT\n",
      "1 DOG\n",
      "2 BUDGIE\n"
     ]
    }
   ],
   "source": [
    "pets = [\"cat\", \"dog\", \"budgie\"]\n",
    "# only use each element\n",
    "for pet in pets:\n",
    "    print(pet)\n",
    "    \n",
    "# use the index to access each element\n",
    "for i in range(len(pets)):\n",
    "    print(i, pets[i].upper())\n",
    "    \n",
    "# better Python code\n",
    "for i, pet in enumerate(pets):\n",
    "    print(i, pet.upper())  "
   ]
  },
  {
   "cell_type": "markdown",
   "metadata": {},
   "source": [
    "#### <span style=color:red> Be careful when you iterate over a list and remove some elements in this list. </span>"
   ]
  },
  {
   "cell_type": "code",
   "execution_count": 12,
   "metadata": {},
   "outputs": [
    {
     "name": "stdout",
     "output_type": "stream",
     "text": [
      "[1, 2, 3]\n"
     ]
    }
   ],
   "source": [
    "#Incorrect version\n",
    "numbers = [1,2,2,3]\n",
    "for i, num in enumerate(numbers):\n",
    "    if num == 2:\n",
    "        del numbers[i]\n",
    "print(numbers)"
   ]
  },
  {
   "cell_type": "code",
   "execution_count": 13,
   "metadata": {},
   "outputs": [
    {
     "name": "stdout",
     "output_type": "stream",
     "text": [
      "[1, 3]\n"
     ]
    }
   ],
   "source": [
    "#Correct version\n",
    "numbers = [1,2,2,3]\n",
    "for i in range(len(numbers)-1,-1,-1):\n",
    "    if numbers[i]==2:\n",
    "        del numbers[i]\n",
    "print(numbers)"
   ]
  },
  {
   "cell_type": "markdown",
   "metadata": {},
   "source": [
    "-----\n",
    "# <span style=color:blue> Iterables, Iterators, and Generators</span>\n",
    "+ An __iterable__ is a type which can be iterated over with a for loop. Lists, ranges, tuples, strings, dictionaries, and sets are all iterable types. \n",
    "  + What is the main difference between ranges and the other five iterable types: lists, strings, dictionaries, tuples, and sets?\n",
    "    + Ranges are not container types.\n",
    "    + Ranges do not require memory space to store the element in ranges. Instead, the elements in ranges are yielded by some methods. (Note that range in Python 3.x is xrange in Python 2.x)\n",
    "+ Every iterable object has a method which returns an iterator over that object.\n",
    "  + An __iterator__ is used to access the element in a sequence one by one sequentially.\n",
    "+ In Python, an iterable type that generates values on demand is referred to as a generator.  \n",
    "  + range and enumerate are __generators__.\n"
   ]
  },
  {
   "cell_type": "code",
   "execution_count": 14,
   "metadata": {},
   "outputs": [
    {
     "name": "stdout",
     "output_type": "stream",
     "text": [
      "range(0, 5)\n",
      "[0, 1, 2, 3, 4]\n"
     ]
    }
   ],
   "source": [
    "print(range(5)) # range(0,5) because range is a generator\n",
    "print(list(range(5))) # generate a list [0,1,2,3,4] from range(5)"
   ]
  },
  {
   "cell_type": "code",
   "execution_count": 15,
   "metadata": {},
   "outputs": [
    {
     "name": "stdout",
     "output_type": "stream",
     "text": [
      "1\n",
      "2\n",
      "3\n",
      "4\n",
      "5\n",
      "1\n",
      "2\n",
      "3\n",
      "4\n",
      "5\n"
     ]
    }
   ],
   "source": [
    "r = (1,2,3,4,5)\n",
    "for i in r:\n",
    "    print(i)\n",
    "\n",
    "for i in range(1,6):\n",
    "    print(i)"
   ]
  },
  {
   "cell_type": "code",
   "execution_count": 16,
   "metadata": {},
   "outputs": [
    {
     "name": "stdout",
     "output_type": "stream",
     "text": [
      "['__add__', '__class__', '__contains__', '__delattr__', '__dir__', '__doc__', '__eq__', '__format__', '__ge__', '__getattribute__', '__getitem__', '__getnewargs__', '__gt__', '__hash__', '__init__', '__iter__', '__le__', '__len__', '__lt__', '__mul__', '__ne__', '__new__', '__reduce__', '__reduce_ex__', '__repr__', '__rmul__', '__setattr__', '__sizeof__', '__str__', '__subclasshook__', 'count', 'index']\n"
     ]
    }
   ],
   "source": [
    "r = (1,2,3,4,5) \n",
    "# an iterable object has an instance method __iter__, \n",
    "# which returns an iterator for accessing each element in this object and can be called by iter \n",
    "print(dir(r))"
   ]
  },
  {
   "cell_type": "code",
   "execution_count": 17,
   "metadata": {},
   "outputs": [
    {
     "name": "stdout",
     "output_type": "stream",
     "text": [
      "['__class__', '__delattr__', '__dir__', '__doc__', '__eq__', '__format__', '__ge__', '__getattribute__', '__gt__', '__hash__', '__init__', '__iter__', '__le__', '__length_hint__', '__lt__', '__ne__', '__new__', '__next__', '__reduce__', '__reduce_ex__', '__repr__', '__setattr__', '__setstate__', '__sizeof__', '__str__', '__subclasshook__']\n"
     ]
    }
   ],
   "source": [
    "# an iterator has an instance method __next__, which retrieves the next element in this iterator and can be called by next\n",
    "print(dir(iter(r)))"
   ]
  },
  {
   "cell_type": "code",
   "execution_count": 18,
   "metadata": {},
   "outputs": [
    {
     "name": "stdout",
     "output_type": "stream",
     "text": [
      "1\n",
      "2\n",
      "3\n",
      "4\n",
      "5\n"
     ]
    }
   ],
   "source": [
    "r = (1,2,3,4,5)     \n",
    "p = iter(r)\n",
    "try:\n",
    "    while True:\n",
    "        v = next(p)\n",
    "        print(v)\n",
    "except StopIteration: # the iterator is exhausted\n",
    "    pass;"
   ]
  },
  {
   "cell_type": "code",
   "execution_count": 19,
   "metadata": {},
   "outputs": [
    {
     "name": "stdout",
     "output_type": "stream",
     "text": [
      "1 1\n",
      "1 2\n",
      "2 1\n",
      "2 2\n"
     ]
    }
   ],
   "source": [
    "# i and j are two independent iterators      \n",
    "r = (1,2)\n",
    "for i in r:\n",
    "    for j in r:\n",
    "        print(i,j)"
   ]
  },
  {
   "cell_type": "markdown",
   "metadata": {},
   "source": [
    "#### Some built-in generators defined in the itertools module\n",
    "        # import this module in order to use it\n",
    "        import itertools\n",
    "\n",
    "        # unlike range, count doesn't have an upper bound, \n",
    "        # and is not restricted to integers\n",
    "        \n",
    "        for i in itertools.count(1):\n",
    "            print(i) # 1, 2, 3....\n",
    "        for i in itertools.count(1, 0.5):\n",
    "            print(i) # 1.0, 1.5, 2.0....\n",
    "            \n",
    "        # cycle repeats the values in another iterable over and over\n",
    "        for animal in itertools.cycle(['cat', 'dog']):\n",
    "            print(animal) # 'cat', 'dog', 'cat', 'dog'... \n",
    "    \n",
    "        # repeat repeats a single item\n",
    "        for i in itertools.repeat(1): # ...forever\n",
    "            print(i) # 1, 1, 1....\n"
   ]
  },
  {
   "cell_type": "code",
   "execution_count": 20,
   "metadata": {},
   "outputs": [
    {
     "name": "stdout",
     "output_type": "stream",
     "text": [
      "1\n",
      "1\n",
      "1\n",
      "1\n",
      "2\n",
      "3\n",
      "cat\n",
      "dog\n",
      "(1, 2, 3)\n",
      "(1, 3, 2)\n",
      "(2, 1, 3)\n",
      "(2, 3, 1)\n",
      "(3, 1, 2)\n",
      "(3, 2, 1)\n"
     ]
    }
   ],
   "source": [
    "# import this module in order to use it\n",
    "import itertools\n",
    "    \n",
    "for i in itertools.repeat(1, 3): # or a set number of times\n",
    "    print(i) # 1, 1, 1\n",
    "    \n",
    "# chain combines multiple iterables sequentially\n",
    "numbers = [1,2,3]\n",
    "animals = ['cat', 'dog']\n",
    "for i in itertools.chain(numbers, animals):\n",
    "    print(i) # print all the numbers and then all the animals\n",
    "    \n",
    "# produce all permutations\n",
    "for p in itertools.permutations([1,2,3]):\n",
    "    print(p) # [1,2,3], [1,3,2],[2,1,3],[2,3,1],[3,1,2],[3,2,1]\n"
   ]
  },
  {
   "cell_type": "markdown",
   "metadata": {},
   "source": [
    "#### The zip build-in function is used to combine multiple iterables pairwise. "
   ]
  },
  {
   "cell_type": "code",
   "execution_count": 21,
   "metadata": {},
   "outputs": [
    {
     "name": "stdout",
     "output_type": "stream",
     "text": [
      "1 a 9\n",
      "2 b 10\n",
      "3 c 11\n",
      "4 d 12\n",
      "5 e 13\n"
     ]
    }
   ],
   "source": [
    "a=[1, 2, 3, 4, 5]\n",
    "b=('a','b','c','d','e')\n",
    "c=[9,10,11,12,13]\n",
    "for u,v,w in zip(a,b,c):\n",
    "    print(u,v,w)"
   ]
  },
  {
   "cell_type": "markdown",
   "metadata": {},
   "source": [
    "-----\n",
    "# <span style=color:blue> Comprehensions </span>\n",
    "### A comprehension is a kind of filter which we can define on an iterable based on some conditions.\n",
    "\n",
    "#### Example 1:\n",
    "    numbers = [1, 5, 2, 12, 14, 7, 18]\n",
    "    doubles = []                             \n",
    "    for number in numbers:                 \n",
    "        doubles.append(2*number)\n",
    "\n",
    "##### List comprehension\n",
    "    doubles = [2*number for number in numbers]\n",
    "    \n",
    "#### Example 2:\n",
    "    even_numbers = []\n",
    "    for number in numbers:\n",
    "        if number % 2 == 0:\n",
    "            even_numbers.append(number)\n",
    "##### List comprehension\n",
    "    even_numbers = [number for number in numbers if number % 2 == 0]\n",
    "\n",
    "\n",
    "#### Example 3:\n",
    "    animals = ['aardvark', 'cat', 'dog', 'opossum']\n",
    "    vowel_animals = []\n",
    "    for animal in animals:\n",
    "        if animal[0] in 'aeiou':\n",
    "            vowel_animals.append(animal.title())\n",
    "##### List comprehension\n",
    "    vowel_animals =[animal.title() for animal in animals if animal[0] in 'aeiou']\n",
    " "
   ]
  },
  {
   "cell_type": "code",
   "execution_count": 22,
   "metadata": {},
   "outputs": [
    {
     "name": "stdout",
     "output_type": "stream",
     "text": [
      "[2, 10, 4, 24, 28, 14, 36]\n",
      "[2, 12, 14, 18]\n",
      "['Aardvark', 'Opossum']\n"
     ]
    }
   ],
   "source": [
    "numbers = [1, 5, 2, 12, 14, 7, 18]\n",
    "animals = ['aardvark', 'cat', 'dog', 'opossum']\n",
    "\n",
    "doubles = [2*number for number in numbers]\n",
    "print(doubles)\n",
    "\n",
    "even_numbers = [number for number in numbers if number % 2 == 0]\n",
    "print(even_numbers)\n",
    "\n",
    "vowel_animals =[animal.title() for animal in animals if animal[0] in 'aeiou']\n",
    "print(vowel_animals)"
   ]
  },
  {
   "cell_type": "code",
   "execution_count": 23,
   "metadata": {},
   "outputs": [
    {
     "name": "stdout",
     "output_type": "stream",
     "text": [
      "{2, 4, 36, 10, 14, 24, 28}\n"
     ]
    }
   ],
   "source": [
    "numbers = [1, 5, 2, 12, 14, 7, 18]\n",
    "# a set comprehension\n",
    "doubles_set = {2*number for number in numbers}  # {2, 4, 10, 14, 24, 28, 36}\n",
    "print(doubles_set)"
   ]
  },
  {
   "cell_type": "code",
   "execution_count": 24,
   "metadata": {},
   "outputs": [
    {
     "name": "stdout",
     "output_type": "stream",
     "text": [
      "{1: 2, 2: 4, 5: 10, 7: 14, 12: 24, 18: 36, 14: 28}\n"
     ]
    }
   ],
   "source": [
    "# a dict comprehension which uses the number as the key and the doubled number as the value\n",
    "doubles_dict = {number: 2*number for number in numbers} # {1: 2, 2: 4, 5: 10, 7: 14, 12: 24, 14: 28, 18: 36}\n",
    "print(doubles_dict)"
   ]
  },
  {
   "cell_type": "code",
   "execution_count": 25,
   "metadata": {},
   "outputs": [
    {
     "name": "stdout",
     "output_type": "stream",
     "text": [
      "<generator object <genexpr> at 0x0000000005F92AF0>\n",
      "2\n",
      "10\n",
      "4\n",
      "24\n",
      "28\n",
      "14\n",
      "36\n"
     ]
    }
   ],
   "source": [
    "# a generator comprehension\n",
    "doubles_generator = (2*number for number in numbers)\n",
    "print(doubles_generator)\n",
    "\n",
    "for p in doubles_generator:\n",
    "    print(p)\n"
   ]
  },
  {
   "cell_type": "code",
   "execution_count": 26,
   "metadata": {},
   "outputs": [
    {
     "name": "stdout",
     "output_type": "stream",
     "text": [
      "13\n"
     ]
    }
   ],
   "source": [
    "sum_odd = sum(x for x in numbers if x % 2 == 1)\n",
    "print(sum_odd)"
   ]
  },
  {
   "cell_type": "markdown",
   "metadata": {},
   "source": [
    "-----\n",
    "# <span style=color:blue> The Break and Continue Statements </span>\n",
    "+ The break statement can be used to exit a loop immediately.\n",
    "+ A continue statement can be used to start the next iteration immediately without execution of the loop body after this continue statement.\n"
   ]
  },
  {
   "cell_type": "code",
   "execution_count": 27,
   "metadata": {},
   "outputs": [
    {
     "name": "stdout",
     "output_type": "stream",
     "text": [
      "1\n",
      "5\n",
      "7\n"
     ]
    }
   ],
   "source": [
    "numbers = [1, 5, 2, 12, 14, 7, 18]\n",
    "for p in numbers:\n",
    "    if p % 2 == 0:\n",
    "        continue\n",
    "    print(p)"
   ]
  },
  {
   "cell_type": "code",
   "execution_count": 28,
   "metadata": {},
   "outputs": [
    {
     "name": "stdout",
     "output_type": "stream",
     "text": [
      "1\n",
      "5\n"
     ]
    }
   ],
   "source": [
    "for p in numbers:\n",
    "    if p % 2 == 0:\n",
    "        break\n",
    "    print(p)"
   ]
  },
  {
   "cell_type": "code",
   "execution_count": 29,
   "metadata": {},
   "outputs": [
    {
     "name": "stdout",
     "output_type": "stream",
     "text": [
      "1\n",
      "5\n",
      "7\n",
      "exit loop normally\n"
     ]
    }
   ],
   "source": [
    "for p in numbers:\n",
    "    if p % 2 == 0:\n",
    "        continue\n",
    "    print(p)\n",
    "else:\n",
    "    print('exit loop normally')"
   ]
  },
  {
   "cell_type": "code",
   "execution_count": 30,
   "metadata": {},
   "outputs": [
    {
     "name": "stdout",
     "output_type": "stream",
     "text": [
      "1\n",
      "5\n"
     ]
    }
   ],
   "source": [
    "for p in numbers:\n",
    "    if p % 2 == 0:\n",
    "        break\n",
    "    print(p)\n",
    "else:\n",
    "    print('exit loop normally')"
   ]
  },
  {
   "cell_type": "markdown",
   "metadata": {},
   "source": [
    "-----\n",
    "# <span style=color:blue> Using Loops to Simplify Codes </span>\n",
    "### A straightforward code for getting personal information may be as follows:\n",
    "    name = input(\"Please enter your name: \")\n",
    "    surname = input(\"Please enter your surname: \")\n",
    "    age = int(input(\"Please enter your age: \"))\n",
    "    height = float(input(\"Please enter your height: \"))\n",
    "    weight = float(input(\"Please enter your weight: \"))\n",
    "    \n",
    "### In Python, we can do the same thing in the following manner:\n",
    "    person = {}\n",
    "    for prop,cast in [(\"name\",str), (\"surname\",str), (\"age\",int), (\"height\",float), (\"weight\",float)]:\n",
    "        person[prop] = cast(input(\"Please enter your {}: \".format(prop)))\n",
    "\n"
   ]
  },
  {
   "cell_type": "markdown",
   "metadata": {},
   "source": [
    "-----\n",
    "# <span style=color:blue> Read Input Until EOF </span>\n",
    "\n",
    "### Read stdin until EOF\n",
    "    import sys\n",
    "\n",
    "    for line in sys.stdin:\n",
    "        # process each line\n",
    "\n",
    "### Read input file until EOF\n",
    "    with open(filename,'r') as fp:\n",
    "        for line in fp:\n",
    "            # process each line"
   ]
  },
  {
   "cell_type": "code",
   "execution_count": 31,
   "metadata": {},
   "outputs": [
    {
     "name": "stdout",
     "output_type": "stream",
     "text": [
      "['0\\n', '1\\n', '2\\n', '3\\n', '4\\n', '5\\n', '6\\n', '7\\n', '8\\n', '9\\n', '10\\n', '11\\n', '12\\n', '13\\n', '14\\n', '15\\n', '16\\n', '17\\n', '18\\n', '19\\n', '20\\n', '21\\n', '22\\n', '23\\n', '24\\n', '25\\n', '26\\n', '27\\n', '28\\n', '29\\n', '30\\n', '31\\n', '32\\n', '33\\n', '34\\n', '35\\n', '36\\n', '37\\n', '38\\n', '39\\n', '40\\n', '41\\n', '42\\n', '43\\n', '44\\n', '45\\n', '46\\n', '47\\n', '48\\n', '49\\n', '50\\n', '51\\n', '52\\n', '53\\n', '54\\n', '55\\n', '56\\n', '57\\n', '58\\n', '59\\n', '60\\n', '61\\n', '62\\n', '63\\n', '64\\n', '65\\n', '66\\n', '67\\n', '68\\n', '69\\n', '70\\n', '71\\n', '72\\n', '73\\n', '74\\n', '75\\n', '76\\n', '77\\n', '78\\n', '79\\n', '80\\n', '81\\n', '82\\n', '83\\n', '84\\n', '85\\n', '86\\n', '87\\n', '88\\n', '89\\n', '90\\n', '91\\n', '92\\n', '93\\n', '94\\n', '95\\n', '96\\n', '97\\n', '98\\n', '99\\n']\n"
     ]
    }
   ],
   "source": [
    "lines = []\n",
    "with open('myfile.txt','r') as infp:\n",
    "    #for line in infp:\n",
    "    #   process each line\n",
    "    lines = [line for line in infp]\n",
    "print(lines)"
   ]
  },
  {
   "cell_type": "code",
   "execution_count": null,
   "metadata": {
    "collapsed": true
   },
   "outputs": [],
   "source": []
  }
 ],
 "metadata": {
  "kernelspec": {
   "display_name": "Python 3",
   "language": "python",
   "name": "python3"
  },
  "language_info": {
   "codemirror_mode": {
    "name": "ipython",
    "version": 3
   },
   "file_extension": ".py",
   "mimetype": "text/x-python",
   "name": "python",
   "nbconvert_exporter": "python",
   "pygments_lexer": "ipython3",
   "version": "3.5.5"
  }
 },
 "nbformat": 4,
 "nbformat_minor": 2
}
