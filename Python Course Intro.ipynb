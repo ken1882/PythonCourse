{
 "cells": [
  {
   "cell_type": "markdown",
   "id": "82a1047d",
   "metadata": {},
   "source": [
    "# <span style=\"color:blue\">Python 課程資訊</span>\n",
    "\n",
    "## 大綱\n",
    "\n",
    "0. 講師介紹\n",
    "1. Python 介紹\n",
    "2. 環境安裝\n",
    "3. 基本語法、變數與資料型態\n",
    "4. 運算子\n",
    "5. 條件式\n",
    "6. 迴圈\n",
    "7. 函式\n",
    "8. 物件導向程式\n",
    "9. 常用基本模組\n",
    "10. 檔案與例外處理\n",
    "11. 實際應用-網路爬蟲\n",
    "12. 實際應用-資料科學計算\n",
    "13. 實際應用-GUI程式(+Parallel Programming)"
   ]
  },
  {
   "cell_type": "markdown",
   "id": "40aaa092",
   "metadata": {},
   "source": [
    "## 講師介紹\n",
    "+ 本名: 趙俊凱 (Compeador)\n",
    "+ 海洋大學資訊工程學系四年級\n",
    "+ YTP 3! \n",
    "+ 核心智慧資安發展處實習生\n",
    "+ 海大網路發展協會(IND)社長"
   ]
  },
  {
   "cell_type": "markdown",
   "id": "61356e9d",
   "metadata": {},
   "source": [
    "# <span style=\"color:blue\">Python 介紹</span>\n",
    "### Why Python?\n",
    "+ 完全看需求與喜好\n",
    "+ 語言特性?\n",
    "+ 套件完整度?\n",
    "+ 社群?\n",
    "\n",
    "### Python 的功能\n",
    "+ General-Purpose\n",
    "+ 解譯式語言 (Interpretered language)\n",
    "+ 可被設計爲廣知的程式設計範式 (programming paradigm)\n",
    "    + 程序式 (Procedural)\n",
    "    + 物件導向 (Object-Oriented)\n",
    "    + 函式化 (Functional)\n",
    "+ 語法簡潔, 動態資料形態\n",
    "\n",
    "### 編譯 vs 解譯\n",
    "#### 編譯\n",
    "+ 將程式轉換爲可執行的二進位檔 (binary executables)\n",
    "+ 執行速度快\n",
    "+ 需等編譯完畢後才能看到結果\n",
    "+ 撰寫時資料通常爲固定形別\n",
    "\n",
    "#### 解譯\n",
    "+ 解譯器逐行執行,可立即看到結果\n",
    "+ 執行速度較慢\n",
    "     + 其實還是要把code變成機器碼\n",
    "+ 撰寫時資料不需明確定義型別\n",
    "\n",
    "<img src=\"https://csharpcorner.azureedge.net/article/why-learn-python-an-introduction-to-python/Images/last2.png\" width=600px style=\"float:left\">"
   ]
  },
  {
   "cell_type": "markdown",
   "id": "b3fac3e8",
   "metadata": {},
   "source": [
    "### Top (popular) programming languages by IEEE\n",
    "\n",
    "<img src=\"https://venkatarangan.com/blog/wp-content/uploads/2020/07/ieee-spectrum-programming-languages-2016-to-2020-1750x2000.jpg\" style=\"float:left; width:800px;\">"
   ]
  },
  {
   "cell_type": "markdown",
   "id": "db51dbf2",
   "metadata": {},
   "source": [
    "## Python 2?\n",
    "#### 已經停止支援，除非有歷史包袱，否則一律建議使用 Python3"
   ]
  },
  {
   "cell_type": "markdown",
   "id": "a2494b1b",
   "metadata": {},
   "source": [
    "# <span style=\"color:blue\">安裝 Python</span>\n",
    "\n",
    "## 安裝虛擬環境 Anaconda\n",
    "\n",
    "請到 https://www.anaconda.com/products/individual#Downloads 下載\n",
    "\n",
    "* Anaconda\n",
    "    * 包含大量常用套件,吃空間\n",
    "    * 許多函式庫與相容問題不需再自己安裝解決\n",
    "* Miniconda\n",
    "    * 僅有核心套件,乾淨\n",
    "    * 需自行安裝套件,若有版本衝突需自行解決\n",
    "\n",
    "### 若直接在 Windows 原生環境安裝 Python\n",
    "* 若有先前安裝的軟體需要 Python (或後續安裝), 可能因衝突卡套件、函式庫版本抓錯 (主要是Python 2/3 衝突)\n",
    "* 如果都是用 Python 3 的套件應該不會有問題\n",
    "* Linux 沒有這個問題 :D\n",
    "\n",
    "### 開啟 Conda shell\n",
    "<img style=\"width:400px; float:left;\" src=\"https://i.imgur.com/WEZO2AK.png\">"
   ]
  },
  {
   "cell_type": "markdown",
   "id": "9a1540b0",
   "metadata": {},
   "source": [
    "### 套件管理工具\n",
    "\n",
    "在 Conda 虛擬環境內兩者都有提供，一般來說端看個人習慣\n",
    "\n",
    "* Pip\n",
    "    * `pip install <package-name>`\n",
    "    * 套件庫: PyPi \n",
    "* Conda\n",
    "    * `conda install -c anaconda <package-name>`\n",
    "    * 套件庫: Anaconda/packages"
   ]
  },
  {
   "cell_type": "markdown",
   "id": "75befeab",
   "metadata": {},
   "source": [
    "## Python IDE\n",
    "### Jupyter Notebook\n",
    "* 程式碼可分好幾段, 可結合文字與圖片敘述 (Markdown)\n",
    "* 適合規模較小的程式\n",
    "* 安裝: `pip install notebook` 或 `conda install -c conda-forge notebook`\n",
    "* 執行: `jupyter notebook`\n",
    "\n",
    "### Visual Studio Code\n",
    "* 適合任何規模\n",
    "* 擴充功能多\n",
    "* 安裝: https://code.visualstudio.com/\n",
    "\n",
    "### PyCharm (JetBrain)\n",
    "* 專門開發 Python 的正式 IDE, 適合任何規模\n",
    "* 內建功能多\n",
    "* Professional (Education) / Community\n",
    "* 安裝: https://www.jetbrains.com/pycharm/"
   ]
  },
  {
   "cell_type": "markdown",
   "id": "779f78f6",
   "metadata": {},
   "source": [
    "## 建立虛擬環境\n",
    "針對不同的Python模組或專案，可建立各自虛擬環境，以免因版本問題互相衝突。\n",
    "### 建立新的虛擬環境\n",
    "* `conda create -n myenv`\n",
    "* `conda create -n myenv python=3.8.5`\n",
    "* `conda create -n myenv python=3.8.5 pip`\n",
    "\n",
    "### 切換/停用虛擬環境\n",
    "* `conda activate myenv`\n",
    "* `conda deactivate myenv`\n",
    "\n",
    "### 更改名稱\n",
    "先複製新名稱後刪掉舊的\n",
    "* `conda create -n new_name --clone old_name`\n",
    "* `conda remove -n old_name --all`"
   ]
  },
  {
   "cell_type": "markdown",
   "id": "e6c8e098",
   "metadata": {},
   "source": [
    "## 確認 Python 版本\n",
    "* `python --version`"
   ]
  },
  {
   "cell_type": "code",
   "execution_count": 1,
   "id": "85f63993",
   "metadata": {},
   "outputs": [
    {
     "name": "stdout",
     "output_type": "stream",
     "text": [
      "sys.version_info(major=3, minor=8, micro=5, releaselevel='final', serial=0)\n",
      "3.8.5 (default, Sep  4 2020, 07:30:14) \n",
      "[GCC 7.3.0]\n"
     ]
    }
   ],
   "source": [
    "import sys\n",
    "print(sys.version_info)\n",
    "print(sys.version)"
   ]
  },
  {
   "cell_type": "markdown",
   "id": "27e433c5",
   "metadata": {},
   "source": [
    "### Python 語言的特性可以很快上手使用程式表達概念。但是還是要花時間才能精熟。"
   ]
  },
  {
   "cell_type": "markdown",
   "id": "e5073c08",
   "metadata": {},
   "source": [
    "# 恭喜! 基本環境已經設定完成!"
   ]
  }
 ],
 "metadata": {
  "kernelspec": {
   "display_name": "Python 3",
   "language": "python",
   "name": "python3"
  },
  "language_info": {
   "codemirror_mode": {
    "name": "ipython",
    "version": 3
   },
   "file_extension": ".py",
   "mimetype": "text/x-python",
   "name": "python",
   "nbconvert_exporter": "python",
   "pygments_lexer": "ipython3",
   "version": "3.8.5"
  }
 },
 "nbformat": 4,
 "nbformat_minor": 5
}
