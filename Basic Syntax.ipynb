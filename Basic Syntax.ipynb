{
 "cells": [
  {
   "cell_type": "markdown",
   "id": "70d20717",
   "metadata": {},
   "source": [
    "# <span style=\"color:blue\">Python: Hello World</span>\n",
    "### 學一個新的程式語言，第一步先試著輸出/入訊息，確認撰寫程式環境一切無誤。\n",
    "*  <span style=\"color:blue\">Python使用input函式輸入資料</span>\n",
    "*  <span style=\"color:blue\">Python使用print函式輸出資料</span><br>\n",
    "下面Python範例輸出一個訊息。"
   ]
  },
  {
   "cell_type": "code",
   "execution_count": 1,
   "id": "107f7572",
   "metadata": {},
   "outputs": [
    {
     "name": "stdout",
     "output_type": "stream",
     "text": [
      "Hello World!\n"
     ]
    }
   ],
   "source": [
    "print('Hello World!')"
   ]
  },
  {
   "cell_type": "markdown",
   "id": "b308d137",
   "metadata": {},
   "source": [
    "下面Python範例輸入與輸出一個訊息,<br>\n",
    "注意 <span style=\"color:blue\"> input 可以顯示提示訊息</span>。"
   ]
  },
  {
   "cell_type": "code",
   "execution_count": 4,
   "id": "78f9af13",
   "metadata": {},
   "outputs": [
    {
     "name": "stdout",
     "output_type": "stream",
     "text": [
      "Enter your name: Compeador\n",
      "Hello Compeador !\n"
     ]
    }
   ],
   "source": [
    "name = input(\"Enter your name: \")\n",
    "print(\"Hello\", name, \"!\")"
   ]
  },
  {
   "cell_type": "markdown",
   "id": "9caaf7ec",
   "metadata": {},
   "source": [
    "## 變數\n",
    "* 照字面解釋就是會變的數字\n",
    "* 不只是數字,可以是任何東西\n",
    "* x, y, z...\n",
    "\n",
    "### 變數的宣告\n",
    "必須是底線或字母開頭,之後由字母,數字或底線所組成"
   ]
  },
  {
   "cell_type": "code",
   "execution_count": 15,
   "id": "ef919ef8",
   "metadata": {},
   "outputs": [
    {
     "name": "stdout",
     "output_type": "stream",
     "text": [
      "0 one 二 3.0\n"
     ]
    }
   ],
   "source": [
    "zero = 0\n",
    "one  = \"one\"\n",
    "two  = '二'\n",
    "three= 3.0\n",
    "print(zero, one, two, three)"
   ]
  },
  {
   "cell_type": "markdown",
   "id": "8bf91349",
   "metadata": {},
   "source": [
    "一般虛擬碼(pseudo code)會用的表示法:<br>\n",
    "`x ← 123`\n",
    "\n",
    "而在 Python 內...<br>\n",
    "`x = 123`\n",
    "<p>代入(O) 等於(X)</p>"
   ]
  },
  {
   "cell_type": "markdown",
   "id": "b7fe73c6",
   "metadata": {},
   "source": [
    "#### Q: 那 \"等於\" 該怎麼表示?\n",
    "A: `==`, 條件判斷 (if) 時常用"
   ]
  },
  {
   "cell_type": "markdown",
   "id": "88829b44",
   "metadata": {},
   "source": [
    "### 變數的命名慣例\n",
    "* 常數(constants): THIS_IS_CONSTANT\n",
    "* 變數(variables): this_is_variable\n",
    "* 物件名稱(class names): ClassName\n",
    "* 私有變數(private variables): _private_variable\n",
    "\n",
    "皆區分大小寫！(Case Sensitive)"
   ]
  },
  {
   "cell_type": "markdown",
   "id": "c2330273",
   "metadata": {},
   "source": [
    "### Python Keywords\n",
    "在任何語言內的關鍵字皆有特殊用途, 不可拿來當變數名稱。\n",
    "\n",
    "```python\n",
    "False    class    finally    is\n",
    "return   None     continue   for\n",
    "lambda   try      True       def\n",
    "from     and      while      nonlocal\n",
    "del      global   not        with\n",
    "as       elif     if         or\n",
    "yield    assert   else       import\n",
    "pass     break    except     in\n",
    "raise\n",
    "```"
   ]
  },
  {
   "cell_type": "markdown",
   "id": "4f303da0",
   "metadata": {},
   "source": [
    "## <span style=\"color:blue\">Python 變數的特性</span>\n",
    "1. 動態型別, 同一個變數可任意儲存不同的資料\n",
    "2. 變數具有不同的存取範圍\n",
    "3. 變數具有不同的生命週期\n",
    "4. Always pass by reference"
   ]
  },
  {
   "cell_type": "markdown",
   "id": "772f8904",
   "metadata": {},
   "source": [
    "### 註解\n",
    "在程式中不做任何動作,給人看以方便瞭解程式內容。\n",
    "\n",
    "**在協作的專案中非常重要**"
   ]
  },
  {
   "cell_type": "code",
   "execution_count": 17,
   "id": "43c0ec7b",
   "metadata": {},
   "outputs": [],
   "source": [
    "# the answer to life, the universe, and everything\n",
    "x = 42"
   ]
  },
  {
   "cell_type": "markdown",
   "id": "b3b54f26",
   "metadata": {},
   "source": [
    "Python 內只有單行註解, 但無多行註解；通常使用多行字串 (Multi-line string) 來當註解用"
   ]
  },
  {
   "cell_type": "code",
   "execution_count": 32,
   "id": "9dc2caae",
   "metadata": {},
   "outputs": [
    {
     "name": "stdout",
     "output_type": "stream",
     "text": [
      "Lorem ipsum dolor sit amet,\n",
      "consectetur adipiscing elit. Integer sit amet odio scelerisque quam tempus suscipit et vel dolor.\n",
      "Vestibulum finibus viverra posuere.\n",
      "\n"
     ]
    }
   ],
   "source": [
    "'''\n",
    "Lorem ipsum 簡稱爲 Lipsum,\n",
    "據說是自15世紀開始在印刷業所使用的隨機假文;\n",
    "用來檢視字體顯示的效果，這段文章也沿用至今.\n",
    "'''\n",
    "print('''Lorem ipsum dolor sit amet,\n",
    "consectetur adipiscing elit. Integer sit amet odio scelerisque quam tempus suscipit et vel dolor.\n",
    "Vestibulum finibus viverra posuere.\n",
    "''')"
   ]
  },
  {
   "cell_type": "code",
   "execution_count": 33,
   "id": "3ba2038a",
   "metadata": {},
   "outputs": [
    {
     "name": "stdout",
     "output_type": "stream",
     "text": [
      "†̴̜͉̤͚͉͘و̵̗̦͚͔̱̠̏͐̃̐̓͒͘·̶̛̙͎͎̰̗̭̌̓̃̊͆̍̉́̓̃̓̇͗¨̶̈́͆͒̎͋̃͜ه̴͔̐̄̀̚Œ̸̟̝͓̳͇̫͕̆̄͗̋́̈́̀̀̽̿͠͠–̷̪̙̲̻͈̘͙͔̜͕̊͛͑̉̉̎͐̒̒̚͘͜͝͝و̷͔͓͉̮͖̰̩͝ͅ†̴̯͍͙̘̹̬͇̉͂͆̓̄̀͋͋̊͘͜‘̵̨̡̻̖͉̝̻̓̇͋͜ͅé̶͎́̃̃̇͛͝­̸̟͍̩̟͚̭̠̞̪̠̄̐̋̓̈́͛̈́̎͗̅͜͝ͅ”̵̨̡̫̰̮͈̗͇͉̘͍̗̏̈م̷̨̺̞͉̲͉̬͔̩̉̐͛̽͊͒͘€̷̡̠̾پ̸̨̡̡̡̛̞̫̟͇̲͈̟͓̭́̓͒͜͜é̵̛̲͉̌̑̌͌̀̓͂͆͝پ̴͇͙̦̱̾͐̏͊̉̈̿͛̆̎͛͗”̶̛̗̗͗̽̍̓͋̀͊̈̀̿̏̆̕و̶̼̞͍̤͙̹͕̖̫͎̮͑͐̔̿̎͐͊͘͠ˆ̴͔͕͊̈̎̂̇̇͌͝گ̴̭̲̮̪̳̐̉͊̑͆̓͑͐̒̍̈̇͝͠͝ͅن̵̪̾̔̀̂̏͆؛̴̧̟̝͎̘̪̟̙̤̙̩̼͂̃́́́̎̋̀̐͜͝ͅ؛̴̼̟̤̺̩̪̟͍̤̖̫͍̻̰̈̓̓̈̏̃̐͌̑̿̈́̃͝͝͝ȩ̶̢̨̰͈͉͈͉̗̣̦̤͓̱́͌̔̍͆͝،̵̪̝̖̍͌̽̌̑͛̕‍̸̛̜̝̼́̏̿ͅè̶̱͈̩̦̫͈̟̌͌ˆ̶̧͚̣̲̩͎̰͖̣̟̹̮̌̑\n"
     ]
    }
   ],
   "source": [
    "# Don't Do THIS\n",
    "邪惡ㄉ中文變數 = \"†̴̜͉̤͚͉͘و̵̗̦͚͔̱̠̏͐̃̐̓͒͘·̶̛̙͎͎̰̗̭̌̓̃̊͆̍̉́̓̃̓̇͗¨̶̈́͆͒̎͋̃͜ه̴͔̐̄̀̚Œ̸̟̝͓̳͇̫͕̆̄͗̋́̈́̀̀̽̿͠͠–̷̪̙̲̻͈̘͙͔̜͕̊͛͑̉̉̎͐̒̒̚͘͜͝͝و̷͔͓͉̮͖̰̩͝ͅ†̴̯͍͙̘̹̬͇̉͂͆̓̄̀͋͋̊͘͜‘̵̨̡̻̖͉̝̻̓̇͋͜ͅé̶͎́̃̃̇͛͝­̸̟͍̩̟͚̭̠̞̪̠̄̐̋̓̈́͛̈́̎͗̅͜͝ͅ”̵̨̡̫̰̮͈̗͇͉̘͍̗̏̈م̷̨̺̞͉̲͉̬͔̩̉̐͛̽͊͒͘€̷̡̠̾پ̸̨̡̡̡̛̞̫̟͇̲͈̟͓̭́̓͒͜͜é̵̛̲͉̌̑̌͌̀̓͂͆͝پ̴͇͙̦̱̾͐̏͊̉̈̿͛̆̎͛͗”̶̛̗̗͗̽̍̓͋̀͊̈̀̿̏̆̕و̶̼̞͍̤͙̹͕̖̫͎̮͑͐̔̿̎͐͊͘͠ˆ̴͔͕͊̈̎̂̇̇͌͝گ̴̭̲̮̪̳̐̉͊̑͆̓͑͐̒̍̈̇͝͠͝ͅن̵̪̾̔̀̂̏͆؛̴̧̟̝͎̘̪̟̙̤̙̩̼͂̃́́́̎̋̀̐͜͝ͅ؛̴̼̟̤̺̩̪̟͍̤̖̫͍̻̰̈̓̓̈̏̃̐͌̑̿̈́̃͝͝͝ȩ̶̢̨̰͈͉͈͉̗̣̦̤͓̱́͌̔̍͆͝،̵̪̝̖̍͌̽̌̑͛̕‍̸̛̜̝̼́̏̿ͅè̶̱͈̩̦̫͈̟̌͌ˆ̶̧͚̣̲̩͎̰͖̣̟̹̮̌̑\"\n",
    "print(邪惡ㄉ中文變數)"
   ]
  },
  {
   "cell_type": "markdown",
   "id": "6651ccb6",
   "metadata": {},
   "source": [
    "# <span style=\"color:blue\">資料形態</span>\n",
    "資料型態包含兩種定義:\n",
    "1. 可能出現的資料範圍(值域)\n",
    "2. 可以對資料進行什麼操作"
   ]
  },
  {
   "cell_type": "code",
   "execution_count": 20,
   "id": "db9786d1",
   "metadata": {},
   "outputs": [
    {
     "name": "stdout",
     "output_type": "stream",
     "text": [
      "<class 'int'> <class 'str'> <class 'float'>\n"
     ]
    }
   ],
   "source": [
    "a = 81000\n",
    "b = 'TSJ'\n",
    "c = 3.1415\n",
    "\n",
    "# 使用 type() 函式顯示資料型態\n",
    "print(type(a), type(b), type(c))"
   ]
  },
  {
   "cell_type": "code",
   "execution_count": 30,
   "id": "14736272",
   "metadata": {},
   "outputs": [
    {
     "name": "stdout",
     "output_type": "stream",
     "text": [
      "['__abs__', '__add__', '__and__', '__bool__', '__ceil__', '__class__', '__delattr__', '__dir__', '__divmod__', '__doc__', '__eq__', '__float__', '__floor__', '__floordiv__', '__format__', '__ge__', '__getattribute__', '__getnewargs__', '__gt__', '__hash__', '__index__', '__init__', '__init_subclass__', '__int__', '__invert__', '__le__', '__lshift__', '__lt__', '__mod__', '__mul__', '__ne__', '__neg__', '__new__', '__or__', '__pos__', '__pow__', '__radd__', '__rand__', '__rdivmod__', '__reduce__', '__reduce_ex__', '__repr__', '__rfloordiv__', '__rlshift__', '__rmod__', '__rmul__', '__ror__', '__round__', '__rpow__', '__rrshift__', '__rshift__', '__rsub__', '__rtruediv__', '__rxor__', '__setattr__', '__sizeof__', '__str__', '__sub__', '__subclasshook__', '__truediv__', '__trunc__', '__xor__', 'as_integer_ratio', 'bit_length', 'conjugate', 'denominator', 'from_bytes', 'imag', 'numerator', 'real', 'to_bytes']\n",
      "['__add__', '__class__', '__contains__', '__delattr__', '__dir__', '__doc__', '__eq__', '__format__', '__ge__', '__getattribute__', '__getitem__', '__getnewargs__', '__gt__', '__hash__', '__init__', '__init_subclass__', '__iter__', '__le__', '__len__', '__lt__', '__mod__', '__mul__', '__ne__', '__new__', '__reduce__', '__reduce_ex__', '__repr__', '__rmod__', '__rmul__', '__setattr__', '__sizeof__', '__str__', '__subclasshook__', 'capitalize', 'casefold', 'center', 'count', 'encode', 'endswith', 'expandtabs', 'find', 'format', 'format_map', 'index', 'isalnum', 'isalpha', 'isascii', 'isdecimal', 'isdigit', 'isidentifier', 'islower', 'isnumeric', 'isprintable', 'isspace', 'istitle', 'isupper', 'join', 'ljust', 'lower', 'lstrip', 'maketrans', 'partition', 'replace', 'rfind', 'rindex', 'rjust', 'rpartition', 'rsplit', 'rstrip', 'split', 'splitlines', 'startswith', 'strip', 'swapcase', 'title', 'translate', 'upper', 'zfill']\n",
      "['__abs__', '__add__', '__bool__', '__class__', '__delattr__', '__dir__', '__divmod__', '__doc__', '__eq__', '__float__', '__floordiv__', '__format__', '__ge__', '__getattribute__', '__getformat__', '__getnewargs__', '__gt__', '__hash__', '__init__', '__init_subclass__', '__int__', '__le__', '__lt__', '__mod__', '__mul__', '__ne__', '__neg__', '__new__', '__pos__', '__pow__', '__radd__', '__rdivmod__', '__reduce__', '__reduce_ex__', '__repr__', '__rfloordiv__', '__rmod__', '__rmul__', '__round__', '__rpow__', '__rsub__', '__rtruediv__', '__set_format__', '__setattr__', '__sizeof__', '__str__', '__sub__', '__subclasshook__', '__truediv__', '__trunc__', 'as_integer_ratio', 'conjugate', 'fromhex', 'hex', 'imag', 'is_integer', 'real']\n"
     ]
    }
   ],
   "source": [
    "# 使用 dir() 函式顯示資料可執行的操作 / 函式 / 方法\n",
    "print(dir(6666))\n",
    "print(dir('bj4'))\n",
    "print(dir(0.95))"
   ]
  },
  {
   "cell_type": "markdown",
   "id": "1df5e148",
   "metadata": {},
   "source": [
    "## <span style=\"color:blue\">Python 內建資料型態</span>\n",
    "\n",
    "也不建議拿來當別的變數名稱\n",
    "\n",
    "+ 一般資料\n",
    "    + int\n",
    "    + float\n",
    "    + str\n",
    "    + bool\n",
    "    + complex\n",
    "+ 容器 (Collections)\n",
    "    + range\n",
    "    + list\n",
    "    + tuple\n",
    "    + dict\n",
    "    + set"
   ]
  },
  {
   "cell_type": "markdown",
   "id": "a356c25f",
   "metadata": {},
   "source": [
    "### 布林值\n",
    "通常在條件判斷中所使用\n",
    "+ `True`:  真\n",
    "+ `False`: 假"
   ]
  },
  {
   "cell_type": "code",
   "execution_count": 49,
   "id": "d3247ba1",
   "metadata": {},
   "outputs": [
    {
     "name": "stdout",
     "output_type": "stream",
     "text": [
      "True False\n"
     ]
    }
   ],
   "source": [
    "a = 1\n",
    "b = 1.0\n",
    "c = 2\n",
    "print(a == b, a == c)"
   ]
  },
  {
   "cell_type": "code",
   "execution_count": 60,
   "id": "ce1d9efa",
   "metadata": {},
   "outputs": [
    {
     "name": "stdout",
     "output_type": "stream",
     "text": [
      "False False True False True\n"
     ]
    }
   ],
   "source": [
    "print(\n",
    "    bool(0), bool(0.0), bool(1), bool(''), bool('hi')\n",
    ")"
   ]
  },
  {
   "cell_type": "markdown",
   "id": "9f2ec852",
   "metadata": {},
   "source": [
    "### Python 數值運算\n",
    "* `+` `-` `*` `/`: 加減乘除\n",
    "* `//` `**` `%`: 整除、次方、餘數(限整數)\n",
    "\n",
    "#### 改變變數內容的運算子\n",
    "* `=`: 代入\n",
    "* `+=` `-=` `*=` `/=`: 運算後代入"
   ]
  },
  {
   "cell_type": "markdown",
   "id": "4bddc9b4",
   "metadata": {},
   "source": [
    "#### <span style=\"color:red\">Python 整數沒有限制整數大小</span>"
   ]
  },
  {
   "cell_type": "code",
   "execution_count": 54,
   "id": "5c6a7b54",
   "metadata": {},
   "outputs": [
    {
     "name": "stdout",
     "output_type": "stream",
     "text": [
      "10715086071862673209484250490600018105614048117055336074437503883703510511249361224931983788156958581275946729175531468251871452856923140435984577574698574803934567774824230985421074605062371141877954182153046474983581941267398767559165543946077062914571196477686542167660429831652624386837205668069376\n"
     ]
    }
   ],
   "source": [
    "print(2**1000)"
   ]
  },
  {
   "cell_type": "markdown",
   "id": "e01a2c8d",
   "metadata": {},
   "source": [
    "#### 其他數值表示方法"
   ]
  },
  {
   "cell_type": "code",
   "execution_count": 38,
   "id": "8035959b",
   "metadata": {},
   "outputs": [],
   "source": [
    "bin = 0b10010 # 二進位\n",
    "hex = 0xC5AF8 # 十六進位\n",
    "oct = 0o71247 # 八進位"
   ]
  },
  {
   "cell_type": "code",
   "execution_count": 39,
   "id": "30340736",
   "metadata": {},
   "outputs": [
    {
     "name": "stdout",
     "output_type": "stream",
     "text": [
      "5 1 1.5 9 1 1\n"
     ]
    }
   ],
   "source": [
    "print(3+2, 3//2, 3/2, 3**2, 3-2, 3 % 2)   "
   ]
  },
  {
   "cell_type": "code",
   "execution_count": 40,
   "id": "18935ffb",
   "metadata": {},
   "outputs": [
    {
     "name": "stdout",
     "output_type": "stream",
     "text": [
      "5 , 1 , 1.5 , 9 , 1 , 1\n"
     ]
    }
   ],
   "source": [
    "print(3+2,',', 3//2, ',',3/2, ',',3**2, ',',3-2, ',',3 % 2)"
   ]
  },
  {
   "cell_type": "markdown",
   "id": "461b8cb7",
   "metadata": {},
   "source": [
    "### 其他 print 的方法\n",
    "+ 更改參數間的分隔方法\n",
    "+ 更改字尾\n",
    "+ 變數代入\n",
    "+ 變數排版"
   ]
  },
  {
   "cell_type": "code",
   "execution_count": 42,
   "id": "f9c37203",
   "metadata": {},
   "outputs": [
    {
     "name": "stdout",
     "output_type": "stream",
     "text": [
      "5,1,1.5,9,1,1\n"
     ]
    }
   ],
   "source": [
    "print(3+2, 3//2, 3/2, 3**2, 3-2, 3 % 2, sep=',')"
   ]
  },
  {
   "cell_type": "code",
   "execution_count": 121,
   "id": "0bc37a76",
   "metadata": {},
   "outputs": [
    {
     "name": "stdout",
     "output_type": "stream",
     "text": [
      "Enter your name: sire\n",
      "Greeting, sire!\n"
     ]
    }
   ],
   "source": [
    "name = input(\"Enter your name: \")\n",
    "print(f'Greeting, {name}!')"
   ]
  },
  {
   "cell_type": "code",
   "execution_count": 45,
   "id": "88506d2b",
   "metadata": {},
   "outputs": [
    {
     "name": "stdout",
     "output_type": "stream",
     "text": [
      "2\n",
      "3\n",
      "9\n",
      "81\n"
     ]
    }
   ],
   "source": [
    "x = 1\n",
    "x = x + 1\n",
    "print(x)\n",
    "x += 1\n",
    "print(x)\n",
    "x = x ** 2\n",
    "print(x)\n",
    "x **= 2\n",
    "print(x)"
   ]
  },
  {
   "cell_type": "markdown",
   "id": "ad8053d6",
   "metadata": {},
   "source": [
    "## Python 字串\n",
    "+ 單引號 '字串'\n",
    "+ 雙引號 \"字串\""
   ]
  },
  {
   "cell_type": "code",
   "execution_count": 74,
   "id": "0fa22162",
   "metadata": {},
   "outputs": [
    {
     "name": "stdout",
     "output_type": "stream",
     "text": [
      "單引號字串 雙引號字串\n",
      "可在雙引號當中穿插 '單引號'\n",
      "當然, \"反之亦然\"~\n"
     ]
    }
   ],
   "source": [
    "print('單引號字串', \"雙引號字串\")\n",
    "print(\"可在雙引號當中穿插 '單引號'\")\n",
    "print('當然, \"反之亦然\"~')"
   ]
  },
  {
   "cell_type": "markdown",
   "id": "42407aa0",
   "metadata": {},
   "source": [
    "### 字元\n",
    "+ 字串是由字元所組成\n",
    "+ 每個字元長度爲 `1`\n",
    "+ 在 python 中, 字元可視為長度爲 `1` 的字串\n",
    "\n",
    "#### 字元的數值表示"
   ]
  },
  {
   "cell_type": "code",
   "execution_count": 84,
   "id": "26609723",
   "metadata": {},
   "outputs": [
    {
     "name": "stdout",
     "output_type": "stream",
     "text": [
      "48 65 97\n"
     ]
    }
   ],
   "source": [
    "print(ord('0'), ord('A'), ord('a'))"
   ]
  },
  {
   "cell_type": "code",
   "execution_count": 85,
   "id": "810e2e02",
   "metadata": {},
   "outputs": [
    {
     "name": "stdout",
     "output_type": "stream",
     "text": [
      "0 9 A Z a z\n"
     ]
    }
   ],
   "source": [
    "print( chr(48), chr(57), chr(65), chr(90), chr(97), chr(122) )"
   ]
  },
  {
   "cell_type": "markdown",
   "id": "2fb49ca9",
   "metadata": {},
   "source": [
    "#### 取得字串長度"
   ]
  },
  {
   "cell_type": "code",
   "execution_count": 88,
   "id": "a7e331a8",
   "metadata": {},
   "outputs": [
    {
     "name": "stdout",
     "output_type": "stream",
     "text": [
      "3\n"
     ]
    }
   ],
   "source": [
    "msg = \"How\"\n",
    "print( len(msg) )"
   ]
  },
  {
   "cell_type": "markdown",
   "id": "acd88265",
   "metadata": {},
   "source": [
    "#### 字串加法與乘法"
   ]
  },
  {
   "cell_type": "code",
   "execution_count": 91,
   "id": "e02e065e",
   "metadata": {},
   "outputs": [
    {
     "name": "stdout",
     "output_type": "stream",
     "text": [
      "Hello World!\n",
      "HelloHelloHello\n"
     ]
    }
   ],
   "source": [
    "msg = \"Hello\"\n",
    "print(msg + \" World!\")\n",
    "print(msg * 3)"
   ]
  },
  {
   "cell_type": "markdown",
   "id": "8e53b817",
   "metadata": {},
   "source": [
    "#### 字串足標\n",
    "+ 取得字串中的第 N 個字元\n",
    "+ 從足標 0 開始, 幾乎所有語言都是 (除了 lua)"
   ]
  },
  {
   "cell_type": "code",
   "execution_count": 92,
   "id": "2dd1d374",
   "metadata": {},
   "outputs": [
    {
     "name": "stdout",
     "output_type": "stream",
     "text": [
      "H w n\n"
     ]
    }
   ],
   "source": [
    "msg = \"How Do You Turn This On\"\n",
    "print(msg[0], msg[2], msg[-1])"
   ]
  },
  {
   "cell_type": "markdown",
   "id": "e5833e9c",
   "metadata": {},
   "source": [
    "#### 取得範圍內的子字串"
   ]
  },
  {
   "cell_type": "code",
   "execution_count": 113,
   "id": "e929bcca",
   "metadata": {},
   "outputs": [
    {
     "name": "stdout",
     "output_type": "stream",
     "text": [
      "ow Do You Turn This On\n",
      "On\n",
      "Do You Turn This \n",
      " You Turn This O\n"
     ]
    }
   ],
   "source": [
    "msg = \"How Do You Turn This On\"\n",
    "print(msg[1:])\n",
    "print(msg[-2:])\n",
    "print(msg[4:-2])\n",
    "print(msg[6:-1])"
   ]
  },
  {
   "cell_type": "markdown",
   "id": "b6e540c9",
   "metadata": {},
   "source": [
    "### 常用字串函式"
   ]
  },
  {
   "cell_type": "code",
   "execution_count": 119,
   "id": "e5708950",
   "metadata": {},
   "outputs": [
    {
     "name": "stdout",
     "output_type": "stream",
     "text": [
      "HOW DO YOU TURN THIS ON\n",
      "how do you turn this on\n",
      "How do you turn this on\n",
      "How Do You Turn This On\n",
      "  A string with extra spaces   !\n",
      "A string with extra spaces!\n"
     ]
    }
   ],
   "source": [
    "msg = \"How Do You Turn This On\"\n",
    "print(msg.upper()) # 全大寫\n",
    "print(msg.lower()) # 全小寫\n",
    "print(msg.capitalize()) # 字首大寫,其他小寫\n",
    "print(msg.title()) # 子字首大寫,其他小寫\n",
    "\n",
    "msg = \"  A string with extra spaces   \"\n",
    "print(msg, '!', sep='')\n",
    "print(msg.strip(), '!', sep='') # 移除頭尾空白及換行符號等"
   ]
  },
  {
   "cell_type": "markdown",
   "id": "1393c5fb",
   "metadata": {},
   "source": [
    "### 跳脫字元\n",
    "跳脫字元爲反斜線 `\\`, 用來表示一般鍵盤無法打出的字。\n",
    "\n",
    "許多語言的跳脫字元基本上也都是反斜線\n",
    "\n",
    "<div style=\"float:left\">\n",
    "    \n",
    "Sequence | Meaning | &nbsp;&nbsp;&nbsp; | Sequence | Meaning \n",
    "---- | ---- | ---- | --- | ----\n",
    "\\\\\\ | 反斜線 | | \\ooo | 八進位值爲 oo 的字元\n",
    "\\\\' | 單引號 | |\\xhh | 十六進位值爲 hh 的字元\n",
    "\\\\\" | 雙引號 | |\\uhhhh | 十六進位值爲 hhhh 的 16-bit 字元\n",
    "\\n | 換行符號 | |\\uhhhhhhhh | 十六進位值爲 hhhhhhhh 的 32-bit 字元\n",
    "\\t | tab\n",
    "    \n",
    "</div>"
   ]
  },
  {
   "cell_type": "code",
   "execution_count": 144,
   "id": "4abd9e17",
   "metadata": {},
   "outputs": [
    {
     "name": "stdout",
     "output_type": "stream",
     "text": [
      "\tEclipse first,\n",
      "the rest nowhere.\n",
      "\n",
      "\\★☆★☆★/\n"
     ]
    }
   ],
   "source": [
    "print(\"\\tEclipse first,\")\n",
    "print(\"the rest nowhere.\", end='\\n\\n')\n",
    "print(\"\\\\\\u2605\\u2606\\u2605\\u2606\\u2605/\")"
   ]
  },
  {
   "cell_type": "markdown",
   "id": "df58e7ec",
   "metadata": {},
   "source": [
    "### 字串與其他資料型態的轉換"
   ]
  },
  {
   "cell_type": "code",
   "execution_count": 157,
   "id": "e0d4357f",
   "metadata": {},
   "outputs": [
    {
     "name": "stdout",
     "output_type": "stream",
     "text": [
      "請輸入您的身高(公分): 173\n",
      "請輸入您的體重(公斤): 50\n",
      "請輸入您的年齡: 23\n",
      "您的 BMI 是: 16.706204684419795\n",
      "體脂率: 9.137445621303755%(男) / 19.937445621303752%(女)\n"
     ]
    }
   ],
   "source": [
    "height = input(\"請輸入您的身高(公分): \")\n",
    "weight = input(\"請輸入您的體重(公斤): \")\n",
    "age    = input(\"請輸入您的年齡: \")\n",
    "height = float(height) / 100\n",
    "weight = float(weight)\n",
    "age    = int(age)\n",
    "bmi    = weight/height/height\n",
    "bfp    = 1.2*bmi + 0.23*age\n",
    "print(\"您的 BMI 是:\", bmi)\n",
    "print(f\"體脂率: {bfp-16.2}%(男) / {bfp-5.4}%(女)\")"
   ]
  },
  {
   "cell_type": "markdown",
   "id": "3b2577dd",
   "metadata": {},
   "source": [
    "#### 格式化字串\n",
    "類似 C 的 `printf`\n",
    "\n",
    "reference: https://pyformat.info/\n",
    "\n",
    "<img style=\"float:left;height:400px;\" src=\"https://talkingtoyourcomputer.files.wordpress.com/2014/07/pythonconversiontable.png\">\n",
    "<img style=\"float:left; padding: 0px 0px 0px 4px;\" src=\"https://www.oreilly.com/library/view/program-arcade-games/9781484217900/images/pg335.jpg\">"
   ]
  },
  {
   "cell_type": "code",
   "execution_count": 158,
   "id": "2993bb73",
   "metadata": {},
   "outputs": [
    {
     "name": "stdout",
     "output_type": "stream",
     "text": [
      "您的 BMI 是: 16.71\n",
      "體脂率: 9.14%(男) / 19.94%(女)\n"
     ]
    }
   ],
   "source": [
    "print(\"您的 BMI 是: {:.2f}\".format(bmi))\n",
    "print(\"體脂率: {:.2f}%(男) / {:.2f}%(女)\".format(bfp-16.2, bfp-5.4))"
   ]
  },
  {
   "cell_type": "markdown",
   "id": "7fabbc56",
   "metadata": {},
   "source": [
    "###  浮點數\n",
    "Float-point (浮點數) 一般可理解爲小數, 和一般表示整數的方式不一樣。<br>\n",
    "有興趣可參考國際浮點數標準 IEEE-754 (https://zh.wikipedia.org/zh-tw/IEEE_754) \n",
    "\n",
    "初學者只需知道浮點數計算上會有誤差"
   ]
  },
  {
   "cell_type": "code",
   "execution_count": 53,
   "id": "d940dbda",
   "metadata": {},
   "outputs": [
    {
     "name": "stdout",
     "output_type": "stream",
     "text": [
      "False\n",
      "0.30000000000000004\n"
     ]
    }
   ],
   "source": [
    "print(0.1 + 0.2 == 0.3)\n",
    "print(0.1 + 0.2)"
   ]
  },
  {
   "cell_type": "markdown",
   "id": "a0d4d9fa",
   "metadata": {},
   "source": [
    "#### 解決方法\n",
    "* 四捨五入、無條件捨去、進位\n",
    "    * `round()`: 內建\n",
    "* Decimal (高精度浮點數)\n",
    "    * `decimal` 模組"
   ]
  },
  {
   "cell_type": "code",
   "execution_count": 67,
   "id": "8f380c22",
   "metadata": {},
   "outputs": [
    {
     "name": "stdout",
     "output_type": "stream",
     "text": [
      "0.30000000000000004 0.3\n",
      "True\n"
     ]
    }
   ],
   "source": [
    "a = 0.1 + 0.2\n",
    "b = round(a, 1)\n",
    "print(a, b)\n",
    "print(b == 0.3)"
   ]
  },
  {
   "cell_type": "code",
   "execution_count": 68,
   "id": "a846c36c",
   "metadata": {},
   "outputs": [
    {
     "name": "stdout",
     "output_type": "stream",
     "text": [
      "True\n",
      "True\n"
     ]
    }
   ],
   "source": [
    "from decimal import Decimal\n",
    "\n",
    "a = Decimal('0.1') # 注意小數要用字串表示\n",
    "b = Decimal('0.2')\n",
    "print(a + b == Decimal('0.3'))\n",
    "print(float(a+b) == 0.3)"
   ]
  },
  {
   "cell_type": "code",
   "execution_count": 165,
   "id": "1b79a7a7",
   "metadata": {},
   "outputs": [
    {
     "name": "stdout",
     "output_type": "stream",
     "text": [
      "1.602e-19\n",
      "3.000000e+08\n"
     ]
    }
   ],
   "source": [
    "ELECTRON    = 1.602 * 10**-19\n",
    "LIGHT_SPEED = 3 * 10**8\n",
    "print(ELECTRON)\n",
    "print(\"{:e}\".format(LIGHT_SPEED))"
   ]
  },
  {
   "cell_type": "markdown",
   "id": "99f2d2a6",
   "metadata": {},
   "source": [
    "### <span style=\"color:blue\"> List 與 Tuple </span>"
   ]
  },
  {
   "cell_type": "markdown",
   "id": "2dc65990",
   "metadata": {},
   "source": [
    "* 皆是將許多資料儲存在一起的 Collection\n",
    "* 儲存一連串的變數, 內容可是任何形態\n",
    "* List 可以改變裡面儲存的變數, Tuple 不行 (mutable/immutable)\n",
    "* 跟字串一樣用足標存取, 從 0 開始\n",
    "    * `list[start:end:increment]`"
   ]
  },
  {
   "cell_type": "code",
   "execution_count": 171,
   "id": "729f23af",
   "metadata": {},
   "outputs": [
    {
     "name": "stdout",
     "output_type": "stream",
     "text": [
      "[1, 0.2, 3, 'world', 5, 'hello']\n",
      "1\n",
      "[0.2, 3]\n",
      "[1, 3, 5]\n",
      "['hello', 5, 'world', 3, 0.2, 1]\n",
      "[1, 'hello', 1.3, [1, 0.2, 3, 'world', 5, 'hello']]\n"
     ]
    }
   ],
   "source": [
    "list1=[1,0.2,3,'world',5,'hello']\n",
    "list2=[1,'hello',1.3,list1]\n",
    "print(list1)\n",
    "print(list1[0])\n",
    "print(list1[1:3])\n",
    "print(list1[0::2])\n",
    "print(list1[-1::-1]) # 反轉\n",
    "print(list2) # nested list"
   ]
  },
  {
   "cell_type": "markdown",
   "id": "728975e4",
   "metadata": {},
   "source": [
    "### List 常用函式 \n",
    "+ len\n",
    "+ max/min/sum\n",
    "+ count\n",
    "+ index\n",
    "+ clear\n",
    "+ append <span style=\"color:red\">注意與extend的差異</span>\n",
    "+ extend <span style=\"color:red\">注意與append的差異</span>\n",
    "+ insert"
   ]
  },
  {
   "cell_type": "code",
   "execution_count": 168,
   "id": "eeb1aebd",
   "metadata": {},
   "outputs": [
    {
     "name": "stdout",
     "output_type": "stream",
     "text": [
      "6\n",
      "4\n",
      "10\n",
      "5\n",
      "-3\n",
      "10\n",
      "2\n",
      "0\n",
      "[-3, -2, -1, 0, 1, 1, 2, 3, 4, 5]\n"
     ]
    }
   ],
   "source": [
    "numbers=[1,2,3,4,5,1,0,-1,-2,-3]\n",
    "print(len(list1)) # list元素個數\n",
    "print(len(list2))\n",
    "print(len(numbers))\n",
    "print(max(numbers)) #最大的\n",
    "print(min(numbers)) #最小的\n",
    "print(sum(numbers)) #和\n",
    "print(numbers.count(1)) # 1有幾個\n",
    "print(numbers.index(1)) # 第一個1出現在第幾號\n",
    "\n",
    "# 排序\n",
    "numbers.sort() # numbers.sort(reverse=True)\n",
    "print(numbers)"
   ]
  },
  {
   "cell_type": "code",
   "execution_count": 170,
   "id": "341887c3",
   "metadata": {},
   "outputs": [
    {
     "name": "stdout",
     "output_type": "stream",
     "text": [
      "[]\n",
      "[1]\n",
      "[1, [7, 9, 10]]\n",
      "[1, [7, 9, 10], 7, 9, 10]\n",
      "[1, 12, [7, 9, 10], 7, 9, 10]\n",
      "[1, 12, 7, 9, 10]\n",
      "[1, 2, 3, 4, 5, 6, 7]\n",
      "[1, 1, 1, 1, 1]\n"
     ]
    }
   ],
   "source": [
    "numbers.clear()\n",
    "print(numbers)    # 清除所有元素\n",
    "\n",
    "numbers.append(1) # 從尾端加入一個元素\n",
    "print(numbers)\n",
    "\n",
    "numbers.append([7,9,10])# 從尾端加入一個元素[7,9,10]\n",
    "print(numbers)\n",
    "\n",
    "numbers.extend([7,9,10]) # 從尾端加入一list個元素\n",
    "print(numbers)\n",
    "\n",
    "numbers.insert(1,12) #1號位置插入12\n",
    "print(numbers)\n",
    "\n",
    "del numbers[2] #刪除第2號元素\n",
    "print(numbers)\n",
    "\n",
    "print([1,2,3]+[4,5,6,7]) # list串接\n",
    "\n",
    "ones = [1]*5 # list重複\n",
    "print(ones)"
   ]
  },
  {
   "cell_type": "markdown",
   "id": "43e38277",
   "metadata": {},
   "source": [
    "### 字串與list"
   ]
  },
  {
   "cell_type": "code",
   "execution_count": 173,
   "id": "cd02fbb6",
   "metadata": {},
   "outputs": [
    {
     "name": "stdout",
     "output_type": "stream",
     "text": [
      "['123', '456', '789']\n",
      "123,456,789\n"
     ]
    }
   ],
   "source": [
    "str1 = '123,456,789'\n",
    "list1 = str1.split(',') # 將字串 str 1以 ',' 字元拆解成 list\n",
    "print(list1)\n",
    " \n",
    "str2 =','.join(list1) # 將 list1 以 ',' 串接\n",
    "print(str2)"
   ]
  },
  {
   "cell_type": "markdown",
   "id": "33b7c6f0",
   "metadata": {},
   "source": [
    "## <span style=\"color:blue\">Immutable and Mutable Objects</span>\n",
    "\n",
    "深入討論: https://softwareengineering.stackexchange.com/questions/151733/if-immutable-objects-are-good-why-do-people-keep-creating-mutable-objects\n",
    "\n",
    "### Immutable Object (不可變的物件)\n",
    "+ 當物件被初始化放在記憶體後, 其內容就不可再改變\n",
    "+ 可使用 `id()` 函式查詢物件的 `object_id`\n",
    "+ 通常如 `int`, `float`, `str` 簡單類別同數值擁有相同 id\n",
    "+ 通常會使底層操作變快\n",
    "+ 通常操作有限,較不方便\n",
    "+ Tuple 也是 Immutable Object\n",
    "\n",
    "### Mutable Object (可變物件)\n",
    "+ 物件被初始化放在記憶體後, 其內容可隨時改變\n",
    "+ 每個物件都有獨立的 id\n",
    "+ 通常可操作的方法較多教方便\n",
    "+ 容易因人員或設計上的失誤而發生錯誤或拖累效率\n",
    "+ Python 中除了上述四個形態之外的物件皆是 Mutable Object\n",
    "\n",
    "#### 下列程式碼會產生錯誤"
   ]
  },
  {
   "cell_type": "code",
   "execution_count": 177,
   "id": "19033fa6",
   "metadata": {},
   "outputs": [
    {
     "ename": "TypeError",
     "evalue": "'str' object does not support item assignment",
     "output_type": "error",
     "traceback": [
      "\u001b[0;31m---------------------------------------------------------------------------\u001b[0m",
      "\u001b[0;31mTypeError\u001b[0m                                 Traceback (most recent call last)",
      "\u001b[0;32m<ipython-input-177-23b3ed177da8>\u001b[0m in \u001b[0;36m<module>\u001b[0;34m\u001b[0m\n\u001b[1;32m      1\u001b[0m \u001b[0mmsg\u001b[0m \u001b[0;34m=\u001b[0m \u001b[0;34m\"Hello World!\"\u001b[0m\u001b[0;34m\u001b[0m\u001b[0;34m\u001b[0m\u001b[0m\n\u001b[0;32m----> 2\u001b[0;31m \u001b[0mmsg\u001b[0m\u001b[0;34m[\u001b[0m\u001b[0;34m-\u001b[0m\u001b[0;36m1\u001b[0m\u001b[0;34m]\u001b[0m \u001b[0;34m=\u001b[0m \u001b[0;34m's'\u001b[0m\u001b[0;34m\u001b[0m\u001b[0;34m\u001b[0m\u001b[0m\n\u001b[0m",
      "\u001b[0;31mTypeError\u001b[0m: 'str' object does not support item assignment"
     ]
    }
   ],
   "source": [
    "msg = \"Hello World!\"\n",
    "msg[-1] = 's'"
   ]
  },
  {
   "cell_type": "markdown",
   "id": "7326179c",
   "metadata": {},
   "source": [
    "#### 下面例子，list2 不是 list1 的複製，他們指向同一物件，所以更改 list2 如同改 list1"
   ]
  },
  {
   "cell_type": "code",
   "execution_count": 175,
   "id": "b8e615e8",
   "metadata": {},
   "outputs": [
    {
     "name": "stdout",
     "output_type": "stream",
     "text": [
      "[1, 5, 3, 4]\n",
      "[1, 5, 3, 4]\n"
     ]
    }
   ],
   "source": [
    "list1 = [1,2,3,4]\n",
    "list2 = list1\n",
    "list2[1] = 5\n",
    "print(list1)\n",
    "print(list2)"
   ]
  },
  {
   "cell_type": "markdown",
   "id": "3d2eedfa",
   "metadata": {},
   "source": [
    "#### 下面例子，list2是list1的複製，他們指向不同一物件，所以更改list2不會改到list1"
   ]
  },
  {
   "cell_type": "code",
   "execution_count": 176,
   "id": "0bfe5586",
   "metadata": {},
   "outputs": [
    {
     "name": "stdout",
     "output_type": "stream",
     "text": [
      "[1, 2, 3, 4]\n",
      "[1, 5, 3, 4]\n"
     ]
    }
   ],
   "source": [
    "list1 = [1,2,3,4]\n",
    "list2 = list1.copy() # 或是 list(list1)\n",
    "list2[1] = 5\n",
    "print(list1)\n",
    "print(list2)"
   ]
  },
  {
   "cell_type": "markdown",
   "id": "7b40f6cb",
   "metadata": {},
   "source": [
    "-----\n",
    "# <span style=\"color:blue\"> 小結</span>\n",
    "掌握上述 Python 特性，大概可以用 Python 描述出可用 Ｃ 語言所能表達的程序性敘述。<br>\n",
    "注意 Python 畢竟是解譯式程式語言，撰寫 Python 程式時，更需要講究執行效能的寫法。"
   ]
  }
 ],
 "metadata": {
  "kernelspec": {
   "display_name": "Python 3",
   "language": "python",
   "name": "python3"
  },
  "language_info": {
   "codemirror_mode": {
    "name": "ipython",
    "version": 3
   },
   "file_extension": ".py",
   "mimetype": "text/x-python",
   "name": "python",
   "nbconvert_exporter": "python",
   "pygments_lexer": "ipython3",
   "version": "3.8.5"
  }
 },
 "nbformat": 4,
 "nbformat_minor": 5
}
